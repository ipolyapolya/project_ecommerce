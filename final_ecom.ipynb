{
 "cells": [
  {
   "cell_type": "markdown",
   "id": "a6c147a7",
   "metadata": {
    "toc": true
   },
   "source": [
    "<h1>Table of Contents<span class=\"tocSkip\"></span></h1>\n",
    "<div class=\"toc\"><ul class=\"toc-item\"><li><span><a href=\"#Выгрузка-и-знакомство-с-данными\" data-toc-modified-id=\"Выгрузка-и-знакомство-с-данными-1\"><span class=\"toc-item-num\">1&nbsp;&nbsp;</span>Выгрузка и знакомство с данными</a></span><ul class=\"toc-item\"><li><span><a href=\"#Выводы\" data-toc-modified-id=\"Выводы-1.1\"><span class=\"toc-item-num\">1.1&nbsp;&nbsp;</span>Выводы</a></span></li></ul></li><li><span><a href=\"#Предобработка-данных\" data-toc-modified-id=\"Предобработка-данных-2\"><span class=\"toc-item-num\">2&nbsp;&nbsp;</span>Предобработка данных</a></span><ul class=\"toc-item\"><li><span><a href=\"#Дубликаты\" data-toc-modified-id=\"Дубликаты-2.1\"><span class=\"toc-item-num\">2.1&nbsp;&nbsp;</span>Дубликаты</a></span></li><li><span><a href=\"#Формат-данных\" data-toc-modified-id=\"Формат-данных-2.2\"><span class=\"toc-item-num\">2.2&nbsp;&nbsp;</span>Формат данных</a></span></li><li><span><a href=\"#Дополнительные-преобразования\" data-toc-modified-id=\"Дополнительные-преобразования-2.3\"><span class=\"toc-item-num\">2.3&nbsp;&nbsp;</span>Дополнительные преобразования</a></span></li></ul></li><li><span><a href=\"#Исследовательский-анализ-данных\" data-toc-modified-id=\"Исследовательский-анализ-данных-3\"><span class=\"toc-item-num\">3&nbsp;&nbsp;</span>Исследовательский анализ данных</a></span><ul class=\"toc-item\"><li><span><a href=\"#Категоризация-товаров\" data-toc-modified-id=\"Категоризация-товаров-3.1\"><span class=\"toc-item-num\">3.1&nbsp;&nbsp;</span>Категоризация товаров</a></span><ul class=\"toc-item\"><li><span><a href=\"#Итог\" data-toc-modified-id=\"Итог-3.1.1\"><span class=\"toc-item-num\">3.1.1&nbsp;&nbsp;</span>Итог</a></span></li></ul></li><li><span><a href=\"#Данные-по-заказам\" data-toc-modified-id=\"Данные-по-заказам-3.2\"><span class=\"toc-item-num\">3.2&nbsp;&nbsp;</span>Данные по заказам</a></span><ul class=\"toc-item\"><li><span><a href=\"#Агрегирование-данных\" data-toc-modified-id=\"Агрегирование-данных-3.2.1\"><span class=\"toc-item-num\">3.2.1&nbsp;&nbsp;</span>Агрегирование данных</a></span></li><li><span><a href=\"#Анализ\" data-toc-modified-id=\"Анализ-3.2.2\"><span class=\"toc-item-num\">3.2.2&nbsp;&nbsp;</span>Анализ</a></span></li><li><span><a href=\"#Итог\" data-toc-modified-id=\"Итог-3.2.3\"><span class=\"toc-item-num\">3.2.3&nbsp;&nbsp;</span>Итог</a></span></li></ul></li><li><span><a href=\"#Данные-по-клиентам\" data-toc-modified-id=\"Данные-по-клиентам-3.3\"><span class=\"toc-item-num\">3.3&nbsp;&nbsp;</span>Данные по клиентам</a></span><ul class=\"toc-item\"><li><span><a href=\"#Агрегирование-данных\" data-toc-modified-id=\"Агрегирование-данных-3.3.1\"><span class=\"toc-item-num\">3.3.1&nbsp;&nbsp;</span>Агрегирование данных</a></span></li><li><span><a href=\"#Анализ\" data-toc-modified-id=\"Анализ-3.3.2\"><span class=\"toc-item-num\">3.3.2&nbsp;&nbsp;</span>Анализ</a></span></li><li><span><a href=\"#Итог\" data-toc-modified-id=\"Итог-3.3.3\"><span class=\"toc-item-num\">3.3.3&nbsp;&nbsp;</span>Итог</a></span></li></ul></li></ul></li><li><span><a href=\"#Сегментация-пользователей\" data-toc-modified-id=\"Сегментация-пользователей-4\"><span class=\"toc-item-num\">4&nbsp;&nbsp;</span>Сегментация пользователей</a></span><ul class=\"toc-item\"><li><span><a href=\"#по-любимой-категории\" data-toc-modified-id=\"по-любимой-категории-4.1\"><span class=\"toc-item-num\">4.1&nbsp;&nbsp;</span>по любимой категории</a></span><ul class=\"toc-item\"><li><span><a href=\"#Профили-покупателей-по-категориям\" data-toc-modified-id=\"Профили-покупателей-по-категориям-4.1.1\"><span class=\"toc-item-num\">4.1.1&nbsp;&nbsp;</span>Профили покупателей по категориям</a></span></li></ul></li><li><span><a href=\"#кластеризация-по-прибыльности-клиентов\" data-toc-modified-id=\"кластеризация-по-прибыльности-клиентов-4.2\"><span class=\"toc-item-num\">4.2&nbsp;&nbsp;</span>кластеризация по прибыльности клиентов</a></span></li><li><span><a href=\"#Проверка-гипотез\" data-toc-modified-id=\"Проверка-гипотез-4.3\"><span class=\"toc-item-num\">4.3&nbsp;&nbsp;</span>Проверка гипотез</a></span></li></ul></li><li><span><a href=\"#Итоговые-выводы-и-рекомендации\" data-toc-modified-id=\"Итоговые-выводы-и-рекомендации-5\"><span class=\"toc-item-num\">5&nbsp;&nbsp;</span>Итоговые выводы и рекомендации</a></span></li></ul></div>"
   ]
  },
  {
   "cell_type": "markdown",
   "id": "ca5fdf4a",
   "metadata": {},
   "source": [
    "# Финальный проект "
   ]
  },
  {
   "cell_type": "markdown",
   "id": "65455203",
   "metadata": {},
   "source": [
    "**Презентация:** https://disk.yandex.ru/i/9Lhwcso9I_LCNg\n",
    "\n",
    "**Ссылка на дашборд:** https://public.tableau.com/views/final_16648974159590/Dashboard1?:language=en-US&publish=yes&:display_count=n&:origin=viz_share_link"
   ]
  },
  {
   "cell_type": "markdown",
   "id": "df092ef3",
   "metadata": {},
   "source": [
    "**Вводная информация:** данные интернет-магазина товаров для дома \"Пока все еще тут\""
   ]
  },
  {
   "cell_type": "markdown",
   "id": "63f70a92",
   "metadata": {},
   "source": [
    "**Цель:** сегментировать покупателей по профилю потребления"
   ]
  },
  {
   "cell_type": "markdown",
   "id": "f1321cf6",
   "metadata": {},
   "source": [
    "**Этапы:**\n",
    "1. Выгрузка и знакомство с данными \n",
    "2. Подготовка данных \n",
    "- анализ пропусков\n",
    "- дубликаты (явные + неявные)\n",
    "- аномальных значений \n",
    "- приведение даты в нужный формат\n",
    "- разбиение колонки с товарами\n",
    "3. Исследовательский анализ (распределение данные, метрики)\n",
    "4. Сегментация покупателей: создание профилей покупателей + кластеризация\n",
    "5. Проверка статистических гипотез\n",
    "6. Выводы\n",
    "7. Создание дашбордов\n",
    "8. Создание презентации"
   ]
  },
  {
   "cell_type": "markdown",
   "id": "ef48e496",
   "metadata": {},
   "source": [
    "**Описание данных**\n",
    "- date — дата заказа;\n",
    "- customer_id — идентификатор покупателя;\n",
    "- order_id — идентификатор заказа;\n",
    "- product — наименование товара;\n",
    "- quantity — количество товара в заказе;\n",
    "- price — цена товара"
   ]
  },
  {
   "cell_type": "code",
   "execution_count": 181,
   "id": "87c91c1e",
   "metadata": {},
   "outputs": [],
   "source": [
    "import pandas as pd\n",
    "import numpy as np\n",
    "import seaborn as sns\n",
    "import matplotlib.pyplot as plt\n",
    "from scipy import stats as st\n",
    "from datetime import datetime, timedelta\n",
    "import re\n",
    "\n",
    "%matplotlib inline"
   ]
  },
  {
   "cell_type": "markdown",
   "id": "5901c98a",
   "metadata": {},
   "source": [
    "## Выгрузка и знакомство с данными"
   ]
  },
  {
   "cell_type": "code",
   "execution_count": 182,
   "id": "015947f5",
   "metadata": {},
   "outputs": [],
   "source": [
    "try:\n",
    "    df = pd.read_csv('ecommerce_dataset.csv')\n",
    "except:\n",
    "    df = pd.read_csv('/datasets/ecommerce_dataset.csv')"
   ]
  },
  {
   "cell_type": "code",
   "execution_count": 183,
   "id": "b787f0f1",
   "metadata": {},
   "outputs": [
    {
     "data": {
      "text/html": [
       "<div>\n",
       "<style scoped>\n",
       "    .dataframe tbody tr th:only-of-type {\n",
       "        vertical-align: middle;\n",
       "    }\n",
       "\n",
       "    .dataframe tbody tr th {\n",
       "        vertical-align: top;\n",
       "    }\n",
       "\n",
       "    .dataframe thead th {\n",
       "        text-align: right;\n",
       "    }\n",
       "</style>\n",
       "<table border=\"1\" class=\"dataframe\">\n",
       "  <thead>\n",
       "    <tr style=\"text-align: right;\">\n",
       "      <th></th>\n",
       "      <th>date</th>\n",
       "      <th>customer_id</th>\n",
       "      <th>order_id</th>\n",
       "      <th>product</th>\n",
       "      <th>quantity</th>\n",
       "      <th>price</th>\n",
       "    </tr>\n",
       "  </thead>\n",
       "  <tbody>\n",
       "    <tr>\n",
       "      <th>0</th>\n",
       "      <td>2018100100</td>\n",
       "      <td>ee47d746-6d2f-4d3c-9622-c31412542920</td>\n",
       "      <td>68477</td>\n",
       "      <td>Комнатное растение в горшке Алое Вера, d12, h30</td>\n",
       "      <td>1</td>\n",
       "      <td>142.0</td>\n",
       "    </tr>\n",
       "    <tr>\n",
       "      <th>1</th>\n",
       "      <td>2018100100</td>\n",
       "      <td>ee47d746-6d2f-4d3c-9622-c31412542920</td>\n",
       "      <td>68477</td>\n",
       "      <td>Комнатное растение в горшке Кофе Арабика, d12,...</td>\n",
       "      <td>1</td>\n",
       "      <td>194.0</td>\n",
       "    </tr>\n",
       "    <tr>\n",
       "      <th>2</th>\n",
       "      <td>2018100100</td>\n",
       "      <td>ee47d746-6d2f-4d3c-9622-c31412542920</td>\n",
       "      <td>68477</td>\n",
       "      <td>Радермахера d-12 см h-20 см</td>\n",
       "      <td>1</td>\n",
       "      <td>112.0</td>\n",
       "    </tr>\n",
       "    <tr>\n",
       "      <th>3</th>\n",
       "      <td>2018100100</td>\n",
       "      <td>ee47d746-6d2f-4d3c-9622-c31412542920</td>\n",
       "      <td>68477</td>\n",
       "      <td>Хризолидокарпус Лутесценс d-9 см</td>\n",
       "      <td>1</td>\n",
       "      <td>179.0</td>\n",
       "    </tr>\n",
       "    <tr>\n",
       "      <th>4</th>\n",
       "      <td>2018100100</td>\n",
       "      <td>ee47d746-6d2f-4d3c-9622-c31412542920</td>\n",
       "      <td>68477</td>\n",
       "      <td>Циперус Зумула d-12 см h-25 см</td>\n",
       "      <td>1</td>\n",
       "      <td>112.0</td>\n",
       "    </tr>\n",
       "  </tbody>\n",
       "</table>\n",
       "</div>"
      ],
      "text/plain": [
       "         date                           customer_id  order_id  \\\n",
       "0  2018100100  ee47d746-6d2f-4d3c-9622-c31412542920     68477   \n",
       "1  2018100100  ee47d746-6d2f-4d3c-9622-c31412542920     68477   \n",
       "2  2018100100  ee47d746-6d2f-4d3c-9622-c31412542920     68477   \n",
       "3  2018100100  ee47d746-6d2f-4d3c-9622-c31412542920     68477   \n",
       "4  2018100100  ee47d746-6d2f-4d3c-9622-c31412542920     68477   \n",
       "\n",
       "                                             product  quantity  price  \n",
       "0    Комнатное растение в горшке Алое Вера, d12, h30         1  142.0  \n",
       "1  Комнатное растение в горшке Кофе Арабика, d12,...         1  194.0  \n",
       "2                        Радермахера d-12 см h-20 см         1  112.0  \n",
       "3                   Хризолидокарпус Лутесценс d-9 см         1  179.0  \n",
       "4                     Циперус Зумула d-12 см h-25 см         1  112.0  "
      ]
     },
     "execution_count": 183,
     "metadata": {},
     "output_type": "execute_result"
    }
   ],
   "source": [
    "df.head()"
   ]
  },
  {
   "cell_type": "code",
   "execution_count": 184,
   "id": "b0edab30",
   "metadata": {
    "scrolled": true
   },
   "outputs": [
    {
     "name": "stdout",
     "output_type": "stream",
     "text": [
      "<class 'pandas.core.frame.DataFrame'>\n",
      "RangeIndex: 6737 entries, 0 to 6736\n",
      "Data columns (total 6 columns):\n",
      " #   Column       Non-Null Count  Dtype  \n",
      "---  ------       --------------  -----  \n",
      " 0   date         6737 non-null   int64  \n",
      " 1   customer_id  6737 non-null   object \n",
      " 2   order_id     6737 non-null   int64  \n",
      " 3   product      6737 non-null   object \n",
      " 4   quantity     6737 non-null   int64  \n",
      " 5   price        6737 non-null   float64\n",
      "dtypes: float64(1), int64(3), object(2)\n",
      "memory usage: 315.9+ KB\n"
     ]
    }
   ],
   "source": [
    "df.info()"
   ]
  },
  {
   "cell_type": "code",
   "execution_count": 185,
   "id": "17e19533",
   "metadata": {},
   "outputs": [
    {
     "data": {
      "text/plain": [
       "2451"
      ]
     },
     "execution_count": 185,
     "metadata": {},
     "output_type": "execute_result"
    }
   ],
   "source": [
    "df['customer_id'].nunique()"
   ]
  },
  {
   "cell_type": "code",
   "execution_count": 186,
   "id": "f8f4ea09",
   "metadata": {},
   "outputs": [
    {
     "data": {
      "text/plain": [
       "2784"
      ]
     },
     "execution_count": 186,
     "metadata": {},
     "output_type": "execute_result"
    }
   ],
   "source": [
    "df['order_id'].nunique()"
   ]
  },
  {
   "cell_type": "markdown",
   "id": "8dd0b4bd",
   "metadata": {},
   "source": [
    "### Выводы"
   ]
  },
  {
   "cell_type": "markdown",
   "id": "545e97a1",
   "metadata": {},
   "source": [
    "- датасет состоит из 6737 строк и 6 столбцов\n",
    "- пропусков нет\n",
    "\n",
    "**Надо сделать**:\n",
    "- поменять тип данных в колонке с датой\n",
    "- проверить на явные и неявные дубликаты\n",
    "- **добавить столбцы:**: с категориями товаров, с днем недели и часом, суммой заказа (цена * количество)"
   ]
  },
  {
   "cell_type": "markdown",
   "id": "bc9047a9",
   "metadata": {},
   "source": [
    "## Предобработка данных"
   ]
  },
  {
   "cell_type": "markdown",
   "id": "8f484888",
   "metadata": {},
   "source": [
    "### Дубликаты"
   ]
  },
  {
   "cell_type": "markdown",
   "id": "ed7a2829",
   "metadata": {},
   "source": [
    "Выявим явные дубликаты, а также проверим датасет на неявные. При наличии - удалим эти строки из датасета"
   ]
  },
  {
   "cell_type": "code",
   "execution_count": 187,
   "id": "40147c42",
   "metadata": {},
   "outputs": [
    {
     "data": {
      "text/plain": [
       "0"
      ]
     },
     "execution_count": 187,
     "metadata": {},
     "output_type": "execute_result"
    }
   ],
   "source": [
    "# явные дубликаты\n",
    "df.duplicated().sum()"
   ]
  },
  {
   "cell_type": "code",
   "execution_count": 188,
   "id": "3de27509",
   "metadata": {},
   "outputs": [
    {
     "data": {
      "text/plain": [
       "2343"
      ]
     },
     "execution_count": 188,
     "metadata": {},
     "output_type": "execute_result"
    }
   ],
   "source": [
    "df['product'].nunique()"
   ]
  },
  {
   "cell_type": "markdown",
   "id": "6fe4b6de",
   "metadata": {},
   "source": [
    "Явных дубликатов нет, проверим неявные: они могут быть связаны с разной капитализацией названий товаров. Чтобы это исправить, приведем все к нижнему регистру"
   ]
  },
  {
   "cell_type": "code",
   "execution_count": 189,
   "id": "7280b610",
   "metadata": {},
   "outputs": [],
   "source": [
    "# приводим названия покупок в нижний регистр\n",
    "df['product'] = df['product'].str.lower()"
   ]
  },
  {
   "cell_type": "code",
   "execution_count": 190,
   "id": "d2935757",
   "metadata": {},
   "outputs": [
    {
     "data": {
      "text/plain": [
       "2341"
      ]
     },
     "execution_count": 190,
     "metadata": {},
     "output_type": "execute_result"
    }
   ],
   "source": [
    "df['product'].nunique()"
   ]
  },
  {
   "cell_type": "markdown",
   "id": "3cd8ec45",
   "metadata": {},
   "source": [
    "### Формат данных"
   ]
  },
  {
   "cell_type": "code",
   "execution_count": 191,
   "id": "efce54c4",
   "metadata": {
    "scrolled": true
   },
   "outputs": [
    {
     "data": {
      "text/plain": [
       "array([2018100100, 2018100108, 2018100109, ..., 2019103113, 2019103114,\n",
       "       2019103116], dtype=int64)"
      ]
     },
     "execution_count": 191,
     "metadata": {},
     "output_type": "execute_result"
    }
   ],
   "source": [
    "df['date'].unique()"
   ]
  },
  {
   "cell_type": "markdown",
   "id": "844602c9",
   "metadata": {},
   "source": [
    "Приведем дату к нужному виду: год-месяц-число-час"
   ]
  },
  {
   "cell_type": "code",
   "execution_count": 192,
   "id": "fbcb48d2",
   "metadata": {},
   "outputs": [],
   "source": [
    "df['date'] = pd.to_datetime(df['date'], format='%Y%m%d%H')"
   ]
  },
  {
   "cell_type": "code",
   "execution_count": 193,
   "id": "dbc25e4d",
   "metadata": {},
   "outputs": [
    {
     "data": {
      "text/html": [
       "<div>\n",
       "<style scoped>\n",
       "    .dataframe tbody tr th:only-of-type {\n",
       "        vertical-align: middle;\n",
       "    }\n",
       "\n",
       "    .dataframe tbody tr th {\n",
       "        vertical-align: top;\n",
       "    }\n",
       "\n",
       "    .dataframe thead th {\n",
       "        text-align: right;\n",
       "    }\n",
       "</style>\n",
       "<table border=\"1\" class=\"dataframe\">\n",
       "  <thead>\n",
       "    <tr style=\"text-align: right;\">\n",
       "      <th></th>\n",
       "      <th>date</th>\n",
       "      <th>customer_id</th>\n",
       "      <th>order_id</th>\n",
       "      <th>product</th>\n",
       "      <th>quantity</th>\n",
       "      <th>price</th>\n",
       "    </tr>\n",
       "  </thead>\n",
       "  <tbody>\n",
       "    <tr>\n",
       "      <th>0</th>\n",
       "      <td>2018-10-01</td>\n",
       "      <td>ee47d746-6d2f-4d3c-9622-c31412542920</td>\n",
       "      <td>68477</td>\n",
       "      <td>комнатное растение в горшке алое вера, d12, h30</td>\n",
       "      <td>1</td>\n",
       "      <td>142.0</td>\n",
       "    </tr>\n",
       "    <tr>\n",
       "      <th>1</th>\n",
       "      <td>2018-10-01</td>\n",
       "      <td>ee47d746-6d2f-4d3c-9622-c31412542920</td>\n",
       "      <td>68477</td>\n",
       "      <td>комнатное растение в горшке кофе арабика, d12,...</td>\n",
       "      <td>1</td>\n",
       "      <td>194.0</td>\n",
       "    </tr>\n",
       "  </tbody>\n",
       "</table>\n",
       "</div>"
      ],
      "text/plain": [
       "        date                           customer_id  order_id  \\\n",
       "0 2018-10-01  ee47d746-6d2f-4d3c-9622-c31412542920     68477   \n",
       "1 2018-10-01  ee47d746-6d2f-4d3c-9622-c31412542920     68477   \n",
       "\n",
       "                                             product  quantity  price  \n",
       "0    комнатное растение в горшке алое вера, d12, h30         1  142.0  \n",
       "1  комнатное растение в горшке кофе арабика, d12,...         1  194.0  "
      ]
     },
     "execution_count": 193,
     "metadata": {},
     "output_type": "execute_result"
    }
   ],
   "source": [
    "df.head(2)"
   ]
  },
  {
   "cell_type": "code",
   "execution_count": 194,
   "id": "8c07ffe3",
   "metadata": {},
   "outputs": [
    {
     "data": {
      "text/plain": [
       "Timestamp('2018-10-01 00:00:00')"
      ]
     },
     "execution_count": 194,
     "metadata": {},
     "output_type": "execute_result"
    }
   ],
   "source": [
    "df['date'].min()"
   ]
  },
  {
   "cell_type": "code",
   "execution_count": 195,
   "id": "544f68c4",
   "metadata": {},
   "outputs": [
    {
     "data": {
      "text/plain": [
       "Timestamp('2019-10-31 16:00:00')"
      ]
     },
     "execution_count": 195,
     "metadata": {},
     "output_type": "execute_result"
    }
   ],
   "source": [
    "df['date'].max()"
   ]
  },
  {
   "cell_type": "markdown",
   "id": "857b4cb4",
   "metadata": {},
   "source": [
    "Данные в датасете за год: с 1 октября 2018 до 31 октября 2019"
   ]
  },
  {
   "cell_type": "markdown",
   "id": "c797e822",
   "metadata": {},
   "source": [
    "**Удаляю дубликаты (без учета даты)**"
   ]
  },
  {
   "cell_type": "code",
   "execution_count": 196,
   "id": "ee31c687",
   "metadata": {},
   "outputs": [
    {
     "data": {
      "text/plain": [
       "1864"
      ]
     },
     "execution_count": 196,
     "metadata": {},
     "output_type": "execute_result"
    }
   ],
   "source": [
    "df[['customer_id', 'order_id', 'product', 'quantity', 'price']].duplicated().sum()"
   ]
  },
  {
   "cell_type": "code",
   "execution_count": 197,
   "id": "e3e9194f",
   "metadata": {},
   "outputs": [],
   "source": [
    "df = df.drop_duplicates(subset=['customer_id', 'order_id', 'product', 'quantity', 'price'])"
   ]
  },
  {
   "cell_type": "code",
   "execution_count": 198,
   "id": "be89d66f",
   "metadata": {},
   "outputs": [
    {
     "name": "stdout",
     "output_type": "stream",
     "text": [
      "<class 'pandas.core.frame.DataFrame'>\n",
      "Int64Index: 4873 entries, 0 to 6735\n",
      "Data columns (total 6 columns):\n",
      " #   Column       Non-Null Count  Dtype         \n",
      "---  ------       --------------  -----         \n",
      " 0   date         4873 non-null   datetime64[ns]\n",
      " 1   customer_id  4873 non-null   object        \n",
      " 2   order_id     4873 non-null   int64         \n",
      " 3   product      4873 non-null   object        \n",
      " 4   quantity     4873 non-null   int64         \n",
      " 5   price        4873 non-null   float64       \n",
      "dtypes: datetime64[ns](1), float64(1), int64(2), object(2)\n",
      "memory usage: 266.5+ KB\n"
     ]
    }
   ],
   "source": [
    "df.info()"
   ]
  },
  {
   "cell_type": "markdown",
   "id": "85cf22a0",
   "metadata": {},
   "source": [
    "### Дополнительные преобразования"
   ]
  },
  {
   "cell_type": "markdown",
   "id": "de545837",
   "metadata": {},
   "source": [
    "Для начала надо разобраться с названием товаров, чтобы их легче было категоризировать. Итак, мы сначала разделим длинные названия по отдельному слову в список, а затем уберем из этого списка все, что не относится к смысловым словам (знаки, цифры, предлоги)."
   ]
  },
  {
   "cell_type": "code",
   "execution_count": 199,
   "id": "9876393b",
   "metadata": {},
   "outputs": [],
   "source": [
    "# разделяем колонку с товарами на список слов\n",
    "df['product_name'] = df['product'].str.split(' ')"
   ]
  },
  {
   "cell_type": "code",
   "execution_count": 200,
   "id": "5cd52008",
   "metadata": {},
   "outputs": [],
   "source": [
    "# функция для выделения только смысловых слов (без цифр, предлогов)\n",
    "def separation(df):\n",
    "    for idx, row in df.iterrows():\n",
    "        for i in row[6]:\n",
    "            if len(i) <= 3 or re.search('\\d+', i) is not None:\n",
    "                row[6].remove(i)"
   ]
  },
  {
   "cell_type": "code",
   "execution_count": 201,
   "id": "83fdb024",
   "metadata": {},
   "outputs": [],
   "source": [
    "separation(df)\n",
    "separation(df)\n",
    "separation(df)"
   ]
  },
  {
   "cell_type": "code",
   "execution_count": 202,
   "id": "514db076",
   "metadata": {},
   "outputs": [],
   "source": [
    "# для каждой строки объединяем список со словами в одну строку\n",
    "df['product_name'] = df['product_name'].apply(lambda x: ' '.join(map(str, x)))"
   ]
  },
  {
   "cell_type": "code",
   "execution_count": 203,
   "id": "5d3f0498",
   "metadata": {},
   "outputs": [],
   "source": [
    "df['product_name'] = df['product_name'].replace(',', '')"
   ]
  },
  {
   "cell_type": "code",
   "execution_count": 204,
   "id": "09c01999",
   "metadata": {},
   "outputs": [],
   "source": [
    "df['product_name'] = df['product_name'].str.lower()"
   ]
  },
  {
   "cell_type": "code",
   "execution_count": 205,
   "id": "315f5175",
   "metadata": {},
   "outputs": [],
   "source": [
    "# каждая строка заканчивается запятой, убираем ее \n",
    "for i in df['product_name']:\n",
    "    if i.endswith(',') == True:\n",
    "        df.loc[df['product_name']==i, 'product_name'] = i[:-1]"
   ]
  },
  {
   "cell_type": "code",
   "execution_count": 206,
   "id": "e9d65dca",
   "metadata": {
    "scrolled": false
   },
   "outputs": [
    {
     "data": {
      "text/html": [
       "<div>\n",
       "<style scoped>\n",
       "    .dataframe tbody tr th:only-of-type {\n",
       "        vertical-align: middle;\n",
       "    }\n",
       "\n",
       "    .dataframe tbody tr th {\n",
       "        vertical-align: top;\n",
       "    }\n",
       "\n",
       "    .dataframe thead th {\n",
       "        text-align: right;\n",
       "    }\n",
       "</style>\n",
       "<table border=\"1\" class=\"dataframe\">\n",
       "  <thead>\n",
       "    <tr style=\"text-align: right;\">\n",
       "      <th></th>\n",
       "      <th>date</th>\n",
       "      <th>customer_id</th>\n",
       "      <th>order_id</th>\n",
       "      <th>product</th>\n",
       "      <th>quantity</th>\n",
       "      <th>price</th>\n",
       "      <th>product_name</th>\n",
       "    </tr>\n",
       "  </thead>\n",
       "  <tbody>\n",
       "    <tr>\n",
       "      <th>0</th>\n",
       "      <td>2018-10-01</td>\n",
       "      <td>ee47d746-6d2f-4d3c-9622-c31412542920</td>\n",
       "      <td>68477</td>\n",
       "      <td>комнатное растение в горшке алое вера, d12, h30</td>\n",
       "      <td>1</td>\n",
       "      <td>142.0</td>\n",
       "      <td>комнатное растение горшке алое вера</td>\n",
       "    </tr>\n",
       "    <tr>\n",
       "      <th>1</th>\n",
       "      <td>2018-10-01</td>\n",
       "      <td>ee47d746-6d2f-4d3c-9622-c31412542920</td>\n",
       "      <td>68477</td>\n",
       "      <td>комнатное растение в горшке кофе арабика, d12,...</td>\n",
       "      <td>1</td>\n",
       "      <td>194.0</td>\n",
       "      <td>комнатное растение горшке кофе арабика</td>\n",
       "    </tr>\n",
       "    <tr>\n",
       "      <th>2</th>\n",
       "      <td>2018-10-01</td>\n",
       "      <td>ee47d746-6d2f-4d3c-9622-c31412542920</td>\n",
       "      <td>68477</td>\n",
       "      <td>радермахера d-12 см h-20 см</td>\n",
       "      <td>1</td>\n",
       "      <td>112.0</td>\n",
       "      <td>радермахера</td>\n",
       "    </tr>\n",
       "    <tr>\n",
       "      <th>3</th>\n",
       "      <td>2018-10-01</td>\n",
       "      <td>ee47d746-6d2f-4d3c-9622-c31412542920</td>\n",
       "      <td>68477</td>\n",
       "      <td>хризолидокарпус лутесценс d-9 см</td>\n",
       "      <td>1</td>\n",
       "      <td>179.0</td>\n",
       "      <td>хризолидокарпус лутесценс</td>\n",
       "    </tr>\n",
       "    <tr>\n",
       "      <th>4</th>\n",
       "      <td>2018-10-01</td>\n",
       "      <td>ee47d746-6d2f-4d3c-9622-c31412542920</td>\n",
       "      <td>68477</td>\n",
       "      <td>циперус зумула d-12 см h-25 см</td>\n",
       "      <td>1</td>\n",
       "      <td>112.0</td>\n",
       "      <td>циперус зумула</td>\n",
       "    </tr>\n",
       "  </tbody>\n",
       "</table>\n",
       "</div>"
      ],
      "text/plain": [
       "        date                           customer_id  order_id  \\\n",
       "0 2018-10-01  ee47d746-6d2f-4d3c-9622-c31412542920     68477   \n",
       "1 2018-10-01  ee47d746-6d2f-4d3c-9622-c31412542920     68477   \n",
       "2 2018-10-01  ee47d746-6d2f-4d3c-9622-c31412542920     68477   \n",
       "3 2018-10-01  ee47d746-6d2f-4d3c-9622-c31412542920     68477   \n",
       "4 2018-10-01  ee47d746-6d2f-4d3c-9622-c31412542920     68477   \n",
       "\n",
       "                                             product  quantity  price  \\\n",
       "0    комнатное растение в горшке алое вера, d12, h30         1  142.0   \n",
       "1  комнатное растение в горшке кофе арабика, d12,...         1  194.0   \n",
       "2                        радермахера d-12 см h-20 см         1  112.0   \n",
       "3                   хризолидокарпус лутесценс d-9 см         1  179.0   \n",
       "4                     циперус зумула d-12 см h-25 см         1  112.0   \n",
       "\n",
       "                             product_name  \n",
       "0     комнатное растение горшке алое вера  \n",
       "1  комнатное растение горшке кофе арабика  \n",
       "2                             радермахера  \n",
       "3               хризолидокарпус лутесценс  \n",
       "4                          циперус зумула  "
      ]
     },
     "execution_count": 206,
     "metadata": {},
     "output_type": "execute_result"
    }
   ],
   "source": [
    "# смотрим на получившуюся колонку\n",
    "df.head()"
   ]
  },
  {
   "cell_type": "code",
   "execution_count": 207,
   "id": "1273e5fa",
   "metadata": {
    "scrolled": false
   },
   "outputs": [
    {
     "data": {
      "text/plain": [
       "2164"
      ]
     },
     "execution_count": 207,
     "metadata": {},
     "output_type": "execute_result"
    }
   ],
   "source": [
    "# количество уникальных названий товаров уменьшилось (значит, неявных дубликатов стало меньше)\n",
    "df['product_name'].nunique()"
   ]
  },
  {
   "cell_type": "markdown",
   "id": "c25fc19e",
   "metadata": {},
   "source": [
    "Для более удобного анализа стоит добавить отдельные колонки с днем недели, с часом совершения заказа, а также с общей стоимостью"
   ]
  },
  {
   "cell_type": "code",
   "execution_count": 208,
   "id": "f261ed26",
   "metadata": {},
   "outputs": [],
   "source": [
    "# добавляем столбец с днями недели, где 0 - monday, 6 - sunday\n",
    "df['weekday'] = pd.to_datetime(df['date']).dt.dayofweek"
   ]
  },
  {
   "cell_type": "code",
   "execution_count": 209,
   "id": "cae7e1ee",
   "metadata": {},
   "outputs": [],
   "source": [
    "# добавляем столбец с часом совершения заказа\n",
    "df['hour'] = df['date'].dt.hour"
   ]
  },
  {
   "cell_type": "code",
   "execution_count": 210,
   "id": "2a1e34c1",
   "metadata": {},
   "outputs": [],
   "source": [
    "# общая сумма \n",
    "df['total_price'] = df['quantity'] * df['price']"
   ]
  },
  {
   "cell_type": "code",
   "execution_count": 211,
   "id": "d23ba676",
   "metadata": {
    "scrolled": true
   },
   "outputs": [
    {
     "data": {
      "text/html": [
       "<div>\n",
       "<style scoped>\n",
       "    .dataframe tbody tr th:only-of-type {\n",
       "        vertical-align: middle;\n",
       "    }\n",
       "\n",
       "    .dataframe tbody tr th {\n",
       "        vertical-align: top;\n",
       "    }\n",
       "\n",
       "    .dataframe thead th {\n",
       "        text-align: right;\n",
       "    }\n",
       "</style>\n",
       "<table border=\"1\" class=\"dataframe\">\n",
       "  <thead>\n",
       "    <tr style=\"text-align: right;\">\n",
       "      <th></th>\n",
       "      <th>date</th>\n",
       "      <th>customer_id</th>\n",
       "      <th>order_id</th>\n",
       "      <th>product</th>\n",
       "      <th>quantity</th>\n",
       "      <th>price</th>\n",
       "      <th>product_name</th>\n",
       "      <th>weekday</th>\n",
       "      <th>hour</th>\n",
       "      <th>total_price</th>\n",
       "    </tr>\n",
       "  </thead>\n",
       "  <tbody>\n",
       "    <tr>\n",
       "      <th>0</th>\n",
       "      <td>2018-10-01</td>\n",
       "      <td>ee47d746-6d2f-4d3c-9622-c31412542920</td>\n",
       "      <td>68477</td>\n",
       "      <td>комнатное растение в горшке алое вера, d12, h30</td>\n",
       "      <td>1</td>\n",
       "      <td>142.0</td>\n",
       "      <td>комнатное растение горшке алое вера</td>\n",
       "      <td>0</td>\n",
       "      <td>0</td>\n",
       "      <td>142.0</td>\n",
       "    </tr>\n",
       "    <tr>\n",
       "      <th>1</th>\n",
       "      <td>2018-10-01</td>\n",
       "      <td>ee47d746-6d2f-4d3c-9622-c31412542920</td>\n",
       "      <td>68477</td>\n",
       "      <td>комнатное растение в горшке кофе арабика, d12,...</td>\n",
       "      <td>1</td>\n",
       "      <td>194.0</td>\n",
       "      <td>комнатное растение горшке кофе арабика</td>\n",
       "      <td>0</td>\n",
       "      <td>0</td>\n",
       "      <td>194.0</td>\n",
       "    </tr>\n",
       "    <tr>\n",
       "      <th>2</th>\n",
       "      <td>2018-10-01</td>\n",
       "      <td>ee47d746-6d2f-4d3c-9622-c31412542920</td>\n",
       "      <td>68477</td>\n",
       "      <td>радермахера d-12 см h-20 см</td>\n",
       "      <td>1</td>\n",
       "      <td>112.0</td>\n",
       "      <td>радермахера</td>\n",
       "      <td>0</td>\n",
       "      <td>0</td>\n",
       "      <td>112.0</td>\n",
       "    </tr>\n",
       "    <tr>\n",
       "      <th>3</th>\n",
       "      <td>2018-10-01</td>\n",
       "      <td>ee47d746-6d2f-4d3c-9622-c31412542920</td>\n",
       "      <td>68477</td>\n",
       "      <td>хризолидокарпус лутесценс d-9 см</td>\n",
       "      <td>1</td>\n",
       "      <td>179.0</td>\n",
       "      <td>хризолидокарпус лутесценс</td>\n",
       "      <td>0</td>\n",
       "      <td>0</td>\n",
       "      <td>179.0</td>\n",
       "    </tr>\n",
       "    <tr>\n",
       "      <th>4</th>\n",
       "      <td>2018-10-01</td>\n",
       "      <td>ee47d746-6d2f-4d3c-9622-c31412542920</td>\n",
       "      <td>68477</td>\n",
       "      <td>циперус зумула d-12 см h-25 см</td>\n",
       "      <td>1</td>\n",
       "      <td>112.0</td>\n",
       "      <td>циперус зумула</td>\n",
       "      <td>0</td>\n",
       "      <td>0</td>\n",
       "      <td>112.0</td>\n",
       "    </tr>\n",
       "  </tbody>\n",
       "</table>\n",
       "</div>"
      ],
      "text/plain": [
       "        date                           customer_id  order_id  \\\n",
       "0 2018-10-01  ee47d746-6d2f-4d3c-9622-c31412542920     68477   \n",
       "1 2018-10-01  ee47d746-6d2f-4d3c-9622-c31412542920     68477   \n",
       "2 2018-10-01  ee47d746-6d2f-4d3c-9622-c31412542920     68477   \n",
       "3 2018-10-01  ee47d746-6d2f-4d3c-9622-c31412542920     68477   \n",
       "4 2018-10-01  ee47d746-6d2f-4d3c-9622-c31412542920     68477   \n",
       "\n",
       "                                             product  quantity  price  \\\n",
       "0    комнатное растение в горшке алое вера, d12, h30         1  142.0   \n",
       "1  комнатное растение в горшке кофе арабика, d12,...         1  194.0   \n",
       "2                        радермахера d-12 см h-20 см         1  112.0   \n",
       "3                   хризолидокарпус лутесценс d-9 см         1  179.0   \n",
       "4                     циперус зумула d-12 см h-25 см         1  112.0   \n",
       "\n",
       "                             product_name  weekday  hour  total_price  \n",
       "0     комнатное растение горшке алое вера        0     0        142.0  \n",
       "1  комнатное растение горшке кофе арабика        0     0        194.0  \n",
       "2                             радермахера        0     0        112.0  \n",
       "3               хризолидокарпус лутесценс        0     0        179.0  \n",
       "4                          циперус зумула        0     0        112.0  "
      ]
     },
     "execution_count": 211,
     "metadata": {},
     "output_type": "execute_result"
    }
   ],
   "source": [
    "df.head()"
   ]
  },
  {
   "cell_type": "markdown",
   "id": "2ed85a2f",
   "metadata": {},
   "source": [
    "## Исследовательский анализ данных"
   ]
  },
  {
   "cell_type": "markdown",
   "id": "9f13e42a",
   "metadata": {},
   "source": [
    "### Категоризация товаров"
   ]
  },
  {
   "cell_type": "code",
   "execution_count": 212,
   "id": "85b7938a",
   "metadata": {},
   "outputs": [
    {
     "data": {
      "text/plain": [
       "['комнатное растение горшке алое вера',\n",
       " 'комнатное растение горшке кофе арабика',\n",
       " 'радермахера',\n",
       " 'хризолидокарпус лутесценс',\n",
       " 'циперус зумула',\n",
       " 'шеффлера лузеана',\n",
       " 'юкка нитчатая',\n",
       " 'настенная сушилка белья gimi brio super',\n",
       " 'пластмассовый круглый \"водолей\"',\n",
       " 'чехол гладильной доски colombo persia beige хлопка',\n",
       " 'вешалка брюк металлическая резиновым покрытием цвет: синяя, attribute',\n",
       " 'сушилка белья потолочная zalger lift basic',\n",
       " 'чехол eurogold clean basic хлопок досок',\n",
       " 'крючок одежный рожковый серый металлик полимерным покрытием *тонар*',\n",
       " 'корзина мягкая пластиковая м-пластика',\n",
       " 'мини-сковорода marmiton \"сердце\" антипригарным покрытием',\n",
       " 'сковорода алюминиевая антипригарным покрытием marble alpenkok',\n",
       " 'стеклянная крышка сковороды alpenkok',\n",
       " 'сушилка белья напольная colombo star',\n",
       " 'доска гладильная eurogold professional металлическая сетка',\n",
       " 'чехол гладильной доски festival хлопка',\n",
       " 'сумка-тележка колесная gimi argo синяя',\n",
       " 'многолетнее растение тимьян-чабрец розовый объем',\n",
       " 'рассада зелени кухни базилик тонус, кассета',\n",
       " 'рассада зелени кухни мелиссы горшке диам.',\n",
       " 'муляж \"райские яблочки зеленые\" полиуретан',\n",
       " 'муляж банан, желтый, полиуретан, fancy fair/ff',\n",
       " 'муляж виноград цвет ассортименте',\n",
       " 'муляж гранат красный, fancy fair, красный',\n",
       " 'муляж груша мини желтая',\n",
       " 'муляж груша, желтый, полиуретан, fancy fair/ff',\n",
       " 'муляж зеленое яблоко полиуретан',\n",
       " 'муляж клубника полиуретан',\n",
       " 'муляж клубника магните',\n",
       " 'муляж красное яблоко мини полиуретан',\n",
       " 'муляж лимон, желтый, полиуретан, fancy fair/ff',\n",
       " 'муляж мандарин, оранжевый, полиуретан, fancy fair/ff',\n",
       " 'муляж перец, зеленый, полиуретан, fancy fair/ff',\n",
       " 'муляж перец, красный, полиуретан, fancy fair/ff',\n",
       " 'муляж персики мини полиуретан',\n",
       " 'муляж томат, оранжевый, полиуретан, fancy fair/ff',\n",
       " 'муляж черешня шт., желтый, fancy fair, желтый',\n",
       " 'щетка-сметка рядная деревянная (плоская ручка), поиск',\n",
       " 'щетка-сметка рядная деревянная (фигурная ручка) ворс',\n",
       " 'сумка тележки большая комбинированная',\n",
       " 'тарелка обеденная лимон luminarc, франция',\n",
       " 'вилка столовая ripple сталь attribute',\n",
       " 'ложка столовая ripple сталь attribute',\n",
       " 'ложка чайная ripple сталь attribute',\n",
       " 'столовый ripple attribute',\n",
       " 'герань домашняя (пеларгония зональная) цветущая коралловая, полумахровая',\n",
       " 'туалета подставкой malibu фарфор белый, spirella',\n",
       " 'пеларгония зональная диам. малиновая красным полумахровая',\n",
       " 'пеларгония зональная диам. сиренево-красная простая',\n",
       " 'пеларгония зональная диам. сиреневый полумахровый',\n",
       " 'пеларгония зональная диам. сиреневый простая',\n",
       " 'сушилка белья настенная zalger prima веревочная линий',\n",
       " 'котел алюминиевый крышки балезино, хозлэнд',\n",
       " 'суккулент микс',\n",
       " 'эхеверия перл нюрнберг',\n",
       " 'набор прищепок большие пластиковые rozenbal пиноккио',\n",
       " 'сушилка белья attribute прима синяя напольная',\n",
       " 'коврик придверный рельефным рисунком \"welcome\", коричневый',\n",
       " 'коврик bacchetta magicstop бежевый сушки посуды',\n",
       " 'корзина глаженного белья natural style, коричневая, curver',\n",
       " 'корзина пластиковая белья крышкой бежевая виолет',\n",
       " 'сушилка белья потолочно-настенная gimi lift',\n",
       " 'подкладка чехол zalger поролон',\n",
       " 'набор кружек пива гамбург luminarc, россия',\n",
       " 'коврик интерьерный кухни village street floral прямоугольный apache',\n",
       " 'дозатор мыла hausmann белый',\n",
       " 'унитазный подставкой \"стандарт\", мультипласт',\n",
       " 'чистки овощей webber нержавеющей стали',\n",
       " 'подкладка чехол zalger войлок',\n",
       " 'эвкалипт гунни',\n",
       " 'муляж виноград, желтый, полиуретан, fancy',\n",
       " 'муляж виноград, зеленый, полиуретан, fancy',\n",
       " 'муляж виноград, черный, полиуретан, fancy',\n",
       " 'муляж вишня, вишневый, полиуретан, fancy fair/ff',\n",
       " 'муляж персик, оранжевый, полиуретан, fancy fair/ff',\n",
       " 'набор фужеров luminarc дампьер сильвер вина',\n",
       " 'цветок искусственный гвоздика тканевая красная',\n",
       " 'унитазный деревянной ручкой ваир',\n",
       " 'сумка-тележка хозяйственная gimi market желтая',\n",
       " 'герань домашняя (пеларгония зональная) цветущая красная, махровая',\n",
       " 'мусорный контейнер ванную комнату bowl-shiny полистирол белый, spirella',\n",
       " 'сумка-тележка хозяйственная andersen scala shopper plus, elba, черная',\n",
       " 'сумка-тележка хозяйственная rolser cuadro серо-желтая, marengo',\n",
       " 'плед флисовый полиэстер бежевый, wellness',\n",
       " 'скатерть династия полиэфир прямоугольная сливочная, wellness',\n",
       " 'рассада зелени кухни лаванды кассете',\n",
       " 'рассада зелени кухни розмарина кассете',\n",
       " 'рассада зелени кухни тимьяна кассете',\n",
       " 'герань домашняя (пеларгония зональная) цветущая лососевая, махровая',\n",
       " 'коврик хлопковый цвета ассортименте',\n",
       " 'сушилка белья батарею, ника',\n",
       " 'пластмассовый пищевой круглый (иж)',\n",
       " 'кувшин пластмассовый крышкой \"кумган\"',\n",
       " 'муляж перец чили связке, зеленый, полиуретан, fancy fair/ff',\n",
       " 'адиантум лиза',\n",
       " 'герань домашняя (пеларгония зональная) цветущая белая, махровая',\n",
       " 'ковер придверный \"multy rus\" коричневый',\n",
       " 'перчатки латексные дома утолщенные, rozenbal',\n",
       " 'стремянка алюминиевая hailo livingstep comfort plus ступенчатая алюминиевая',\n",
       " 'пеларгония зональная диам. темнорозовая полумахровая',\n",
       " 'сумка-тележка хозяйственная gimi market синяя',\n",
       " 'гладильная доска gimi jean green line',\n",
       " 'лестница-стремянка dogrular ufuk оцинкованная ступенчатая',\n",
       " 'толкушка картофеля нержавеющей стали proline, leifheit',\n",
       " 'тележка багажная delta коричневый оранжевым грузоподъемность сумка каркас россия',\n",
       " 'готовая скатерть ажурная rose круглая белая, towa co.',\n",
       " 'сушилка белья напольная gimi modular silver',\n",
       " 'искусственный цветок роза маргарита пластик',\n",
       " 'простыня резинке односпальная wellness хлопок, белая',\n",
       " 'сумка-тележка хозяйственная gimi bella синяя',\n",
       " 'чайник эмалированный \"алые маки\" свистком',\n",
       " 'бутылки натурального волокна металла кремовый, burstenmann',\n",
       " 'пластмассовый квадратный \"пластхозторг\"',\n",
       " 'пластмассовый пищевой овальный \"ekko\"',\n",
       " 'пластмассовый пищевой (иж)',\n",
       " 'пластмассовый пищевой (минеральные воды)',\n",
       " 'набор вешалок костюма цвет: кремовый, attribute',\n",
       " 'штора текстильная ванны душа полиэстер, \"разноцветные пузырьки\" розов/желт/белый',\n",
       " 'сушилка белья потолочная лиана',\n",
       " 'банка стеклянной крышкой, color series, круглая, valiant',\n",
       " 'стяжка оконная болтом цинк',\n",
       " 'сумка-тележка колесная gimi tris floral синяя',\n",
       " 'сушилка белья потолочная лиана люкс лдн-т',\n",
       " 'крючок одежный тройной латунь',\n",
       " 'набор ковров ванной комнаты, \"офелия\", серый/бежевый',\n",
       " 'сушилка белья виолет ricko настенная',\n",
       " 'комплект ванной туалета dasch лавр бежевый',\n",
       " 'тележка багажная delta синий грузоподъемность сумка каркас россия',\n",
       " 'сумка-тележка хозяйственная andersen scala shopper, elba, черная',\n",
       " 'муляж апельсин полиуретан',\n",
       " 'муляж яблоко зеленый полиуретан',\n",
       " 'сумка-тележка хозяйственная welfull daisy, черная',\n",
       " 'кампанула махровая двухцветная',\n",
       " 'пеларгония душистая',\n",
       " 'сушилка белья gimi alablock',\n",
       " 'пеларгония зональная диам. красная махровая',\n",
       " 'пеларгония зональная диам. ярко красная махровая',\n",
       " 'пеларгония зональная махровая белая',\n",
       " 'герань домашняя (пеларгония зональная) цветущая малиновая красным, полумахровая',\n",
       " 'декоративная композиция искуственных цветов букет цветка, цвет ассортименте',\n",
       " 'искусственный цветок роза бархатная закрытым бутоном цвет ассортименте',\n",
       " 'сумка-тележка хозяйственная rolser capri синяя, azul',\n",
       " 'противень прямоугольный алюминиевый эксперт, scovo',\n",
       " 'герань домашняя (пеларгония зональная) цветущая малиновая, махровая',\n",
       " 'калатея микс',\n",
       " 'коврик придверный влаговпитывающий ребристый полимерных материалов серый, vortex',\n",
       " 'нолина цветной керамике',\n",
       " 'плечики пластмассовые (размер \"мп\"',\n",
       " 'подушка декоративная флисовая полиэстер синяя клетка, wellness',\n",
       " 'полотенце кухонное мила* mix, хлопок цвета ассортименте, wellness',\n",
       " 'хлорофитум',\n",
       " 'цикламен',\n",
       " 'пеларгония зональная диам. розовая полумахровая',\n",
       " 'пеларгония зональная диам. розовая малиновым полумахровая',\n",
       " 'пеларгония зональная диам. розово-малиновая простая',\n",
       " 'пеларгония зональная махровая лососевая',\n",
       " 'крепеж пружины дверной',\n",
       " 'пружина дверная оцинкованная крепления',\n",
       " 'глоксиния',\n",
       " 'азалия индика биколор',\n",
       " 'гортензия микс',\n",
       " 'хризантема космо микс',\n",
       " 'муляж тыквы',\n",
       " 'герань домашняя (пеларгония зональная) цветущая розовая малиновым, полумахровая',\n",
       " 'герань домашняя (пеларгония зональная) цветущая розовая, махровая',\n",
       " 'герань домашняя (пеларгония зональная) цветущая розово-красная, полумахровая',\n",
       " 'герань домашняя (пеларгония зональная) цветущая розово-малиновая, простая',\n",
       " 'герань домашняя (пеларгония зональная) цветущая сиренево-красная, простая',\n",
       " 'герань домашняя (пеларгония зональная) цветущая сиреневый, простая',\n",
       " 'герань домашняя (пеларгония зональная) цветущая темнорозовая, полумахровая',\n",
       " 'герань домашняя (пеларгония зональная) цветущая ярко красная, махровая',\n",
       " 'коврик интерьерный кухни tuscan wine прямоугольный apache',\n",
       " 'петля приварная гаражная шаром',\n",
       " 'сушилка белья gimi lampo',\n",
       " 'гладильная доска ника верона чехол одри',\n",
       " 'салфетка protec textil lino серая',\n",
       " 'чехол eurogold clean metallic металлизированый поролоном досок',\n",
       " 'вкладыши хранения посуды marmiton',\n",
       " 'миксер delta серо-голубой насадки скоростных режимов турборежим',\n",
       " 'коврик влаговпитывающий индия зигзаг серый',\n",
       " 'кофр хранения медикаментов hausmann отделений',\n",
       " 'стиральный биопорошок bonsai концентрированный белого белья россия',\n",
       " 'чистящий крем трудновыводимых пятен mama lemon stain remover индонезия',\n",
       " 'tepмокружка avex recharge голубой',\n",
       " 'чехол гладильной доски zalger хлопок поролон доски',\n",
       " 'щетка смахивания пыли разноцветная, burstenmann',\n",
       " 'мирт',\n",
       " 'цветущее комнатное растение хризантема диаметр горшка',\n",
       " 'чайник эмалированный metalloni свистком керамической ручкой \"французский шарм\"',\n",
       " 'чехол гладильной доски zalger металлизированный поролоном доски',\n",
       " 'штора ванной комнаты diamante бежевая, bacchetta',\n",
       " 'стремянки colombo leonardo ступени черая',\n",
       " 'пластмассовый стиральной доской (иж)',\n",
       " 'щетка посуды *мила*',\n",
       " 'щетка-утюжок ручкой миди, standart, york',\n",
       " 'светильник настольный ламп, светодиодный сенсорный, диммером черный, perfectolight',\n",
       " 'герань домашняя (пеларгония зональная) цветущая белая, полумахровая',\n",
       " 'муляж лимон желтый полиуретан',\n",
       " 'кориандр кассете',\n",
       " 'рассада зелени кухни базилик арарат, кассета',\n",
       " 'рассада зелени кухни петрушка универсал, кассета',\n",
       " 'рассада зелени кухни шалфея горшке диам.',\n",
       " 'чехол одежды',\n",
       " 'чехол одежды hausmann розовый принт',\n",
       " 'чехол платья нетканного материала белый, hausmann',\n",
       " 'герань домашняя (пеларгония зональная) цветущая малиново розовая, простая',\n",
       " 'сушилка белья gimi jolly',\n",
       " 'жидкое мыло vestar хозяйственное россия',\n",
       " 'ковёр придверный \"лапша\" коричневый',\n",
       " 'коврик резиновый ажурный iron grill',\n",
       " 'пена ванн vestar хвойная пихта россия',\n",
       " 'тележка хозяйственная складная, пэмби',\n",
       " 'пластмассовый круглый пластик\"',\n",
       " 'пластмассовый пищевой меркой (минеральные воды)',\n",
       " 'пластмассовый круглый',\n",
       " 'пластмассовый пищевой ручками \"полимербыт\"',\n",
       " 'пластмассовый пищевой овальный (иж)',\n",
       " 'сумка-тележка колесная складная gimi flexi зеленая',\n",
       " 'гладильная доска ника haushalt',\n",
       " 'подрукавник складной ника',\n",
       " 'штора встроенными кольцами штангу ванны душа жаккард, полиамидное покрытие, аквамарин',\n",
       " 'штора встроенными кольцами штангу ванны душа жаккард, полиамидное покрытие, голубой',\n",
       " 'чехол гладильной доски zalger хлопок войлок доски',\n",
       " 'штора встроенными кольцами штангу ванны душа жаккард, полиамидное покрытие, бежевый',\n",
       " 'штора встроенными кольцами штангу ванны душа жаккард, полиамидное покрытие, белый',\n",
       " 'иссоп лекарственный',\n",
       " 'сантолина',\n",
       " 'сушилка белья attribute мини навесная',\n",
       " 'аспарагус',\n",
       " 'афеляндра скуарроса дания микс кашпо автополивом',\n",
       " 'тележка багажная delta цвет ассортименте грузоподъемность россия',\n",
       " 'набор сверел дереву 0512261',\n",
       " 'сверло-фреза, нитрид титана',\n",
       " 'пеларгония зональная диам. лососевая махровая',\n",
       " 'гладильная доска ника',\n",
       " 'контейнер овощей полимербыт секционный лоток',\n",
       " 'сушилка белья лиана люкс потолочная',\n",
       " 'стремянка алюминиевая ступеней, ника',\n",
       " 'чехол гладильной доски universal attribute',\n",
       " 'гладильная доска sarayli orion',\n",
       " 'мусорный контейнер hailo profiline solid белый',\n",
       " 'гладильная доска перф металл \"ника ника',\n",
       " 'сушилка белья rainbow color напольная хромированной стали gimi',\n",
       " 'зубная паста zact эффектом отбеливания кофейного никотинового налета',\n",
       " 'зубная паста zact lion smokers toothpaste',\n",
       " 'зубная паста zact lion whitening toothpaste',\n",
       " 'тонкой нарезки alpenkok нержавеющей стали пилообразный \"comfort\" синий',\n",
       " 'антуриум андрианум блэк',\n",
       " 'комнатное растение горшке аспарагус мейера',\n",
       " 'молодило микс',\n",
       " 'фиалка',\n",
       " 'пластмассовый ручками \"полимербыт\"',\n",
       " 'пластмассовый строительный круглый',\n",
       " 'гладильная доска-стремянка dasch',\n",
       " 'гербера',\n",
       " 'душица обыкновенная',\n",
       " 'мелисса лекарственная',\n",
       " 'роза кордана красная мерседес',\n",
       " 'роза кордана красная',\n",
       " 'фиалка карнавал',\n",
       " 'хризантема белая кристалл',\n",
       " 'хризантема красная тобаго',\n",
       " 'карниз алюминиевый телескопический штор spirella спирелла magic, хром',\n",
       " 'штора ванной комнаты cannetto коричневая, bacchetta',\n",
       " 'веник сорго деревянной ручкой швами, rozenbal',\n",
       " 'пеларгония зональная диам. малиново-красная простая',\n",
       " 'муляж гранат красный',\n",
       " 'гладильная доска sarayli elegant',\n",
       " 'салфетка protec textil polyline аметист белая',\n",
       " 'лестница-стремянка dogrular ufuk алюминевая ступенчатая',\n",
       " 'унитаза spirella venise подставкой керамический',\n",
       " 'контейнер мусора flip curver красный',\n",
       " 'контейнер мусора flip curver оранжевый',\n",
       " 'стремянка металлическая ступени, ника',\n",
       " 'швабра многофункциональная, rozenbal',\n",
       " 'ящик хранения textilebox curver прозрачный',\n",
       " 'щетка палубная черенка угловой держатель',\n",
       " 'гладильная доска перф металл \"эльза премиум\", элп, ника',\n",
       " 'скатерть лувр полиэфир овальная салатовая wellness',\n",
       " 'подголовник ванной комнаты синий, bacchetta',\n",
       " 'гладильная доска фанера \"стелла премиум ника',\n",
       " 'пеларгония зональная диам. белая махровая',\n",
       " 'пеларгония зональная диам. коралловая полумахровая',\n",
       " 'пеларгония розоцветная розебуд молодые растения',\n",
       " 'сумка-тележка хозяйственная rolser синяя, azul',\n",
       " 'банка металлической крышкой, color series, круглая, valiant',\n",
       " 'ведро мусора hailo бежевый',\n",
       " 'штора текстильная ванны душа полиэстер, \"бамбук\" зелёный/белый',\n",
       " 'вешалка деревянная расширенными плечиками перекладиной серый japanese black valiant',\n",
       " 'вешалка блузок черный attribute',\n",
       " 'вешалка закругленными плечиками перекладины противоскользящим покрытием valiant черный',\n",
       " 'гладильная доска sarayli tamara',\n",
       " 'коврик влаговпитывающий ребристый стандарт черный',\n",
       " 'коврик влаговпитывающий ребристый стандарт зеленый',\n",
       " 'коврик придверный грязеулавливающий резиновый finger',\n",
       " 'короб стеллажный крышкой большой, expedition valiant, ex-box-lm',\n",
       " 'короб стеллажный крышкой малый, expedition valiant, ex-box-ls',\n",
       " 'коробка хранения молнии синтетического волокна hausmann, зеленая',\n",
       " 'набор вешалок мягких тканевых перекладиной валиант valiant',\n",
       " 'наматрасник wellness хлопок, стеганый белый',\n",
       " 'наматрицник-чехол natures стебель бамбука односпальный, бамбуковый, молочный',\n",
       " 'насадка швабры многофункциональной микрофибры, rozenbal',\n",
       " 'перчатки латексные размер rozenbal',\n",
       " 'сушилка белья напольная gimi tempo super',\n",
       " 'пластмассовый пищевой квадратный \"тюльпан\"',\n",
       " 'швабра многофункциональная rozenbal',\n",
       " 'швабра сальса треугольная мини',\n",
       " 'щетка посуды искусственного волокна пластмассы белая, burstenmann',\n",
       " 'тарелка обеденная luminarc грин форест',\n",
       " 'рассада зелени кухни лаванды горшке диам.',\n",
       " 'рассада зелени кухни розмарина горшке диам.',\n",
       " 'рассада зелени кухни тимьяна горшке диам.',\n",
       " 'коврик придверный, полукруглый резины кокоса, format mezzaluna, розетта, коричневый, srl',\n",
       " 'ножеточка универсальная \"рыбка\"',\n",
       " 'вешалка-плечики эссенции цвет тёмно-розовый pink',\n",
       " 'искусственный цветок пластиковый бутона',\n",
       " 'искусственный цветок ромашка пластик',\n",
       " 'цветок искусственный гвоздика пластиковая одиночная ассортименте',\n",
       " 'цветок искусственный пластик',\n",
       " 'цветок искусственный нарцисс одиночный ассортименте',\n",
       " 'цветок искусственный роза алая бархатная раскрытый бутон',\n",
       " 'цветок искусственный ромашка цветка пластик',\n",
       " 'цветок искусственный тюльпан пластик цвет ассортименте',\n",
       " 'цветок искусственный тюльпан ассортименте одиночный',\n",
       " 'салфетка камушки транспарент dasch',\n",
       " 'тележка багажная delta коричневый грузоподъемность сумка каркас россия',\n",
       " 'гладильная доска colombo avantgard',\n",
       " 'бегония ампельная, диам.',\n",
       " 'рассада пеларгония (герань) зональная смесь объем',\n",
       " 'хризантема корейская смесь окрасок объем',\n",
       " 'многолетнее растение душица-орегано розовый объем',\n",
       " 'пеларгония зональная диам. белая полумахровая',\n",
       " 'чехол гладильной доски дизайном venezia хлопка',\n",
       " 'настольная гладильная доска фанера, ника',\n",
       " 'кувшин пластмассовый крышкой \"пластхозторг\"',\n",
       " 'розмарин',\n",
       " 'сиденье ванну раздвижное, белый, ника',\n",
       " 'сушилка белья gimi extension',\n",
       " 'масленка коровка крышкой luminarc, франция',\n",
       " 'плечики пластмассовые размер тула',\n",
       " 'сушилка белья eurogold stabilo напольная',\n",
       " 'стремянка бытовая framar slimmy ступени',\n",
       " 'сумка-тележка колесная gimi argo фуксия',\n",
       " 'подрукавник gimi planet гладильной доски',\n",
       " 'чехол гладильной доски love gimi полиэстера хлопка gimi',\n",
       " 'штора ванной комнаты quadretto белая, bacchetta',\n",
       " 'утюг электрический керамическим покрытием delta зеленый, россия',\n",
       " 'чехол гладильной доски attribute metal',\n",
       " 'муляж яблоко красное',\n",
       " 'гладильная доска attribute хоми синяя',\n",
       " 'чехол гладильной доски metal attribute',\n",
       " 'корыто оцинкованное бесшовное',\n",
       " 'тележка багажная delta черный серым грузоподъемность сумка каркас россия',\n",
       " 'штора ванной комнаты meiwa, krackle прозрачный',\n",
       " 'холодная сварка mastix труб батарей',\n",
       " 'холодная сварка mastix универсальная',\n",
       " 'гладильная доска ника бэлль',\n",
       " 'муляж вишня полиуретан',\n",
       " 'муляж груша желтый полиуретан',\n",
       " 'муляж мандарин оранжевый полиуретан',\n",
       " 'муляж перец чили связке, красный, полиуретан, fancy fair/ff',\n",
       " 'муляж чеснок связке полиуретан',\n",
       " 'сервировочная салфетка ванда',\n",
       " 'коврик противоскользящий кружевной прозрачный',\n",
       " 'штора ванной комнаты bacchetta city текстильная',\n",
       " 'гладильная доска ника стелла классик',\n",
       " 'штора ванной комнаты bacchetta dama текстильная',\n",
       " 'салатник luminarc кутюр',\n",
       " 'тарелка десертная кутюр luminarc',\n",
       " 'тарелка суповая кутюр luminarc',\n",
       " 'коврик придверный полипропиленовый step traditional коричневый',\n",
       " 'сумка-тележка хозяйственная andersen scala shopper plus, lini, синяя',\n",
       " 'гладильная доска ника sophy корица',\n",
       " 'коврик противоскользящий пузырьки прозрачный',\n",
       " 'чехол гладильной доски универсальный поролоном ника',\n",
       " 'сумка-тележка хозяйственная gimi argo голубая',\n",
       " 'муляж ананас светло-коричневый полиуретан',\n",
       " 'муляж баклажан',\n",
       " 'муляж банан желтый полиуретан',\n",
       " 'муляж манго оранжевый полиуретан',\n",
       " 'муляж морковь',\n",
       " 'муляж персик полиуретан',\n",
       " 'муляж черешня штук цвет ассортименте',\n",
       " 'сумка-тележка хозяйственная rolser negro черная',\n",
       " 'сумка-тележка колесная gimi galaxy черная',\n",
       " 'сковорода scovo эксперт блинов алюминиевая антипригарным покрытием',\n",
       " 'герань домашняя (пеларгония зональная) цветущая лососевая, полумахровая',\n",
       " 'коврик придверный дизайном, резины кокоса aberdeen welcome',\n",
       " 'коврик придверный redstone полиэстера переработанной резины серо-коричневый, apache',\n",
       " 'коврик придверный stonehedge grey полиэстера переработанной резины серый, apache',\n",
       " 'сумка-тележка хозяйственная rolser marengo logic серая',\n",
       " 'банка стеклянная steel touch attribute',\n",
       " 'тарелка десертная стоунмания оранж luminarc',\n",
       " 'тарелка обеденная стоунмания оранж luminarc',\n",
       " 'тарелка суповая стоунмания оранж luminarc',\n",
       " 'скатерть meiwa fplus-plain sarasa овальная бежевая',\n",
       " 'муляж вишня магните',\n",
       " 'сумка-тележка колесная складная gimi flexi серая',\n",
       " 'сумка-тележка колесная gimi ideal синяя',\n",
       " 'шнур резиновый тележки',\n",
       " 'рассада зелени кухни душицы горшке диам.',\n",
       " 'сумка-тележка хозяйственная rolser malva сиреневая',\n",
       " 'пластмассовый строительный прямоугольный',\n",
       " 'урна уличная \"гео\", hobbyka/хоббика, сталь',\n",
       " 'скатерть азалия полиэфир хлопок прямоугольная персиковая wellness',\n",
       " 'сумка-тележка хозяйственная gimi bella серая',\n",
       " 'чайный набор luminarc рейнбоу',\n",
       " 'штора ванной quadretto белая, bacchetta',\n",
       " 'пеларгония зональная диам. малиновая махровая',\n",
       " 'пеларгония зональная диам. розовая махровая',\n",
       " 'пеларгония зональная розоцветная розебад (red rosebud)',\n",
       " 'набор эмалированных салатников metalloni ветка рябины',\n",
       " 'мыло жидкое reffil mama utimate облепиха россия',\n",
       " 'набор вешалок мягких тканевых перекладиной клипсами валиант valiant',\n",
       " 'стремянка ступенчатая hailo алюминиевая',\n",
       " 'антуриум андрианум ванилла',\n",
       " 'рыбочистка металлическая',\n",
       " 'сиденье унитаза росспласт ажур белое',\n",
       " 'коврик придверный attribute nature кокосовый',\n",
       " 'овощеварка алюминиевая scovo хозлэнд',\n",
       " 'сметка совком престиж, york',\n",
       " 'коврик придверный, полипропилен, kokarda, спящий кот, бежевый, srl',\n",
       " 'муляж баклажан мини',\n",
       " 'муляж гранат мини',\n",
       " 'муляж перец чили мини красный',\n",
       " 'чехол гладильной доски basic attribute',\n",
       " 'халат вафельный хлопок размер салатовый, wellness',\n",
       " 'измерительный алюминиевый угольник, truper',\n",
       " 'линейка, длина truper',\n",
       " 'сумка-тележка хозяйственная gimi ideal серая (tortora)',\n",
       " 'набор фужеров вина аллюр luminarc, франция',\n",
       " 'набор фужеров вина маскарад luminarc, франция',\n",
       " 'сушилка белья leifheit pegasus',\n",
       " 'сумка-тележка хозяйственная rolser marengo серая',\n",
       " 'чехол гладильной доски leifheit beach bubbles',\n",
       " 'терка webber нержавеющей стали грани красной ручкой',\n",
       " 'терка webber нержавеющей стали граней',\n",
       " 'вилка столовая better цветной горох',\n",
       " 'контейнер приготовления глазунья полимербыт',\n",
       " 'кружка rosario радуга керамическая коричневый',\n",
       " 'кружка ягода клубника',\n",
       " 'кружка luminarc лили флауэр',\n",
       " 'ложка обувная металлическая крашенная крючком',\n",
       " 'лопатка attribute bamboo',\n",
       " 'лопатка прорезями attribute bamboo',\n",
       " 'набор фужеров красного вина шт., серия касабланка',\n",
       " 'набор фужеров шампанского френч брассери luminarc, франция',\n",
       " 'полотенце махровое гармония, хлопок wellness',\n",
       " 'салфетка махровая радуга разноцветную полоску, хлопок wellness',\n",
       " 'салфетница металлическая webber хромированным покрытием',\n",
       " 'стакан низкий лабиринт напитков',\n",
       " 'стакан пластмассовый конус. \"пластхозторг\"',\n",
       " 'столовая ложка better цветной горох',\n",
       " 'чайная ложка better цветной горох',\n",
       " 'цветок искусственный крокус',\n",
       " 'цветок искусственный гербера',\n",
       " 'ковер придверный имитация травы цвет серый',\n",
       " 'тележка багажная delta грузоподъемность россия',\n",
       " 'тарелка десертная ирис luminarc',\n",
       " 'гладильная доска attribute teflonix',\n",
       " 'коврик ванной комнаты gobi полиэстер темно-зеленый, spirella',\n",
       " 'альбука спиралис фризл-сизл',\n",
       " 'коврик sochi коричневый',\n",
       " 'овощечистка плавающим лезвием comfortline нержавеющей стали пластика белая, leifheit',\n",
       " 'бальзамин новогвинейский',\n",
       " 'бегония клубневая',\n",
       " 'крассула овата',\n",
       " 'гладильная доска ника bruna',\n",
       " 'артемизия (полынь горькая)',\n",
       " 'пеларгония зональная махровая микс',\n",
       " 'герань домашняя (пеларгония зональная) цветущая красно-розовая, простая',\n",
       " 'насадка швабре flexinett пластик микрофибра, rozenbal',\n",
       " 'средство удаления известкового налета поверхностей сантехнических приборов decs антикальций россия',\n",
       " 'фиалка микс',\n",
       " 'коврик ворсовый ванной комнаты orthospa river rocks grey микрофибры прямоугольный серо-белый, apache',\n",
       " 'вешалка напольная atlant светлая степанов',\n",
       " 'сумка-тележка колесная gimi galaxy голубая',\n",
       " 'тележка хозяйственная ролла крыльями, attribute',\n",
       " 'бензин зажигалок',\n",
       " 'скатерть прямоугольная ажурная imperial бежевая тесненым рисунком towa',\n",
       " 'паста полировки \"гои\"',\n",
       " 'цветок искусственный гортензия, цвет ассортименте',\n",
       " 'гладильная доска ника эконом',\n",
       " 'сумка-тележка хозяйственная gimi argo салатовая',\n",
       " 'сумка-тележка хозяйственная gimi easy синяя',\n",
       " 'петля-стрела (рыбинск)',\n",
       " 'скатерть meiwa wh/be овальная бело-бежевая',\n",
       " 'подголовник ванной комнаты mickey, bacchetta',\n",
       " 'сушилка белья потолочная zalger lift comfort',\n",
       " 'лаванда',\n",
       " 'мята',\n",
       " 'сушилка белья виолет color белая',\n",
       " 'муляж виноград зеленый полиуретан',\n",
       " 'чайник электрический пластиковый василиса белый голубым',\n",
       " 'вешалка-стойка дерево медный антик',\n",
       " 'муляж виноград желтый полиуретан',\n",
       " 'муляж желудь',\n",
       " 'муляж яблоко, оранжевый, полиуретан',\n",
       " 'сумка-тележка gimi argo синяя',\n",
       " 'каланхое каландива белое',\n",
       " 'примула акаулис микс',\n",
       " 'держатель туалетной бумаги \"полимербыт\"',\n",
       " 'унитазный подставкой \"люкс\", мультипласт',\n",
       " 'пробка ванны резиновая',\n",
       " 'штора ванной кольцами мыльные пузыри',\n",
       " 'чехол гладильной доски zalger хлопок доски',\n",
       " 'измельчитель овощей ручной деревянный, ножа',\n",
       " 'сумка-тележка delta синий грузоподъемность сумка каркас россия',\n",
       " 'коврик придверный резины кокоса, format classic, соломка, коричневый, srl',\n",
       " 'лоток холодца эмалированный пластмассовой крышкой рисунком стэма',\n",
       " 'сумка-тележка gimi easy красная',\n",
       " 'вешалка-плечики эссенции цвет светло-бирюзовый blue',\n",
       " 'вешалки мягкие деликатных вещей желтые',\n",
       " 'губка спираль металлическая eurohouse',\n",
       " 'перчатки латексные rozenbal',\n",
       " 'перчатки резиновые универсальные centi, york',\n",
       " 'чехол одежды большой светло-бежевый валиант valiant',\n",
       " 'унитазный пластмассовый, ваир',\n",
       " 'кофр хранения hausmann подкроватный',\n",
       " 'сумка-тележка gimi argo красная',\n",
       " 'салфетка protec textil lino шоколад',\n",
       " 'корзина белья infinity curver белая',\n",
       " 'пробка ванны резиновая цепочкой',\n",
       " 'сушилка мульти attribute',\n",
       " 'салатник романтик гарден luminarc',\n",
       " 'дорожный delta бордовый черным режима мощности россия',\n",
       " 'чайник электрический аксинья корпус жаропрочного стекла черный',\n",
       " 'штора ванной душа текстильная, \"цветы\", голубой',\n",
       " 'штора ванной комнаты водоросли',\n",
       " 'вешалка настенная ника крючка медный антик',\n",
       " 'вешалка самоклеющая крючка',\n",
       " 'штора ванной душа текстильная, бежевый/белый розовыми цветами',\n",
       " 'салатник амори браун luminarc',\n",
       " 'салатник колорама luminarc',\n",
       " 'салатник рапсоди оранж luminarc',\n",
       " 'салатник luminarc арти грин',\n",
       " 'салатник luminarc арти пинк',\n",
       " 'салатник luminarc арти пурпл',\n",
       " 'салатник luminarc amбиантэ анис',\n",
       " 'салатник luminarc amбиантэ оранж',\n",
       " 'кружка сердечки',\n",
       " 'дендробиум санок полар файр ствол',\n",
       " 'герань домашняя (пеларгония зональная) цветущая красная, простая',\n",
       " 'калоцефалус брауни крашеный осенний микс',\n",
       " 'коврик придверный apache flagstone',\n",
       " 'антижир posh magnum россия',\n",
       " 'каллуна гарден герлс трехцветная',\n",
       " 'капсикум сальса оранжевый',\n",
       " 'кофр малый жесткий леопард валиант valiant',\n",
       " 'мимоза стыдливая',\n",
       " 'набор кухонных полотенец хлопок wellness',\n",
       " 'соланум',\n",
       " 'универсальное средство основе хлора ддля чистки сантехники других поверхностей decs universal россия',\n",
       " 'мантоварка алюминиевая сетки белая калитва, хозлэнд',\n",
       " 'гладильная доска ника lora fashion',\n",
       " 'пеларгония зональная простая цвет фуксии',\n",
       " 'рассада зелени кухни мелиссы кассете',\n",
       " 'гладильная доска ника blues',\n",
       " 'ложка обувная металлическая крашенная',\n",
       " 'плечики пластмассовые размер',\n",
       " 'ролик чистки одежды *clear line* слоев)',\n",
       " 'сменный блок ролика rozenbal',\n",
       " 'пластмассовый пищевой \"космея\" (ангора)',\n",
       " 'герань домашняя (пеларгония зональная) цветущая ярко розовая, полумахровая',\n",
       " 'пеларгония топпером день учителя подарочной упаковке',\n",
       " 'роза патио белая',\n",
       " 'роза патио красная',\n",
       " 'роза патио оранжевая',\n",
       " 'стремянка ступенчатая hailo алюминиевая крючком красной ручке',\n",
       " 'набор бокалов император luminarc франция',\n",
       " 'набор стаканов виски серия карат',\n",
       " 'термометр окно уличный липучках',\n",
       " 'термометр уличный оконный',\n",
       " 'ящик почтовый металлический ушками навесного замка домик',\n",
       " 'сушилка белья напольная gimi mito, алюминий',\n",
       " 'гладильная доска ника верона чехол ретро',\n",
       " 'бархатцы веселая полянка',\n",
       " 'космея очаровашка',\n",
       " 'морковь детская сладость',\n",
       " 'настурция драгоценность вишнево-розовая',\n",
       " 'огурец засолочный',\n",
       " 'пеларгония зональная розоцветная розебад',\n",
       " 'петуния каскад смесь махровая',\n",
       " 'сумка-тележка хозяйственная rolser черная, negro',\n",
       " 'шило пластмассовой ручкой утолщенное крючком',\n",
       " 'герань домашняя (пеларгония зональная) цветущая красная, полумахровая',\n",
       " 'тарелка обеденная мунлайт luminarc',\n",
       " 'скатерть прямоугольная ажурная marine бежевая тесненым рисунком towa',\n",
       " 'сушилка белья ника',\n",
       " 'вешалка деревянная расширенными плечиками перекладиной белый japanese white valiant',\n",
       " 'вешалка брюк attribute classic',\n",
       " 'набор вешалок костюма цвет кремовый attribute',\n",
       " 'набор вешалок универсальных attribute siluet cream',\n",
       " 'банка стекла сыпучих продуктов круглой пластмассовой крышкой цветной вкладкой',\n",
       " 'корзина белья knit темно-коричневая, curver',\n",
       " 'сумка-тележка twin стальной каркас синяя, gimi',\n",
       " 'тарелка десертная воларэ блэк luminarc',\n",
       " 'сушилка белья gimi dinamik',\n",
       " 'пластмассовый пищевой',\n",
       " 'ковш пластмассовый полимербыт',\n",
       " 'гладильная доска ника николь',\n",
       " 'кухонные ножницы webber нержавеющей стали орехоколом',\n",
       " 'набор ножей attribute chef предметов',\n",
       " 'кухонный мяса пластмассовой ручкой \"русская линия\" метиз',\n",
       " 'кухонный овощей деревянной ручкой \"гурман\" метиз',\n",
       " 'кухонный универсальный пластмассовой ручкой \"русская линия\" метиз',\n",
       " 'рыбочистка деревянной ручкой ножом',\n",
       " 'тарелка десертная мока браун luminarc',\n",
       " 'кисточка силиконовая выпечки мятная webber',\n",
       " 'кисточка силиконовая выпечки персиковая webber',\n",
       " 'скребок кондитерский webber лавандовый',\n",
       " 'средство мытья полов decs bleach лимон россия',\n",
       " 'комод эльфпласт виола секционный коричневый',\n",
       " 'корзина белья виолет ротанг угловая крышкой бежевая',\n",
       " 'сушилка белья ванну ника',\n",
       " 'картофелемялка металлическая круглая деревянной ручкой',\n",
       " 'салатник воларэ блэк luminarc',\n",
       " 'тарелка суповая воларэ блэк luminarc',\n",
       " 'ароматизированное средство дудаления известкового налета ржавчины decs гель лимон россия',\n",
       " 'бальзам мытья посуды mama ultimate ecosoda россия',\n",
       " 'средство мытья пола ecomatic green cleaner испания',\n",
       " 'стремянка бытовая zalger алюминиевая ступенек',\n",
       " 'банка стеклянная крышкой attribute fleur',\n",
       " 'коврик кухонный apache olive sideboard',\n",
       " 'штора ванной rigone бежевый',\n",
       " 'алиссум (лобулярия) снежные одежды',\n",
       " 'гвоздика турецкая роковая страсть',\n",
       " 'годеция рембранд',\n",
       " 'календула пинк сюрпрайз',\n",
       " 'капуста декоративная смесь',\n",
       " 'кореопсис толл',\n",
       " 'космея клюквенный клик',\n",
       " 'космея кэнди страйп',\n",
       " 'лапчатка огненное пламя',\n",
       " 'львиный волшебный ковер',\n",
       " 'пеларгония зональная диам. розово-красная полумахровая',\n",
       " 'флокс друммонда смесь',\n",
       " 'цинерария серебряная пыль',\n",
       " 'эшшольция карминный король',\n",
       " 'жестяная банка новая паста микс',\n",
       " 'кружка нордик прозрачная luminarc франция',\n",
       " 'чайник электрический аксинья корпус жаропрочного стекла белый',\n",
       " 'гладильная доска scab stiro',\n",
       " 'рассекатель пламени газовую плиту ручкой',\n",
       " 'ополаскиватель посудомоечных машин ludwik польша',\n",
       " 'сетка глажения',\n",
       " 'щетка посуды *оля*, мультипласт',\n",
       " 'чайник электрический василиса нержавеющая сталь красный',\n",
       " 'покрывало жаккард шенилл birhome valentin наволочки',\n",
       " 'вешалка гардеробная радуга черный',\n",
       " 'ковер придверный ekspo черный',\n",
       " 'набор форм кексов webber нержавеющей стали',\n",
       " 'банка стеклянная wooden touch attribute',\n",
       " 'корзина белья пластмассовая угловая',\n",
       " 'весы напольные электронные soehnle pino white',\n",
       " 'диффенбахия топпером день учителя подарочной упаковке',\n",
       " 'комплект постельного белья wellness platinum пододеяльник простыня наволочки',\n",
       " 'покрывало жаккард karna стеганое kalven наволочки',\n",
       " 'вилка столовая better цветы',\n",
       " 'бальзамин новогвинейский цвет фуксии',\n",
       " 'чехол гладильной доски zalger бязь доски',\n",
       " 'фаленопсис королевский голубой ствол',\n",
       " 'сумка-тележка хозяйственная rolser saquet, синяя, azul convert',\n",
       " 'подставка обуви резиновая attribute',\n",
       " 'сушилка белья потолочная лиана люкс',\n",
       " 'вешалка-сушилка gimi paco',\n",
       " 'коврик bacchetta противоскользящий душевую кабину бежевый',\n",
       " 'штора ванной комнаты fragmmento бежевая текстильная',\n",
       " 'штора ванной комнаты sfera серая, bacchetta',\n",
       " 'миска пластмассовая круглая пластхозторг',\n",
       " 'гладильная доска ника белль классик',\n",
       " 'кружка прозрачная luminarc франция',\n",
       " 'одеяло silver line микрофибра микроволокно',\n",
       " 'сушилка белья батарею ника двухъярусная',\n",
       " 'подсолнечник низкорослый',\n",
       " 'ручка-скоба белая *трибатрон*',\n",
       " 'пуансетия топпером день учителя подарочной упаковке',\n",
       " 'лоток холодца эмалированный пластмассовой крышкой рисунка стэма',\n",
       " 'гладильная доска eurogold professional',\n",
       " 'сушилка белья напольная colombo alpina',\n",
       " 'пресс чеснока attribute western',\n",
       " 'тарелка обеденная кашима пурпл luminarc',\n",
       " 'сумка-тележка колесная gimi tris красная',\n",
       " 'коврик придверный хлопковый мультиколор, helex',\n",
       " 'лестница-стремянка примус оцинкованный металл ступеней',\n",
       " 'щетка-сметка пластиковой ручкой лаура',\n",
       " 'термостакан webber кофе',\n",
       " 'гиностемма укорененный черенок',\n",
       " 'сумка-тележка хозяйственная andersen treppensteiger scala shopper, hera, черная',\n",
       " 'канадская коника горшок нидерланды',\n",
       " 'кипарисовик лавсона элвуди горшок нидерланды',\n",
       " 'коврик противоскользящий камешки ракушками овальный голубой',\n",
       " 'аптения',\n",
       " 'коврик придверный каучуковый черный, helex',\n",
       " 'антуриум андрианум фиорино',\n",
       " 'банка рондо элиз luminarc, китай',\n",
       " 'сушилка белья attribute прима синяя',\n",
       " 'весы напольные механические дельта',\n",
       " 'роза палас белая',\n",
       " 'ковер придверный ekspo коричневый',\n",
       " 'сушилка белья gimi mito алюминий',\n",
       " 'новогоднее дерево канадская коника',\n",
       " 'гладильная доска ника эльза премиум',\n",
       " 'новогоднее дерево сербская',\n",
       " 'чехол одежды малый светло-бежевый валиант valiant',\n",
       " 'новогоднее дерево канадская коника красном ведерке',\n",
       " 'мыльница пластмассовая ванну',\n",
       " 'подголовник bacchetta quadrifoglio',\n",
       " 'сушилка белья gimi modular silver',\n",
       " 'коврик dasch ванной комнаты листопад зеленый',\n",
       " 'сушилка белья напольная ника цвет аквамарин/белый',\n",
       " 'пеларгония грандифлора махровая микс',\n",
       " 'муляж мандарин мини магните',\n",
       " 'салфетка protec textil lino натур',\n",
       " 'мыло ручной работы свинюшка грязюшке',\n",
       " 'гладильная доска leifheit airboard compact plus малиновый',\n",
       " 'сушилка белья ванну leifheit adria',\n",
       " 'крючок одежный двойной усиленный алюминиевый (дюраль)',\n",
       " 'чехол одежды hausmann стенкой ручками синий',\n",
       " 'набор бокалов пива cervoise luminarc франция',\n",
       " 'защитный экран подставка дуршлаг webber цвет: зеленый силикона',\n",
       " 'многофункциональный инструмент функций',\n",
       " 'роза мини розовая',\n",
       " 'коврик ванну розовый',\n",
       " 'стремянка-табурет алюминиевая hailo step-ke ступени',\n",
       " 'пуансеттия красная розовым',\n",
       " 'коврик противоскользящий пузырьки бирюзовый',\n",
       " 'пуансеттия белая',\n",
       " 'петля рояльная оксид',\n",
       " 'тележка багажная delta черный грузоподъемность сумка каркас россия',\n",
       " 'цветущее комнатное растение бегония элатиор, цвет ассортименте',\n",
       " 'чайная ложка предметов вена',\n",
       " 'мясорубки (супер) лепесток',\n",
       " 'крассула',\n",
       " 'тарелка суповая ирис luminarc',\n",
       " 'комплект махровых салфеток хлопок цвета ассортименте, wellness',\n",
       " 'набор столовых приборов предмета oasis domenik',\n",
       " 'пуансеттия розовая',\n",
       " 'набор столовых приборов предмета saint germain domenik',\n",
       " 'коврик ворсовый ванной комнаты orthospa river rocks natural микрофибры прямоугольный серо-коричневый, apac',\n",
       " 'кольца штор виолет пластик',\n",
       " 'скатерть сидней полиэфир овальная сиреневая wellness',\n",
       " 'кувшин luminarc виктория крышкой',\n",
       " 'пуансеттия красная',\n",
       " 'набор столовых приборов предмета farandole domenik',\n",
       " 'сумка-тележка колесная gimi tris черная',\n",
       " 'чехол одежды объемный hausmann овальным окном ручками черный',\n",
       " 'коврик ворсовый придверный multy коричневый',\n",
       " 'чайный набор сельма luminarc, франция',\n",
       " 'вешалка напольная twist складная светлая степанов',\n",
       " 'скатерть towa ажурная presea прямоуголная сепия',\n",
       " 'вантуз черный пластиковой ручкой малый (маг)',\n",
       " 'вешалка закругленными плечиками перекладиной крючками противоскользящим покрытием valiant черный',\n",
       " 'термокружка alpenkok синий',\n",
       " 'чехол гладильной доски универсальный поролоном антипригарный, чпа, ника',\n",
       " 'плед флисовый wellness полиэстер',\n",
       " 'сумка-тележка хозяйственная rolser rojo красная',\n",
       " 'гладильная доска ника loreta golf',\n",
       " 'фоторамка alparaisa фотографий бронзовая',\n",
       " 'этажерка обуви узкая полки, медный, ника',\n",
       " 'тарелка десертная бамбук luminarc',\n",
       " 'скатерть джулия хлопок полиэфир прямоугольная золотая голубым wellness',\n",
       " 'сервировочная салфетка капучино',\n",
       " 'гладильная доска attribute teflonix оранжевая',\n",
       " 'чайник эмалированный metalloni свистком керамической ручкой французский шарм',\n",
       " 'новогоднее дерево канадская коника декоративном контейнере',\n",
       " 'шнур резиновый тележки белый',\n",
       " 'термос стеклянной колбой',\n",
       " 'скиммия японская рубелла',\n",
       " 'аспарагус спренжери',\n",
       " 'сумка-тележка хозяйственная rolser claudia черная, negro',\n",
       " 'доска разделочная alparaisa стеклянная завтрак',\n",
       " 'чайный набор карин ромашка, luminarc',\n",
       " 'штора ванной комнаты bacchetta fragmmento бежевая текстильная',\n",
       " 'тарелка суповая luminarc океан эклипс',\n",
       " 'гладильная доска ника бест',\n",
       " 'набор бокалов шампанского леди даймонд luminarc франция',\n",
       " 'коврик придверный пористый полимерных материалов коричневый, vortex',\n",
       " 'гладильная доска dogrular домина',\n",
       " 'сумка-тележка хозяйственная rolser saquet, черная, negro convert',\n",
       " 'сумка хозяйственная колесах',\n",
       " 'скатерть wellness полиэстер',\n",
       " 'роза кордана белая',\n",
       " 'сушилка белья meliconi miss stendy',\n",
       " 'кружка бамбук luminarc франция',\n",
       " 'комод эльфпласт алфавит оранжевый',\n",
       " 'скатерть арлет полиэфир хлопок овальная светло-бежевая wellness',\n",
       " 'сумка-тележка хозяйственная gimi brava',\n",
       " 'сушилка белья напольная colombo bella',\n",
       " 'штора ванной комнаты sintra бежевая текстильная',\n",
       " 'кондиционер белья sandokkaebi soft aroma aqua blue свежесть океана флакон корея',\n",
       " 'фарфоровая кружка rosario бабочка',\n",
       " 'термокружка alpenkok красный',\n",
       " 'сумка-тележка хозяйственная rolser pack gloria logic серая, marengo logic',\n",
       " 'вешалка металлическая valiant четырьмя разъемными перекладинами противоскользящим покрытием',\n",
       " 'корзина пластиковая белья крышкой белая виолет',\n",
       " 'вешалка настенная ника полкой крючков серебро',\n",
       " 'термос',\n",
       " 'вешалка гардеробная радуга белое серебро',\n",
       " 'стремянка framar major tech алюминиевая ступенчатая',\n",
       " 'вилка столовая тяжелая серия сапфир',\n",
       " 'скатерть виниловая тисненая ажурной каймой водонепроницаемая',\n",
       " 'электроштопор qwerty белый батарейках',\n",
       " 'коврик придверный полиэстер, drifted nature, изменчивость, mohawk',\n",
       " 'коврик придверный alpine wrought iron полиэстера переработанной резины apache',\n",
       " 'стремянка eurogold colour ступенчатая противоскользящим покрытием, сталь',\n",
       " 'тарелка обеденная luminarc океан эклипс',\n",
       " 'коврик ванной комнаты, мягкая основа, expedition history valiant',\n",
       " 'сумка-тележка хозяйственная gimi rolling thermo синяя',\n",
       " 'чайник эмалированный свистком',\n",
       " 'коврик противоскользящий овальный черепаха',\n",
       " 'комплект мытья полов нержавеющей стали пластика clean twist зеленый: швабра-моп ведро механизмом отжима',\n",
       " 'корзина белья виолет крышкой ротанг латте',\n",
       " 'простынь вафельная wellness хлопок',\n",
       " 'набор вешалок деревянных перекладиной лиловый romantic valiant',\n",
       " 'декоративная композиция искуственных цветов букет подсолнухов бутона',\n",
       " 'сковорода scovo алюминиевая крышки металической ручкой',\n",
       " 'вешалка valiant брюк юбок металлическая',\n",
       " 'пеларгония зональная диам. красный махровый',\n",
       " 'пеларгония зональная розоцветная маргарита лососевая листов',\n",
       " 'блюдце утро эклипс, luminarc, франция',\n",
       " 'скатерть ажурная d-ia rose круглая белая towa ltd-',\n",
       " 'штора ванной rigone зеленый',\n",
       " 'контейнер полимербыт премиум',\n",
       " 'сушилка белья напольная ника бело-голубая',\n",
       " 'фиттония скелетон',\n",
       " 'скатерть беатрис полиэфир хлопок прямоугольная светло-коричневая wellness',\n",
       " 'роза кустовая лейс кения плантация waridi limited штук упаковке',\n",
       " 'чехол одежды hausmann стенкой ручками',\n",
       " 'гладильная доска dogrular томрис',\n",
       " 'полки qwerty лондон белый',\n",
       " 'тимьян',\n",
       " 'бульонница luminarc мистигри',\n",
       " 'сушилка белья напольная ника',\n",
       " 'овощей мяса',\n",
       " 'алоэ вера',\n",
       " 'гладильная доска nika haushalt тефлон золотой',\n",
       " 'жестяная банка гуси',\n",
       " 'пеларгония зональная диам. красно-розовая простая',\n",
       " 'комнатное растение горшке сциндапсус зеленый подвесной горшок',\n",
       " 'сушилка белья напольная ника белая',\n",
       " 'роза одноголовая родос кения плантация subati flowers limited штук упаковке',\n",
       " 'сумка-тележка gimi italo blue синяя',\n",
       " 'щетка мытья посуды колибри большая',\n",
       " 'миксер василиса белый красным/малиновым скоростных режимов',\n",
       " 'ключница картина замок',\n",
       " 'разделочная доска attribute granite',\n",
       " 'штора ванной spirella спирелла porto, белый, текстиль гидрофобной пропиткой',\n",
       " 'тарелка обеденная стелла шоколад luminarc',\n",
       " 'чайник электрический василиса нержавеющая сталь черный красным',\n",
       " 'мантоварка-пароварка webber нержавеющая сталь',\n",
       " 'складная картонная коробка хранения уголками белый hausmann',\n",
       " 'спатифиллум шопен',\n",
       " 'чехол гладильной доски colombo клубки пряжи серый/розовый хлопка',\n",
       " 'контейнер герметичный прямоугольный виолет дымчатый',\n",
       " 'набор вешалок пластмассовых rozenbal',\n",
       " 'искусственный цветок пластиковый нарцисс бутона королевский',\n",
       " 'емкость соуса ложкой pasabahce',\n",
       " 'фикус каучуконосный эластика абиджан',\n",
       " 'тарелка суповая luminarc мариса оранж',\n",
       " 'защитная соль посудомоечных машин ludwik польша',\n",
       " 'пластмассовый пищевой круглый',\n",
       " 'гипоаллергенный концентрированный гель стирки белья деликатных тканей корея',\n",
       " 'коврик придверный дизайном, резины кокоса gothic iron slice готический узор',\n",
       " 'муляж ананас',\n",
       " 'сиденье ванны пластмассовое',\n",
       " 'сумка-тележка колесная gimi argo черная',\n",
       " 'коврик кухонный apache coffee chef',\n",
       " 'вешалка-перекладина valiant металлическая двойная антискользящим покрытием',\n",
       " 'скатерть муза полиэфир овальная сливочная цветами, wellness',\n",
       " 'кружка мерная',\n",
       " 'штора ванной spirella спирелла rings, текстиль гидрофобной пропиткой, серо-черный',\n",
       " 'фиалка белая махровая',\n",
       " 'штора ванной spirella спирелла shine текстиль гидрофобной пропиткой, шампань',\n",
       " 'модульная стеклянная банка brabantia',\n",
       " 'сушилка белья zalger simfony одноуровневая крыльями',\n",
       " 'контейнер мусора пластиковый ролл серый, curver',\n",
       " 'сушилка белья настенная ника серебро',\n",
       " 'перчатки fabrikators чистки овощей детские оранжевый',\n",
       " 'термостакан webber',\n",
       " 'сумка-тележка хозяйственная rolser negro convert черная',\n",
       " 'столовая ложка attribute fortress',\n",
       " 'сушилка белья hausmann hermes luxe',\n",
       " 'подставка ножей alpenkok круглая пластика красная',\n",
       " 'лестница стремянка конёк медный антик',\n",
       " 'чайный набор luminarc лили флауэр',\n",
       " 'весы напольные edition feet механические',\n",
       " 'петля рояльная цинк',\n",
       " 'банка стеклянная металлической крышкой краником attribute grape',\n",
       " 'карниз ванной комнаты виолет раздвижной кольцами белый',\n",
       " 'азалия индика фиолетовая',\n",
       " 'пеларгония зональная махровая белая взрослое растение',\n",
       " 'пеларгония розебудная emma укорененный черенок',\n",
       " 'пеларгония розебудная mary укорененный черенок',\n",
       " 'пеларгония розебудная prins nikolai укорененный черенок',\n",
       " 'полки qwerty берлин чёрный',\n",
       " 'штора ванной комнаты ракушки бежевая',\n",
       " 'крючок проволочный латунь',\n",
       " 'просеиватель муки',\n",
       " 'мусорный контейнер hailo bigbin swing хром',\n",
       " 'пеларгония toscana angeleyes amarillo burgundy укорененный черенок',\n",
       " 'пеларгония toscana angeleyes amarillo rosato укорененный черенок',\n",
       " 'пеларгония розебудная queen ingrid укорененный черенок',\n",
       " 'пеларгония розебудная pandora укорененный черенок',\n",
       " 'пеларгония toscana angeleyes bicolor укорененный черенок',\n",
       " 'скатерть meiwa fplus-plain sarasa бежевая meiwa',\n",
       " 'кастрюля чугунная красная, pyrex',\n",
       " 'сиденье гладильной доски leifheit niveau',\n",
       " 'штора ванной rigone розовый',\n",
       " 'весы настольные электронные delta белый',\n",
       " 'крючок проволочный медь',\n",
       " 'гладильная доска ника верона чехол мужчина розой',\n",
       " 'средство мытья посуды vestar гранат россия',\n",
       " 'декоративная коробка stockholm classico curver',\n",
       " 'толкушка деревянная',\n",
       " 'махровое полотенце wellness exclusive хлопок',\n",
       " 'вешалка ника комфорт напольная серебро',\n",
       " 'швабра пола отжимом фиксатором микрофибра, rozenbal',\n",
       " 'искусственная лиана плющ',\n",
       " 'кодонанта укорененный черенок',\n",
       " 'коврик придверный format tour добро пожаловать',\n",
       " 'гладильная доска',\n",
       " 'кофр хранения hausmann средний',\n",
       " 'гладильная доска ника лина',\n",
       " 'гладильная доска dogrular инжи',\n",
       " 'средство быстрого удаления жировых загрязнений decs антижир россия',\n",
       " 'совок щетка стальных длинных рукоятках rozenbal',\n",
       " 'контейнер мусора доминик curver серебристый',\n",
       " 'тарелка десертная luminarc дивали',\n",
       " 'хлебница деревянная (бук)',\n",
       " 'сумка-тележка хозяйственная gimi kangoo thermo powder коричневая',\n",
       " 'искусственный цветок мимоза пластиковая желтая',\n",
       " 'гладильная доска sarayli grown',\n",
       " 'гладильная доска dogrular сити',\n",
       " 'пеларгония розебудная margaretha укорененный черенок',\n",
       " 'тарелка суповая стоунмания капучино luminarc',\n",
       " 'антуриум андрианум пикассо голубой',\n",
       " 'гладильная доска eurogold europa paris',\n",
       " 'скатерть dasch донна роза розы овальная',\n",
       " 'тарелка десертная luminarc сина сильвер',\n",
       " 'искусственный цветок ландыш пластиковый малый белый',\n",
       " 'корзина белья виолет крышкой ротанг белая',\n",
       " 'кружка luminarc шэйдс блэк',\n",
       " 'гербера комнатная желто-оранжевая',\n",
       " 'насадка-отжим пластиковая бирюзовая ведра classic mop, leifheit',\n",
       " 'муляж оранжевое яблоко мини полиуретан',\n",
       " 'ведро пластиковое универсальное цвета морской волны, leifheit',\n",
       " 'ковер придверный ekspo серый',\n",
       " 'гладильная доска ника эльза люкс',\n",
       " \"коврик туалета l'cadesi hurrem вырезом бежевый\",\n",
       " 'салатник luminarc эмпилабль велада',\n",
       " 'искусственный цветок ландыш пластиковый большой белый',\n",
       " 'сумка-тележка хозяйственная rolser серебро, plata',\n",
       " 'цикламен, цвет ассортименте',\n",
       " 'тарелка десертная attribute lily tracery white',\n",
       " 'коврик придверный резины кокоса, format forme, кот, серый, srl',\n",
       " 'фаленопсис люкс микс ствол',\n",
       " 'сумка-тележка хозяйственная rolser фиолетовая, malva',\n",
       " 'сумка-тележка хозяйственная gimi rolling thermo коричневая',\n",
       " 'кружка марли эклипс luminarc франция',\n",
       " 'цикламен цвет ассортименте',\n",
       " 'гимнокалициум микс',\n",
       " 'сумка-тележка хозяйственная rolser capri черная, negro',\n",
       " 'штора ванной комнаты rigone розовая текстильная',\n",
       " 'сумка-тележка колесная gimi argo фиолетовая',\n",
       " 'гладильная доска eurogold delux',\n",
       " 'емкость прямоугольная, curver',\n",
       " 'нетканые салфетки рулоне eurohouse',\n",
       " 'примула желтая оранжевым горшке',\n",
       " 'сушилка белья виолет julia хром',\n",
       " 'пылесос delta синий мешок сбора пыли подарок мощность всасывания',\n",
       " 'рассада зелени кухни душица-орегано розовый объем',\n",
       " 'рассада зелени кухни мята морокан диам.',\n",
       " 'рассада зелени кухни ориганум ауреум голд диам.',\n",
       " 'рассада пряной травы лавр горшке',\n",
       " 'зубная паста systema tartar против образования зубного камня корея',\n",
       " 'вешалка деревянная верхней одежды',\n",
       " 'корзина белья эльфпласт виола бежевая',\n",
       " 'калатея кроката',\n",
       " 'кофе арабика',\n",
       " 'вешалка напольная подставкой сумок blues темная колесиках степанов',\n",
       " 'пеларгония зональная диам. розовая рябая полумахровая',\n",
       " 'контейнер продуктов pasabahce голубой',\n",
       " 'антуриум тропик найт нидерланды штука упаковке',\n",
       " 'эхинокактус грузони',\n",
       " 'коврик ванной комнаты orsini хлопок светло-бежевый, spirella',\n",
       " 'чехол костюма rozenbal',\n",
       " 'искусственный цветок букет примулы пластиковая лиловая',\n",
       " 'термокружка вакуумная alpenkok нержавеющей стали коричневая',\n",
       " 'корзина белья бамбук угловая attribute',\n",
       " 'набор махровых салфеток хлопок цвета ассортименте, wellness',\n",
       " 'коврик придверный влаговпитывающий hello, bonjour, ciao переработанной резины коврового покрытия apache',\n",
       " 'сушилка белья виолет julia белая',\n",
       " 'чайник заварочный luminarc элиз',\n",
       " 'коврик интерьерный вино comfort mats, mohawk',\n",
       " ...]"
      ]
     },
     "execution_count": 212,
     "metadata": {},
     "output_type": "execute_result"
    }
   ],
   "source": [
    "names = list(df['product_name'].unique())\n",
    "names"
   ]
  },
  {
   "cell_type": "code",
   "execution_count": 260,
   "id": "bfb3b06b",
   "metadata": {},
   "outputs": [],
   "source": [
    "# декор\n",
    "decor = ['растен', 'рассада', 'пеларгония', 'герань', 'муляж', 'цветок', 'хвойн', 'лекарств', \n",
    "       'кашпо', 'микс', 'роза', 'фиалка', 'хризантема', 'бегония', 'бальзамин', \n",
    "       'крассула', 'полынь', 'лаванда', 'мята', 'каланхое', 'дендробиум', 'каллуна', 'мимоза', \n",
    "       'соланум', 'бархатцы', 'космея', 'настурция', 'алиссум', 'гвоздика', \n",
    "      'годеция', 'календула', 'кореопсис', 'лапчатка', 'флокс', 'цинерария', 'эшшольция'\n",
    "      'подсолнечник', 'пуансетия', 'горшок', 'аптения', 'антуриум', 'дерево', 'крассула', 'аспарагус', \n",
    "      'фиттония', 'тимьян', 'алоэ', 'спатифиллум', 'азалия', 'искусств', 'кодонанта', \n",
    "       'гербера', 'цикламен', 'калатея']\n",
    "for i in decor:\n",
    "    df.loc[df['product_name'].str.find(i) != -1, 'category'] = 'декор, растения'\n",
    "\n",
    "plants = ['радермахера', 'хризолидокарпус лутесценс', 'циперус зумула', 'шеффлера лузеана', 'юкка нитчатая', 'герань домашняя (пеларгония зональная) цветущая коралловая, полумахровая', 'суккулент микс', 'эхеверия перл нюрнберг', 'эвкалипт гунни', 'адиантум лиза', 'кампанула махровая двухцветная', 'калатея микс', 'хлорофитум', 'цикламен', 'глоксиния',\n",
    "          'азалия индика биколор','гортензия микс','хризантема космо микс', 'кориандр кассете', 'мирт', 'аспарагус', \n",
    "         'антуриум андрианум блэк', 'гербера', 'душица обыкновенная', 'розмарин', 'спиралис', 'нолина цветной керамике']\n",
    "for i in plants:\n",
    "    df.loc[df['product_name'] == i, 'category'] = 'декор, растения'"
   ]
  },
  {
   "cell_type": "code",
   "execution_count": 261,
   "id": "e5617923",
   "metadata": {},
   "outputs": [],
   "source": [
    "# для кухни\n",
    "posuda = ['сковород', 'тарелк', 'вилка', 'ложка', 'столов', \n",
    "          'котел', 'круж', 'пищев', 'кувшин', 'толкушка', 'посуд', 'стакан', 'фужер', \n",
    "          'салат', 'бокал', 'крышк', 'овощ', 'скатерть', 'бутыл', 'пластмасс', 'банк', \n",
    "         'противень', 'миксер', 'tepмокружка', 'чайник', 'салфетка', 'ножеточка', 'масленка', \n",
    "          'рыбочистка', 'терка', 'лопатка', 'овощечистк', 'кухон', 'выпечк', 'картофелемялка', \n",
    "          'термос', 'чай']\n",
    "for i in posuda:\n",
    "    df.loc[df['product_name'].str.find(i) != -1, 'category'] = 'для кухни'"
   ]
  },
  {
   "cell_type": "code",
   "execution_count": 262,
   "id": "43b22915",
   "metadata": {},
   "outputs": [],
   "source": [
    "# для сан.узла\n",
    "wc = ['сушилка', 'бель', 'туалет', 'мыл', 'унитаз', 'ванн', 'пена', 'подрукавник', 'зубная', \n",
    "      'сантехн', 'средство мытья', 'вантуз' \n",
    "     ]\n",
    "for i in wc:\n",
    "    df.loc[df['product_name'].str.find(i) != -1, 'category'] = 'для сан. узла'"
   ]
  },
  {
   "cell_type": "code",
   "execution_count": 263,
   "id": "adc177f4",
   "metadata": {},
   "outputs": [],
   "source": [
    "# для уюта\n",
    "uyt = ['ковер', 'коврик', 'плед', 'простын', 'светильник', 'короб', 'наматрасник', \n",
    "       'халат', 'покрывало', 'одеяло', 'полки', 'ключница']\n",
    "\n",
    "for i in uyt:\n",
    "    df.loc[df['product_name'].str.find(i) != -1, 'category'] = 'для уюта'"
   ]
  },
  {
   "cell_type": "code",
   "execution_count": 264,
   "id": "b4752cd5",
   "metadata": {},
   "outputs": [],
   "source": [
    "# аксессуары\n",
    "acsess = ['чехол', 'кофр', 'чехлы', 'сумка', 'вешал', 'крючок', 'щетка', 'прищеп', 'перчат', 'тележк', \n",
    "         'швабр', 'сметка', 'весы']\n",
    "\n",
    "for i in acsess:\n",
    "    df.loc[df['product_name'].str.find(i) != -1, 'category'] = 'аксессуары'"
   ]
  },
  {
   "cell_type": "code",
   "execution_count": 265,
   "id": "f6520a80",
   "metadata": {},
   "outputs": [],
   "source": [
    "# инструменты\n",
    "instrum = ['стремянка', 'стяжка', 'пружин', 'петля', 'сверел', 'карниз', 'сварка', \n",
    "           'строительн', 'угольник','линейка', 'петля', 'бензин', 'полировки', 'губка', \n",
    "          'шило', 'инструмент']\n",
    "for i in instrum:\n",
    "    df.loc[df['product_name'].str.find(i) != -1, 'category'] = 'инструменты'"
   ]
  },
  {
   "cell_type": "code",
   "execution_count": 266,
   "id": "71542f18",
   "metadata": {},
   "outputs": [
    {
     "data": {
      "image/png": "[encoded data removed]",
      "text/plain": [
       "<Figure size 720x360 with 1 Axes>"
      ]
     },
     "metadata": {
      "needs_background": "light"
     },
     "output_type": "display_data"
    }
   ],
   "source": [
    "plt.figure(figsize=(10, 5))\n",
    "plt.title('Распределение товаров по категориям')\n",
    "df['category'].hist(bins=100)\n",
    "plt.savefig('categories.jpg')"
   ]
  },
  {
   "cell_type": "markdown",
   "id": "caabd52b",
   "metadata": {},
   "source": [
    "#### Итог"
   ]
  },
  {
   "cell_type": "markdown",
   "id": "38373b1f",
   "metadata": {},
   "source": [
    "Продукты разделены на категории: 1) декор и растения, 2) для кухни, 3) для сан.узла, 4) для уюта, 5) инструменты, 6) аксессуары, 7) остальное \n",
    "\n",
    "Больше всего раз в датасете встречается категория с растениями и декором и аксессуары. Реже всего - инструменты и товары для уюта."
   ]
  },
  {
   "cell_type": "markdown",
   "id": "49b7327f",
   "metadata": {},
   "source": [
    "### Данные по заказам "
   ]
  },
  {
   "cell_type": "markdown",
   "id": "34b1d72b",
   "metadata": {},
   "source": [
    "#### Агрегирование данных"
   ]
  },
  {
   "cell_type": "markdown",
   "id": "a3aeaaba",
   "metadata": {},
   "source": [
    "Создадим таблицу с заказами, в которой будут следующие поля: id заказа, количество товаров в нем, общая стоимость, дата совершения и id покупателя, а также дата, час, день недели совершения заказа"
   ]
  },
  {
   "cell_type": "code",
   "execution_count": 222,
   "id": "e091cfd9",
   "metadata": {},
   "outputs": [],
   "source": [
    "# таблица с заказами: id заказа, количество продуктов, общая стоимость, дата совершения, id покупателя\n",
    "orders = pd.pivot_table(data=df, index='order_id', aggfunc={'total_price': np.sum, 'quantity': np.sum})\n",
    "orders = orders.rename(columns={'total_price': 'sum_of_order', 'quantity':'quantity_of_products'})\n",
    "dates = df[['order_id', 'date', 'weekday']]\n",
    "dates = dates.drop_duplicates()\n",
    "dates = dates.set_index('order_id')\n",
    "dates_first = pd.DataFrame(dates.groupby('order_id')['date'].first())\n",
    "orders = orders.join(dates_first, on='order_id')"
   ]
  },
  {
   "cell_type": "code",
   "execution_count": 223,
   "id": "ed9a69a3",
   "metadata": {
    "scrolled": true
   },
   "outputs": [
    {
     "data": {
      "text/html": [
       "<div>\n",
       "<style scoped>\n",
       "    .dataframe tbody tr th:only-of-type {\n",
       "        vertical-align: middle;\n",
       "    }\n",
       "\n",
       "    .dataframe tbody tr th {\n",
       "        vertical-align: top;\n",
       "    }\n",
       "\n",
       "    .dataframe thead th {\n",
       "        text-align: right;\n",
       "    }\n",
       "</style>\n",
       "<table border=\"1\" class=\"dataframe\">\n",
       "  <thead>\n",
       "    <tr style=\"text-align: right;\">\n",
       "      <th></th>\n",
       "      <th>quantity_of_products</th>\n",
       "      <th>sum_of_order</th>\n",
       "      <th>date</th>\n",
       "      <th>customer_id</th>\n",
       "      <th>weekday</th>\n",
       "      <th>hour</th>\n",
       "      <th>year</th>\n",
       "    </tr>\n",
       "    <tr>\n",
       "      <th>order_id</th>\n",
       "      <th></th>\n",
       "      <th></th>\n",
       "      <th></th>\n",
       "      <th></th>\n",
       "      <th></th>\n",
       "      <th></th>\n",
       "      <th></th>\n",
       "    </tr>\n",
       "  </thead>\n",
       "  <tbody>\n",
       "    <tr>\n",
       "      <th>12624</th>\n",
       "      <td>2</td>\n",
       "      <td>375.0</td>\n",
       "      <td>2019-06-02 20:00:00</td>\n",
       "      <td>d17861fa-db5f-4de4-93fd-dc5e60d24d3e</td>\n",
       "      <td>6</td>\n",
       "      <td>20</td>\n",
       "      <td>2019</td>\n",
       "    </tr>\n",
       "    <tr>\n",
       "      <th>13547</th>\n",
       "      <td>3</td>\n",
       "      <td>684.0</td>\n",
       "      <td>2018-10-05 00:00:00</td>\n",
       "      <td>b80e4826-7218-4bf9-ac08-eb2c81ab3f62</td>\n",
       "      <td>4</td>\n",
       "      <td>0</td>\n",
       "      <td>2018</td>\n",
       "    </tr>\n",
       "    <tr>\n",
       "      <th>14480</th>\n",
       "      <td>3</td>\n",
       "      <td>359.0</td>\n",
       "      <td>2018-10-02 11:00:00</td>\n",
       "      <td>f08d9018-438e-4e96-b519-f74c0302a433</td>\n",
       "      <td>1</td>\n",
       "      <td>11</td>\n",
       "      <td>2018</td>\n",
       "    </tr>\n",
       "    <tr>\n",
       "      <th>14481</th>\n",
       "      <td>4</td>\n",
       "      <td>600.0</td>\n",
       "      <td>2018-10-02 17:00:00</td>\n",
       "      <td>49b9c587-c19e-4481-bace-967aeac357fa</td>\n",
       "      <td>1</td>\n",
       "      <td>17</td>\n",
       "      <td>2018</td>\n",
       "    </tr>\n",
       "    <tr>\n",
       "      <th>14482</th>\n",
       "      <td>2</td>\n",
       "      <td>376.0</td>\n",
       "      <td>2018-10-07 12:00:00</td>\n",
       "      <td>43993fd2-20c9-44f7-8634-cf0aee26df4f</td>\n",
       "      <td>6</td>\n",
       "      <td>12</td>\n",
       "      <td>2018</td>\n",
       "    </tr>\n",
       "  </tbody>\n",
       "</table>\n",
       "</div>"
      ],
      "text/plain": [
       "          quantity_of_products  sum_of_order                date  \\\n",
       "order_id                                                           \n",
       "12624                        2         375.0 2019-06-02 20:00:00   \n",
       "13547                        3         684.0 2018-10-05 00:00:00   \n",
       "14480                        3         359.0 2018-10-02 11:00:00   \n",
       "14481                        4         600.0 2018-10-02 17:00:00   \n",
       "14482                        2         376.0 2018-10-07 12:00:00   \n",
       "\n",
       "                                   customer_id  weekday  hour  year  \n",
       "order_id                                                             \n",
       "12624     d17861fa-db5f-4de4-93fd-dc5e60d24d3e        6    20  2019  \n",
       "13547     b80e4826-7218-4bf9-ac08-eb2c81ab3f62        4     0  2018  \n",
       "14480     f08d9018-438e-4e96-b519-f74c0302a433        1    11  2018  \n",
       "14481     49b9c587-c19e-4481-bace-967aeac357fa        1    17  2018  \n",
       "14482     43993fd2-20c9-44f7-8634-cf0aee26df4f        6    12  2018  "
      ]
     },
     "execution_count": 223,
     "metadata": {},
     "output_type": "execute_result"
    }
   ],
   "source": [
    "# добавляем дату, час, день недели, клиента\n",
    "customers_orders = df[['customer_id', 'order_id']]\n",
    "customers_orders = customers_orders.drop_duplicates()\n",
    "customers_orders = customers_orders.set_index('order_id')\n",
    "orders = orders.join(customers_orders, on='order_id')\n",
    "orders['weekday'] = pd.to_datetime(orders['date']).dt.dayofweek\n",
    "orders['hour'] = orders['date'].dt.hour\n",
    "orders['year'] = orders['date'].dt.year\n",
    "orders.head()"
   ]
  },
  {
   "cell_type": "markdown",
   "id": "bdf7499e",
   "metadata": {},
   "source": [
    "Посмотрим, есть ли аномальные заказы в получившейся таблице. Для этого стоит построить графики распределения по количеству товаров в заказе."
   ]
  },
  {
   "cell_type": "code",
   "execution_count": 224,
   "id": "c45a52cb",
   "metadata": {
    "scrolled": true
   },
   "outputs": [
    {
     "data": {
      "image/png": "[encoded data removed]",
      "text/plain": [
       "<Figure size 1440x432 with 2 Axes>"
      ]
     },
     "metadata": {
      "needs_background": "light"
     },
     "output_type": "display_data"
    }
   ],
   "source": [
    "# посмотрим на распределение значений по количеству товаров в заказе\n",
    "plt.figure(figsize=(20, 6))\n",
    "ax1 = plt.subplot(1, 2, 1)\n",
    "plt.xlim(0, 200)\n",
    "orders['quantity_of_products'].hist(bins=100)\n",
    "ax2 = plt.subplot(1, 2, 2)\n",
    "plt.ylim(0, 50)\n",
    "plt.boxplot(x=orders['quantity_of_products'])\n",
    "None"
   ]
  },
  {
   "cell_type": "markdown",
   "id": "c793b186",
   "metadata": {},
   "source": [
    "Поскольку заметно, что есть выбросы, определим их границу через 95 перцентиль и затем удалим из датасета."
   ]
  },
  {
   "cell_type": "code",
   "execution_count": 225,
   "id": "71cd635b",
   "metadata": {},
   "outputs": [
    {
     "data": {
      "text/plain": [
       "18.0"
      ]
     },
     "execution_count": 225,
     "metadata": {},
     "output_type": "execute_result"
    }
   ],
   "source": [
    "# заметно, что есть выбросы\n",
    "np.percentile(orders['quantity_of_products'], 95)"
   ]
  },
  {
   "cell_type": "code",
   "execution_count": 226,
   "id": "9486a11f",
   "metadata": {},
   "outputs": [
    {
     "data": {
      "text/plain": [
       "<AxesSubplot:>"
      ]
     },
     "execution_count": 226,
     "metadata": {},
     "output_type": "execute_result"
    },
    {
     "data": {
      "image/png": "[encoded data removed]",
      "text/plain": [
       "<Figure size 432x288 with 1 Axes>"
      ]
     },
     "metadata": {
      "needs_background": "light"
     },
     "output_type": "display_data"
    }
   ],
   "source": [
    "# уберем из датасета все заказы, в которых количество товаров превышает 21\n",
    "orders_clear = orders.query('quantity_of_products < 18')\n",
    "orders_clear['quantity_of_products'].hist()"
   ]
  },
  {
   "cell_type": "code",
   "execution_count": 227,
   "id": "db4f670c",
   "metadata": {
    "scrolled": true
   },
   "outputs": [
    {
     "data": {
      "text/plain": [
       "5.07632232871849"
      ]
     },
     "execution_count": 227,
     "metadata": {},
     "output_type": "execute_result"
    }
   ],
   "source": [
    "# смотрим, сколько заказов удалилось\n",
    "100 - (len(orders_clear) / len(orders) * 100)"
   ]
  },
  {
   "cell_type": "markdown",
   "id": "25744f55",
   "metadata": {},
   "source": [
    "Потеря 5% заказов не сильно повлияет на данные"
   ]
  },
  {
   "cell_type": "markdown",
   "id": "f373beb4",
   "metadata": {},
   "source": [
    "Итак, у нас получилась \"очищенная\" таблица с заказами. Сохраняем ее для дашборда и запопинаем айди клиентов, совершивших заказы, чтобы убрать аномальных из всего датасета"
   ]
  },
  {
   "cell_type": "code",
   "execution_count": 228,
   "id": "bc69a714",
   "metadata": {
    "scrolled": true
   },
   "outputs": [
    {
     "name": "stderr",
     "output_type": "stream",
     "text": [
      "<ipython-input-228-3332e4dcbdec>:1: SettingWithCopyWarning: \n",
      "A value is trying to be set on a copy of a slice from a DataFrame.\n",
      "Try using .loc[row_indexer,col_indexer] = value instead\n",
      "\n",
      "See the caveats in the documentation: https://pandas.pydata.org/pandas-docs/stable/user_guide/indexing.html#returning-a-view-versus-a-copy\n",
      "  orders_clear['day_name'] = orders_clear['date'].dt.day_name()\n"
     ]
    },
    {
     "data": {
      "text/html": [
       "<div>\n",
       "<style scoped>\n",
       "    .dataframe tbody tr th:only-of-type {\n",
       "        vertical-align: middle;\n",
       "    }\n",
       "\n",
       "    .dataframe tbody tr th {\n",
       "        vertical-align: top;\n",
       "    }\n",
       "\n",
       "    .dataframe thead th {\n",
       "        text-align: right;\n",
       "    }\n",
       "</style>\n",
       "<table border=\"1\" class=\"dataframe\">\n",
       "  <thead>\n",
       "    <tr style=\"text-align: right;\">\n",
       "      <th></th>\n",
       "      <th>quantity_of_products</th>\n",
       "      <th>sum_of_order</th>\n",
       "      <th>date</th>\n",
       "      <th>customer_id</th>\n",
       "      <th>weekday</th>\n",
       "      <th>hour</th>\n",
       "      <th>year</th>\n",
       "      <th>day_name</th>\n",
       "    </tr>\n",
       "    <tr>\n",
       "      <th>order_id</th>\n",
       "      <th></th>\n",
       "      <th></th>\n",
       "      <th></th>\n",
       "      <th></th>\n",
       "      <th></th>\n",
       "      <th></th>\n",
       "      <th></th>\n",
       "      <th></th>\n",
       "    </tr>\n",
       "  </thead>\n",
       "  <tbody>\n",
       "    <tr>\n",
       "      <th>12624</th>\n",
       "      <td>2</td>\n",
       "      <td>375.0</td>\n",
       "      <td>2019-06-02 20:00:00</td>\n",
       "      <td>d17861fa-db5f-4de4-93fd-dc5e60d24d3e</td>\n",
       "      <td>6</td>\n",
       "      <td>20</td>\n",
       "      <td>2019</td>\n",
       "      <td>Sunday</td>\n",
       "    </tr>\n",
       "    <tr>\n",
       "      <th>13547</th>\n",
       "      <td>3</td>\n",
       "      <td>684.0</td>\n",
       "      <td>2018-10-05 00:00:00</td>\n",
       "      <td>b80e4826-7218-4bf9-ac08-eb2c81ab3f62</td>\n",
       "      <td>4</td>\n",
       "      <td>0</td>\n",
       "      <td>2018</td>\n",
       "      <td>Friday</td>\n",
       "    </tr>\n",
       "    <tr>\n",
       "      <th>14480</th>\n",
       "      <td>3</td>\n",
       "      <td>359.0</td>\n",
       "      <td>2018-10-02 11:00:00</td>\n",
       "      <td>f08d9018-438e-4e96-b519-f74c0302a433</td>\n",
       "      <td>1</td>\n",
       "      <td>11</td>\n",
       "      <td>2018</td>\n",
       "      <td>Tuesday</td>\n",
       "    </tr>\n",
       "    <tr>\n",
       "      <th>14481</th>\n",
       "      <td>4</td>\n",
       "      <td>600.0</td>\n",
       "      <td>2018-10-02 17:00:00</td>\n",
       "      <td>49b9c587-c19e-4481-bace-967aeac357fa</td>\n",
       "      <td>1</td>\n",
       "      <td>17</td>\n",
       "      <td>2018</td>\n",
       "      <td>Tuesday</td>\n",
       "    </tr>\n",
       "    <tr>\n",
       "      <th>14482</th>\n",
       "      <td>2</td>\n",
       "      <td>376.0</td>\n",
       "      <td>2018-10-07 12:00:00</td>\n",
       "      <td>43993fd2-20c9-44f7-8634-cf0aee26df4f</td>\n",
       "      <td>6</td>\n",
       "      <td>12</td>\n",
       "      <td>2018</td>\n",
       "      <td>Sunday</td>\n",
       "    </tr>\n",
       "  </tbody>\n",
       "</table>\n",
       "</div>"
      ],
      "text/plain": [
       "          quantity_of_products  sum_of_order                date  \\\n",
       "order_id                                                           \n",
       "12624                        2         375.0 2019-06-02 20:00:00   \n",
       "13547                        3         684.0 2018-10-05 00:00:00   \n",
       "14480                        3         359.0 2018-10-02 11:00:00   \n",
       "14481                        4         600.0 2018-10-02 17:00:00   \n",
       "14482                        2         376.0 2018-10-07 12:00:00   \n",
       "\n",
       "                                   customer_id  weekday  hour  year day_name  \n",
       "order_id                                                                      \n",
       "12624     d17861fa-db5f-4de4-93fd-dc5e60d24d3e        6    20  2019   Sunday  \n",
       "13547     b80e4826-7218-4bf9-ac08-eb2c81ab3f62        4     0  2018   Friday  \n",
       "14480     f08d9018-438e-4e96-b519-f74c0302a433        1    11  2018  Tuesday  \n",
       "14481     49b9c587-c19e-4481-bace-967aeac357fa        1    17  2018  Tuesday  \n",
       "14482     43993fd2-20c9-44f7-8634-cf0aee26df4f        6    12  2018   Sunday  "
      ]
     },
     "execution_count": 228,
     "metadata": {},
     "output_type": "execute_result"
    }
   ],
   "source": [
    "orders_clear['day_name'] = orders_clear['date'].dt.day_name()\n",
    "orders_clear.to_csv('orders_ecom.csv')\n",
    "orders_clear.head()"
   ]
  },
  {
   "cell_type": "code",
   "execution_count": 229,
   "id": "94bd1e08",
   "metadata": {},
   "outputs": [],
   "source": [
    "custm_list = []\n",
    "for i in orders_clear['customer_id']:\n",
    "    custm_list.append(i)"
   ]
  },
  {
   "cell_type": "code",
   "execution_count": 230,
   "id": "a61526a6",
   "metadata": {
    "scrolled": false
   },
   "outputs": [
    {
     "data": {
      "text/plain": [
       "2451"
      ]
     },
     "execution_count": 230,
     "metadata": {},
     "output_type": "execute_result"
    }
   ],
   "source": [
    "df['customer_id'].nunique()"
   ]
  },
  {
   "cell_type": "code",
   "execution_count": 231,
   "id": "a24b3b5b",
   "metadata": {
    "scrolled": true
   },
   "outputs": [
    {
     "data": {
      "text/plain": [
       "2325"
      ]
     },
     "execution_count": 231,
     "metadata": {},
     "output_type": "execute_result"
    }
   ],
   "source": [
    "orders_clear['customer_id'].nunique()"
   ]
  },
  {
   "cell_type": "code",
   "execution_count": null,
   "id": "d5ef085a",
   "metadata": {},
   "outputs": [],
   "source": [
    "# уберем из всего датасета заказы с выбросами\n",
    "#for i, row in df.iterrows():\n",
    "    #if row[1] not in custm_list:\n",
    "        #df = df.drop(index=[i])"
   ]
  },
  {
   "cell_type": "code",
   "execution_count": 233,
   "id": "527d83a8",
   "metadata": {},
   "outputs": [],
   "source": [
    "df = df.query('customer_id in @custm_list')"
   ]
  },
  {
   "cell_type": "code",
   "execution_count": 234,
   "id": "87345859",
   "metadata": {},
   "outputs": [
    {
     "data": {
      "text/plain": [
       "2325"
      ]
     },
     "execution_count": 234,
     "metadata": {},
     "output_type": "execute_result"
    }
   ],
   "source": [
    "df['customer_id'].nunique()"
   ]
  },
  {
   "cell_type": "markdown",
   "id": "53f05a1b",
   "metadata": {},
   "source": [
    "#### Анализ"
   ]
  },
  {
   "cell_type": "markdown",
   "id": "835a2ef2",
   "metadata": {},
   "source": [
    "Создадим функцию для расчета кумулятивных показателей по дням, товарам и категориям, а затем функцию для отображения графиков"
   ]
  },
  {
   "cell_type": "code",
   "execution_count": 267,
   "id": "6f729ada",
   "metadata": {},
   "outputs": [],
   "source": [
    "df['category'] = df['category'].astype('object')"
   ]
  },
  {
   "cell_type": "code",
   "execution_count": 268,
   "id": "47e04224",
   "metadata": {},
   "outputs": [],
   "source": [
    "# создадим функция для расчета кумулятивных показателей\n",
    "def df_cum(df, factor):\n",
    "    dates_groups = df[['date', factor]].drop_duplicates()\n",
    "    # собираем агрегированные кумулятивные данные о заказах и покупателях по дням\n",
    "    product_factor_agg = dates_groups.apply(lambda x: df[np.logical_and(df['date'] <= x['date'], df[factor] == x[factor])]\n",
    "                                            .agg({'date': 'max', factor: 'max', 'order_id': pd.Series.nunique,\n",
    "                                                  'customer_id': pd.Series.nunique, 'total_price': 'sum'}),\n",
    "                                            axis=1).sort_values(by=['date', factor])\n",
    "    \n",
    "    # собираем агрегированные кумулятивные данные о товарах по дням\n",
    "    customers_agg = dates_groups.apply(lambda x: df[np.logical_and(df['date'] <= x['date'], df[factor] == x[factor])]\n",
    "                                       .agg({'date': 'max', factor: 'max', 'quantity': 'sum'}),\n",
    "                                       axis=1).sort_values(by=['date', factor])\n",
    "    \n",
    "    # объединяем кумулятивные данные в одной таблице и переименуем столбцы\n",
    "    result = product_factor_agg.merge(customers_agg, on=['date', factor])\n",
    "    result.columns = ['date', factor, 'orders', 'customers', 'total_price', 'quantity']\n",
    "    return result"
   ]
  },
  {
   "cell_type": "code",
   "execution_count": 269,
   "id": "60d9f632",
   "metadata": {},
   "outputs": [],
   "source": [
    "# создаем аккумулированные данные по категориям товаров\n",
    "data_cum = df_cum(df, 'category')"
   ]
  },
  {
   "cell_type": "code",
   "execution_count": 270,
   "id": "e10442f9",
   "metadata": {},
   "outputs": [],
   "source": [
    "# aункция построения сравнительного графика\n",
    "def plot_dif_groups(df, column, factor, date, title, factor_name, ylabel):\n",
    "\n",
    "    fig, ax = plt.subplots(figsize=(10,5))\n",
    "    ax.set(title=title+' по группам '+factor_name, xlabel='дата', ylabel=ylabel)\n",
    "    for category in df[factor].unique():\n",
    "        df_categ = df[df[factor] == category]\n",
    "        ax.plot(df_categ[date], df_categ[column], '-', label=category)\n",
    "    xlabels = ax.xaxis.get_ticklabels()\n",
    "    for label in xlabels:\n",
    "        label.set_rotation(45)\n",
    "    ax.grid()\n",
    "    ax.legend(bbox_to_anchor=(1.52, 1))\n",
    "    plt.savefig('cum_profit1.jpg', transparent=True)\n",
    "    plt.show()"
   ]
  },
  {
   "cell_type": "code",
   "execution_count": 271,
   "id": "d2173bf9",
   "metadata": {},
   "outputs": [
    {
     "data": {
      "image/png": "[encoded data removed]",
      "text/plain": [
       "<Figure size 720x360 with 1 Axes>"
      ]
     },
     "metadata": {
      "needs_background": "light"
     },
     "output_type": "display_data"
    }
   ],
   "source": [
    "plot_dif_groups(data_cum, 'total_price', 'category', 'date', 'Кумулятивная выручка', 'товаров', 'кумул. выручка, ден.ед.')"
   ]
  },
  {
   "cell_type": "code",
   "execution_count": 272,
   "id": "753f48c8",
   "metadata": {},
   "outputs": [],
   "source": [
    "# считаем средний чек\n",
    "data_cum['avg_price'] = data_cum['total_price'] / data_cum['quantity']"
   ]
  },
  {
   "cell_type": "code",
   "execution_count": 273,
   "id": "1ebe7e41",
   "metadata": {},
   "outputs": [
    {
     "data": {
      "image/png": "[encoded data removed]",
      "text/plain": [
       "<Figure size 720x360 with 1 Axes>"
      ]
     },
     "metadata": {
      "needs_background": "light"
     },
     "output_type": "display_data"
    }
   ],
   "source": [
    "plot_dif_groups(data_cum, 'avg_price', 'category', 'date', 'Кумулятивный средний чек', 'товаров',\n",
    "                'кумул. средний чек, ден.ед.')"
   ]
  },
  {
   "cell_type": "code",
   "execution_count": 274,
   "id": "6c98b98d",
   "metadata": {
    "scrolled": true
   },
   "outputs": [
    {
     "data": {
      "image/png": "[encoded data removed]",
      "text/plain": [
       "<Figure size 1440x432 with 2 Axes>"
      ]
     },
     "metadata": {
      "needs_background": "light"
     },
     "output_type": "display_data"
    }
   ],
   "source": [
    "# посмотрим на суммы заказов и количество продуктов в зависимости от дня недели\n",
    "plt.figure(figsize=(20, 6))\n",
    "ax1 = plt.subplot(1, 2, 1)\n",
    "plt.title('Суммы заказов в зависимости по дням недели')\n",
    "sns.barplot(data=orders_clear, x='weekday', y='sum_of_order', hue='year')\n",
    "plt.savefig('sum_week.jpg')\n",
    "\n",
    "ax2 = plt.subplot(1,2,2)\n",
    "plt.title('Количество товаров в заказе по дням недели')\n",
    "sns.barplot(data=orders_clear, x='weekday', y='quantity_of_products', hue='year')\n",
    "plt.savefig('quantity_week.jpg')"
   ]
  },
  {
   "cell_type": "code",
   "execution_count": 275,
   "id": "457204cc",
   "metadata": {},
   "outputs": [
    {
     "data": {
      "image/png": "[encoded data removed]",
      "text/plain": [
       "<Figure size 1584x432 with 3 Axes>"
      ]
     },
     "metadata": {
      "needs_background": "light"
     },
     "output_type": "display_data"
    }
   ],
   "source": [
    "plt.figure(figsize=(22, 6))\n",
    "ax1 = plt.subplot(1, 3, 1)\n",
    "plt.title('Суммы заказов по часам')\n",
    "sns.barplot(data=orders_clear, x='hour', y='sum_of_order')\n",
    "\n",
    "ax2 = plt.subplot(1,3,2)\n",
    "plt.title('Количество товаров в заказе по часам')\n",
    "sns.barplot(data=orders_clear, x='hour', y='quantity_of_products')\n",
    "\n",
    "ax3 = plt.subplot(1, 3, 3)\n",
    "plt.title('Распределение заказов по часам')\n",
    "orders_clear['hour'].hist(bins=100)\n",
    "\n",
    "plt.savefig('hours.jpg')"
   ]
  },
  {
   "cell_type": "markdown",
   "id": "9d6457ff",
   "metadata": {},
   "source": [
    "#### Итог"
   ]
  },
  {
   "cell_type": "markdown",
   "id": "789e87e0",
   "metadata": {},
   "source": [
    "- наибольшую выручку магазину приносит категория \"аксессуары\", в которую входят такие товары, как чехлы, кофры, сумки и т.д.\n",
    "- наименьшую выручку приносят категории \"инструменты\", \"для уюта\" и \"для кухни\"\n",
    "- в целом, кумулятивная выручка для всех категорий растет\n",
    "- наибольший средний чек приносит категория \"для уюта\". интересно, что кроме нескольких всплесков в начале периода, средние чеки довольно стабильны\n",
    "- по дням недели: наибольшие заказы делаются в воскресенье (в 2018 году). причем в 2018 году суммы заказов были незначительно, но выше, чем в 2019 году. в 2019 суммы заказов по дням несильно различаются.\n",
    "- по часам: больше всего заказов делается в дневной промежуток (с 10 до 15 часов). по ночам люди заказывают меньше товаров, но суммы заказов довольно большие"
   ]
  },
  {
   "cell_type": "markdown",
   "id": "75da9c23",
   "metadata": {},
   "source": [
    "### Данные по клиентам"
   ]
  },
  {
   "cell_type": "markdown",
   "id": "71c38352",
   "metadata": {},
   "source": [
    "Создадим таблицу с данными по клиентам, в которой будет следующая информация: айди клиента, количество заказов, среднее количество товаров в заказе, общее количество денег, которое заплатит клиент, средняя стоимость заказа, дата совершения первого и последнего заказов, а также посчитанный из этого лайфтайм, и любимая категория товаров"
   ]
  },
  {
   "cell_type": "markdown",
   "id": "2ee48dab",
   "metadata": {},
   "source": [
    "#### Агрегирование данных"
   ]
  },
  {
   "cell_type": "code",
   "execution_count": 276,
   "id": "f4eb3bec",
   "metadata": {},
   "outputs": [],
   "source": [
    "# таблица с клиентами\n",
    "grouped = pd.DataFrame(df.groupby('customer_id')['order_id'].nunique())\n",
    "grouped = grouped.rename(columns={'order_id': 'number_of_orders'})\n",
    "customers = pd.DataFrame(df.groupby('customer_id')['total_price'].sum())"
   ]
  },
  {
   "cell_type": "code",
   "execution_count": 277,
   "id": "ac851df8",
   "metadata": {},
   "outputs": [],
   "source": [
    "customers = customers.join(grouped, on='customer_id', how='outer')"
   ]
  },
  {
   "cell_type": "code",
   "execution_count": 278,
   "id": "66e40260",
   "metadata": {},
   "outputs": [],
   "source": [
    "# добавляем столбцы с первой датой совершения заказа и последней\n",
    "dates_cust = df[['customer_id', 'date', 'weekday']]\n",
    "dates_cust = dates_cust.drop_duplicates()\n",
    "dates_cust = dates_cust.set_index('customer_id')\n",
    "dates_first_cust = pd.DataFrame(dates_cust.groupby('customer_id')['date'].first())\n",
    "dates_last_cust = pd.DataFrame(dates_cust.groupby('customer_id')['date'].last())"
   ]
  },
  {
   "cell_type": "code",
   "execution_count": 279,
   "id": "c8c93af0",
   "metadata": {},
   "outputs": [],
   "source": [
    "customers = customers.join(dates_last_cust, on='customer_id')\n",
    "customers = customers.rename(columns={'date': 'last_date_of_order'})"
   ]
  },
  {
   "cell_type": "code",
   "execution_count": 280,
   "id": "26e626fe",
   "metadata": {
    "scrolled": true
   },
   "outputs": [],
   "source": [
    "# добавляем столбец со средней стоимостью заказа\n",
    "customers['mean_price_of_order'] = customers['total_price'] / customers['number_of_orders']\n",
    "customers = customers.join(dates_first_cust, on='customer_id')\n",
    "customers = customers.rename(columns={'total_price': 'total_money_per_client', 'date': 'first_date_of_order'})"
   ]
  },
  {
   "cell_type": "code",
   "execution_count": 281,
   "id": "c2fd5700",
   "metadata": {},
   "outputs": [
    {
     "data": {
      "text/html": [
       "<div>\n",
       "<style scoped>\n",
       "    .dataframe tbody tr th:only-of-type {\n",
       "        vertical-align: middle;\n",
       "    }\n",
       "\n",
       "    .dataframe tbody tr th {\n",
       "        vertical-align: top;\n",
       "    }\n",
       "\n",
       "    .dataframe thead th {\n",
       "        text-align: right;\n",
       "    }\n",
       "</style>\n",
       "<table border=\"1\" class=\"dataframe\">\n",
       "  <thead>\n",
       "    <tr style=\"text-align: right;\">\n",
       "      <th></th>\n",
       "      <th>quantity</th>\n",
       "    </tr>\n",
       "    <tr>\n",
       "      <th>customer_id</th>\n",
       "      <th></th>\n",
       "    </tr>\n",
       "  </thead>\n",
       "  <tbody>\n",
       "    <tr>\n",
       "      <th>000d6849-084e-4d9f-ac03-37174eaf60c4</th>\n",
       "      <td>4.0</td>\n",
       "    </tr>\n",
       "    <tr>\n",
       "      <th>001cee7f-0b29-4716-b202-0042213ab038</th>\n",
       "      <td>1.0</td>\n",
       "    </tr>\n",
       "    <tr>\n",
       "      <th>00299f34-5385-4d13-9aea-c80b81658e1b</th>\n",
       "      <td>2.0</td>\n",
       "    </tr>\n",
       "    <tr>\n",
       "      <th>002d4d3a-4a59-406b-86ec-c3314357e498</th>\n",
       "      <td>1.0</td>\n",
       "    </tr>\n",
       "    <tr>\n",
       "      <th>003bbd39-0000-41ff-b7f9-2ddaec152037</th>\n",
       "      <td>2.0</td>\n",
       "    </tr>\n",
       "  </tbody>\n",
       "</table>\n",
       "</div>"
      ],
      "text/plain": [
       "                                      quantity\n",
       "customer_id                                   \n",
       "000d6849-084e-4d9f-ac03-37174eaf60c4       4.0\n",
       "001cee7f-0b29-4716-b202-0042213ab038       1.0\n",
       "00299f34-5385-4d13-9aea-c80b81658e1b       2.0\n",
       "002d4d3a-4a59-406b-86ec-c3314357e498       1.0\n",
       "003bbd39-0000-41ff-b7f9-2ddaec152037       2.0"
      ]
     },
     "execution_count": 281,
     "metadata": {},
     "output_type": "execute_result"
    }
   ],
   "source": [
    "mean_quantity = pd.DataFrame(df.groupby(['customer_id', 'order_id'])['quantity'].sum())\n",
    "mean_quantity = mean_quantity.reset_index()\n",
    "mean_quantity_mean = pd.DataFrame(mean_quantity.groupby('customer_id')['quantity'].mean())\n",
    "mean_quantity_mean.head()"
   ]
  },
  {
   "cell_type": "code",
   "execution_count": 282,
   "id": "09249b34",
   "metadata": {
    "scrolled": true
   },
   "outputs": [
    {
     "data": {
      "text/html": [
       "<div>\n",
       "<style scoped>\n",
       "    .dataframe tbody tr th:only-of-type {\n",
       "        vertical-align: middle;\n",
       "    }\n",
       "\n",
       "    .dataframe tbody tr th {\n",
       "        vertical-align: top;\n",
       "    }\n",
       "\n",
       "    .dataframe thead th {\n",
       "        text-align: right;\n",
       "    }\n",
       "</style>\n",
       "<table border=\"1\" class=\"dataframe\">\n",
       "  <thead>\n",
       "    <tr style=\"text-align: right;\">\n",
       "      <th></th>\n",
       "      <th>total_money_per_client</th>\n",
       "      <th>number_of_orders</th>\n",
       "      <th>last_date_of_order</th>\n",
       "      <th>mean_price_of_order</th>\n",
       "      <th>first_date_of_order</th>\n",
       "      <th>mean_quantity_per_order</th>\n",
       "    </tr>\n",
       "    <tr>\n",
       "      <th>customer_id</th>\n",
       "      <th></th>\n",
       "      <th></th>\n",
       "      <th></th>\n",
       "      <th></th>\n",
       "      <th></th>\n",
       "      <th></th>\n",
       "    </tr>\n",
       "  </thead>\n",
       "  <tbody>\n",
       "    <tr>\n",
       "      <th>000d6849-084e-4d9f-ac03-37174eaf60c4</th>\n",
       "      <td>555.0</td>\n",
       "      <td>1</td>\n",
       "      <td>2019-10-16 08:00:00</td>\n",
       "      <td>555.0</td>\n",
       "      <td>2019-10-16 08:00:00</td>\n",
       "      <td>4.0</td>\n",
       "    </tr>\n",
       "    <tr>\n",
       "      <th>001cee7f-0b29-4716-b202-0042213ab038</th>\n",
       "      <td>442.0</td>\n",
       "      <td>1</td>\n",
       "      <td>2019-02-16 11:00:00</td>\n",
       "      <td>442.0</td>\n",
       "      <td>2019-02-16 11:00:00</td>\n",
       "      <td>1.0</td>\n",
       "    </tr>\n",
       "    <tr>\n",
       "      <th>00299f34-5385-4d13-9aea-c80b81658e1b</th>\n",
       "      <td>914.0</td>\n",
       "      <td>1</td>\n",
       "      <td>2019-10-14 23:00:00</td>\n",
       "      <td>914.0</td>\n",
       "      <td>2019-10-14 23:00:00</td>\n",
       "      <td>2.0</td>\n",
       "    </tr>\n",
       "    <tr>\n",
       "      <th>002d4d3a-4a59-406b-86ec-c3314357e498</th>\n",
       "      <td>1649.0</td>\n",
       "      <td>1</td>\n",
       "      <td>2019-01-27 17:00:00</td>\n",
       "      <td>1649.0</td>\n",
       "      <td>2019-01-27 17:00:00</td>\n",
       "      <td>1.0</td>\n",
       "    </tr>\n",
       "    <tr>\n",
       "      <th>003bbd39-0000-41ff-b7f9-2ddaec152037</th>\n",
       "      <td>2324.0</td>\n",
       "      <td>1</td>\n",
       "      <td>2019-09-29 17:00:00</td>\n",
       "      <td>2324.0</td>\n",
       "      <td>2019-09-29 17:00:00</td>\n",
       "      <td>2.0</td>\n",
       "    </tr>\n",
       "  </tbody>\n",
       "</table>\n",
       "</div>"
      ],
      "text/plain": [
       "                                      total_money_per_client  \\\n",
       "customer_id                                                    \n",
       "000d6849-084e-4d9f-ac03-37174eaf60c4                   555.0   \n",
       "001cee7f-0b29-4716-b202-0042213ab038                   442.0   \n",
       "00299f34-5385-4d13-9aea-c80b81658e1b                   914.0   \n",
       "002d4d3a-4a59-406b-86ec-c3314357e498                  1649.0   \n",
       "003bbd39-0000-41ff-b7f9-2ddaec152037                  2324.0   \n",
       "\n",
       "                                      number_of_orders  last_date_of_order  \\\n",
       "customer_id                                                                  \n",
       "000d6849-084e-4d9f-ac03-37174eaf60c4                 1 2019-10-16 08:00:00   \n",
       "001cee7f-0b29-4716-b202-0042213ab038                 1 2019-02-16 11:00:00   \n",
       "00299f34-5385-4d13-9aea-c80b81658e1b                 1 2019-10-14 23:00:00   \n",
       "002d4d3a-4a59-406b-86ec-c3314357e498                 1 2019-01-27 17:00:00   \n",
       "003bbd39-0000-41ff-b7f9-2ddaec152037                 1 2019-09-29 17:00:00   \n",
       "\n",
       "                                      mean_price_of_order first_date_of_order  \\\n",
       "customer_id                                                                     \n",
       "000d6849-084e-4d9f-ac03-37174eaf60c4                555.0 2019-10-16 08:00:00   \n",
       "001cee7f-0b29-4716-b202-0042213ab038                442.0 2019-02-16 11:00:00   \n",
       "00299f34-5385-4d13-9aea-c80b81658e1b                914.0 2019-10-14 23:00:00   \n",
       "002d4d3a-4a59-406b-86ec-c3314357e498               1649.0 2019-01-27 17:00:00   \n",
       "003bbd39-0000-41ff-b7f9-2ddaec152037               2324.0 2019-09-29 17:00:00   \n",
       "\n",
       "                                      mean_quantity_per_order  \n",
       "customer_id                                                    \n",
       "000d6849-084e-4d9f-ac03-37174eaf60c4                      4.0  \n",
       "001cee7f-0b29-4716-b202-0042213ab038                      1.0  \n",
       "00299f34-5385-4d13-9aea-c80b81658e1b                      2.0  \n",
       "002d4d3a-4a59-406b-86ec-c3314357e498                      1.0  \n",
       "003bbd39-0000-41ff-b7f9-2ddaec152037                      2.0  "
      ]
     },
     "execution_count": 282,
     "metadata": {},
     "output_type": "execute_result"
    }
   ],
   "source": [
    "customers = customers.join(mean_quantity_mean, on='customer_id')\n",
    "customers = customers.rename(columns={'quantity': 'mean_quantity_per_order'})\n",
    "customers.head()"
   ]
  },
  {
   "cell_type": "code",
   "execution_count": 283,
   "id": "5814435c",
   "metadata": {
    "scrolled": true
   },
   "outputs": [
    {
     "data": {
      "text/html": [
       "<div>\n",
       "<style scoped>\n",
       "    .dataframe tbody tr th:only-of-type {\n",
       "        vertical-align: middle;\n",
       "    }\n",
       "\n",
       "    .dataframe tbody tr th {\n",
       "        vertical-align: top;\n",
       "    }\n",
       "\n",
       "    .dataframe thead th {\n",
       "        text-align: right;\n",
       "    }\n",
       "</style>\n",
       "<table border=\"1\" class=\"dataframe\">\n",
       "  <thead>\n",
       "    <tr style=\"text-align: right;\">\n",
       "      <th>category</th>\n",
       "      <th>аксессуары</th>\n",
       "      <th>декор, растения</th>\n",
       "      <th>для кухни</th>\n",
       "      <th>для сан. узла</th>\n",
       "      <th>для уюта</th>\n",
       "      <th>другое</th>\n",
       "      <th>инструменты</th>\n",
       "    </tr>\n",
       "    <tr>\n",
       "      <th>customer_id</th>\n",
       "      <th></th>\n",
       "      <th></th>\n",
       "      <th></th>\n",
       "      <th></th>\n",
       "      <th></th>\n",
       "      <th></th>\n",
       "      <th></th>\n",
       "    </tr>\n",
       "  </thead>\n",
       "  <tbody>\n",
       "    <tr>\n",
       "      <th>000d6849-084e-4d9f-ac03-37174eaf60c4</th>\n",
       "      <td>NaN</td>\n",
       "      <td>4.0</td>\n",
       "      <td>NaN</td>\n",
       "      <td>NaN</td>\n",
       "      <td>NaN</td>\n",
       "      <td>NaN</td>\n",
       "      <td>NaN</td>\n",
       "    </tr>\n",
       "    <tr>\n",
       "      <th>001cee7f-0b29-4716-b202-0042213ab038</th>\n",
       "      <td>NaN</td>\n",
       "      <td>NaN</td>\n",
       "      <td>NaN</td>\n",
       "      <td>1.0</td>\n",
       "      <td>NaN</td>\n",
       "      <td>NaN</td>\n",
       "      <td>NaN</td>\n",
       "    </tr>\n",
       "  </tbody>\n",
       "</table>\n",
       "</div>"
      ],
      "text/plain": [
       "category                              аксессуары  декор, растения  для кухни  \\\n",
       "customer_id                                                                    \n",
       "000d6849-084e-4d9f-ac03-37174eaf60c4         NaN              4.0        NaN   \n",
       "001cee7f-0b29-4716-b202-0042213ab038         NaN              NaN        NaN   \n",
       "\n",
       "category                              для сан. узла  для уюта  другое  \\\n",
       "customer_id                                                             \n",
       "000d6849-084e-4d9f-ac03-37174eaf60c4            NaN       NaN     NaN   \n",
       "001cee7f-0b29-4716-b202-0042213ab038            1.0       NaN     NaN   \n",
       "\n",
       "category                              инструменты  \n",
       "customer_id                                        \n",
       "000d6849-084e-4d9f-ac03-37174eaf60c4          NaN  \n",
       "001cee7f-0b29-4716-b202-0042213ab038          NaN  "
      ]
     },
     "execution_count": 283,
     "metadata": {},
     "output_type": "execute_result"
    }
   ],
   "source": [
    "categories = pd.pivot_table(data=df, index='customer_id', columns='category', values='order_id', aggfunc='count')\n",
    "categories.head(2)"
   ]
  },
  {
   "cell_type": "code",
   "execution_count": 284,
   "id": "b4b3576a",
   "metadata": {},
   "outputs": [
    {
     "data": {
      "text/html": [
       "<div>\n",
       "<style scoped>\n",
       "    .dataframe tbody tr th:only-of-type {\n",
       "        vertical-align: middle;\n",
       "    }\n",
       "\n",
       "    .dataframe tbody tr th {\n",
       "        vertical-align: top;\n",
       "    }\n",
       "\n",
       "    .dataframe thead th {\n",
       "        text-align: right;\n",
       "    }\n",
       "</style>\n",
       "<table border=\"1\" class=\"dataframe\">\n",
       "  <thead>\n",
       "    <tr style=\"text-align: right;\">\n",
       "      <th></th>\n",
       "      <th>0</th>\n",
       "    </tr>\n",
       "    <tr>\n",
       "      <th>customer_id</th>\n",
       "      <th></th>\n",
       "    </tr>\n",
       "  </thead>\n",
       "  <tbody>\n",
       "    <tr>\n",
       "      <th>000d6849-084e-4d9f-ac03-37174eaf60c4</th>\n",
       "      <td>декор, растения</td>\n",
       "    </tr>\n",
       "    <tr>\n",
       "      <th>001cee7f-0b29-4716-b202-0042213ab038</th>\n",
       "      <td>для сан. узла</td>\n",
       "    </tr>\n",
       "    <tr>\n",
       "      <th>00299f34-5385-4d13-9aea-c80b81658e1b</th>\n",
       "      <td>другое</td>\n",
       "    </tr>\n",
       "    <tr>\n",
       "      <th>002d4d3a-4a59-406b-86ec-c3314357e498</th>\n",
       "      <td>аксессуары</td>\n",
       "    </tr>\n",
       "    <tr>\n",
       "      <th>003bbd39-0000-41ff-b7f9-2ddaec152037</th>\n",
       "      <td>другое</td>\n",
       "    </tr>\n",
       "  </tbody>\n",
       "</table>\n",
       "</div>"
      ],
      "text/plain": [
       "                                                    0\n",
       "customer_id                                          \n",
       "000d6849-084e-4d9f-ac03-37174eaf60c4  декор, растения\n",
       "001cee7f-0b29-4716-b202-0042213ab038    для сан. узла\n",
       "00299f34-5385-4d13-9aea-c80b81658e1b           другое\n",
       "002d4d3a-4a59-406b-86ec-c3314357e498       аксессуары\n",
       "003bbd39-0000-41ff-b7f9-2ddaec152037           другое"
      ]
     },
     "execution_count": 284,
     "metadata": {},
     "output_type": "execute_result"
    }
   ],
   "source": [
    "# для каждого покупателя выбираем \"любимую\" категорию\n",
    "max_cat = pd.DataFrame(categories.idxmax(axis=1))\n",
    "max_cat.head()"
   ]
  },
  {
   "cell_type": "code",
   "execution_count": 285,
   "id": "a5eebfbb",
   "metadata": {},
   "outputs": [],
   "source": [
    "# добавляем категорию к общей таблице\n",
    "customers = customers.join(max_cat, on='customer_id')"
   ]
  },
  {
   "cell_type": "code",
   "execution_count": 286,
   "id": "f7be001e",
   "metadata": {},
   "outputs": [],
   "source": [
    "customers = customers.rename(columns={0: 'fav_category'})"
   ]
  },
  {
   "cell_type": "code",
   "execution_count": 287,
   "id": "7cbba4d5",
   "metadata": {},
   "outputs": [],
   "source": [
    "# считаем срок жизни клиентов в магазине\n",
    "customers['lifetime'] = (customers['last_date_of_order']-customers['first_date_of_order']).dt.days"
   ]
  },
  {
   "cell_type": "code",
   "execution_count": 288,
   "id": "b93a47c0",
   "metadata": {},
   "outputs": [
    {
     "data": {
      "text/plain": [
       "array([  0,  77,   8,  29,   3,  12,  48,   9,  25,   5,  17,  19,  31,\n",
       "        10,   2,  24,  20,  23,  98,   1,  13, 108,  14,  28,  35,   7,\n",
       "         4, 114, 101,   6,  55,  41,  44,  67,  33, 156,  79,  34, 135,\n",
       "        18,  45,  86,  65,  27], dtype=int64)"
      ]
     },
     "execution_count": 288,
     "metadata": {},
     "output_type": "execute_result"
    }
   ],
   "source": [
    "customers['lifetime'].unique()"
   ]
  },
  {
   "cell_type": "code",
   "execution_count": 289,
   "id": "445df5e1",
   "metadata": {
    "scrolled": true
   },
   "outputs": [
    {
     "data": {
      "text/html": [
       "<div>\n",
       "<style scoped>\n",
       "    .dataframe tbody tr th:only-of-type {\n",
       "        vertical-align: middle;\n",
       "    }\n",
       "\n",
       "    .dataframe tbody tr th {\n",
       "        vertical-align: top;\n",
       "    }\n",
       "\n",
       "    .dataframe thead th {\n",
       "        text-align: right;\n",
       "    }\n",
       "</style>\n",
       "<table border=\"1\" class=\"dataframe\">\n",
       "  <thead>\n",
       "    <tr style=\"text-align: right;\">\n",
       "      <th></th>\n",
       "      <th>total_money_per_client</th>\n",
       "      <th>number_of_orders</th>\n",
       "      <th>last_date_of_order</th>\n",
       "      <th>mean_price_of_order</th>\n",
       "      <th>first_date_of_order</th>\n",
       "      <th>mean_quantity_per_order</th>\n",
       "      <th>fav_category</th>\n",
       "      <th>lifetime</th>\n",
       "    </tr>\n",
       "    <tr>\n",
       "      <th>customer_id</th>\n",
       "      <th></th>\n",
       "      <th></th>\n",
       "      <th></th>\n",
       "      <th></th>\n",
       "      <th></th>\n",
       "      <th></th>\n",
       "      <th></th>\n",
       "      <th></th>\n",
       "    </tr>\n",
       "  </thead>\n",
       "  <tbody>\n",
       "    <tr>\n",
       "      <th>000d6849-084e-4d9f-ac03-37174eaf60c4</th>\n",
       "      <td>555.0</td>\n",
       "      <td>1</td>\n",
       "      <td>2019-10-16 08:00:00</td>\n",
       "      <td>555.0</td>\n",
       "      <td>2019-10-16 08:00:00</td>\n",
       "      <td>4.0</td>\n",
       "      <td>декор, растения</td>\n",
       "      <td>0</td>\n",
       "    </tr>\n",
       "    <tr>\n",
       "      <th>001cee7f-0b29-4716-b202-0042213ab038</th>\n",
       "      <td>442.0</td>\n",
       "      <td>1</td>\n",
       "      <td>2019-02-16 11:00:00</td>\n",
       "      <td>442.0</td>\n",
       "      <td>2019-02-16 11:00:00</td>\n",
       "      <td>1.0</td>\n",
       "      <td>для сан. узла</td>\n",
       "      <td>0</td>\n",
       "    </tr>\n",
       "    <tr>\n",
       "      <th>00299f34-5385-4d13-9aea-c80b81658e1b</th>\n",
       "      <td>914.0</td>\n",
       "      <td>1</td>\n",
       "      <td>2019-10-14 23:00:00</td>\n",
       "      <td>914.0</td>\n",
       "      <td>2019-10-14 23:00:00</td>\n",
       "      <td>2.0</td>\n",
       "      <td>другое</td>\n",
       "      <td>0</td>\n",
       "    </tr>\n",
       "    <tr>\n",
       "      <th>002d4d3a-4a59-406b-86ec-c3314357e498</th>\n",
       "      <td>1649.0</td>\n",
       "      <td>1</td>\n",
       "      <td>2019-01-27 17:00:00</td>\n",
       "      <td>1649.0</td>\n",
       "      <td>2019-01-27 17:00:00</td>\n",
       "      <td>1.0</td>\n",
       "      <td>аксессуары</td>\n",
       "      <td>0</td>\n",
       "    </tr>\n",
       "    <tr>\n",
       "      <th>003bbd39-0000-41ff-b7f9-2ddaec152037</th>\n",
       "      <td>2324.0</td>\n",
       "      <td>1</td>\n",
       "      <td>2019-09-29 17:00:00</td>\n",
       "      <td>2324.0</td>\n",
       "      <td>2019-09-29 17:00:00</td>\n",
       "      <td>2.0</td>\n",
       "      <td>другое</td>\n",
       "      <td>0</td>\n",
       "    </tr>\n",
       "  </tbody>\n",
       "</table>\n",
       "</div>"
      ],
      "text/plain": [
       "                                      total_money_per_client  \\\n",
       "customer_id                                                    \n",
       "000d6849-084e-4d9f-ac03-37174eaf60c4                   555.0   \n",
       "001cee7f-0b29-4716-b202-0042213ab038                   442.0   \n",
       "00299f34-5385-4d13-9aea-c80b81658e1b                   914.0   \n",
       "002d4d3a-4a59-406b-86ec-c3314357e498                  1649.0   \n",
       "003bbd39-0000-41ff-b7f9-2ddaec152037                  2324.0   \n",
       "\n",
       "                                      number_of_orders  last_date_of_order  \\\n",
       "customer_id                                                                  \n",
       "000d6849-084e-4d9f-ac03-37174eaf60c4                 1 2019-10-16 08:00:00   \n",
       "001cee7f-0b29-4716-b202-0042213ab038                 1 2019-02-16 11:00:00   \n",
       "00299f34-5385-4d13-9aea-c80b81658e1b                 1 2019-10-14 23:00:00   \n",
       "002d4d3a-4a59-406b-86ec-c3314357e498                 1 2019-01-27 17:00:00   \n",
       "003bbd39-0000-41ff-b7f9-2ddaec152037                 1 2019-09-29 17:00:00   \n",
       "\n",
       "                                      mean_price_of_order first_date_of_order  \\\n",
       "customer_id                                                                     \n",
       "000d6849-084e-4d9f-ac03-37174eaf60c4                555.0 2019-10-16 08:00:00   \n",
       "001cee7f-0b29-4716-b202-0042213ab038                442.0 2019-02-16 11:00:00   \n",
       "00299f34-5385-4d13-9aea-c80b81658e1b                914.0 2019-10-14 23:00:00   \n",
       "002d4d3a-4a59-406b-86ec-c3314357e498               1649.0 2019-01-27 17:00:00   \n",
       "003bbd39-0000-41ff-b7f9-2ddaec152037               2324.0 2019-09-29 17:00:00   \n",
       "\n",
       "                                      mean_quantity_per_order  \\\n",
       "customer_id                                                     \n",
       "000d6849-084e-4d9f-ac03-37174eaf60c4                      4.0   \n",
       "001cee7f-0b29-4716-b202-0042213ab038                      1.0   \n",
       "00299f34-5385-4d13-9aea-c80b81658e1b                      2.0   \n",
       "002d4d3a-4a59-406b-86ec-c3314357e498                      1.0   \n",
       "003bbd39-0000-41ff-b7f9-2ddaec152037                      2.0   \n",
       "\n",
       "                                         fav_category  lifetime  \n",
       "customer_id                                                      \n",
       "000d6849-084e-4d9f-ac03-37174eaf60c4  декор, растения         0  \n",
       "001cee7f-0b29-4716-b202-0042213ab038    для сан. узла         0  \n",
       "00299f34-5385-4d13-9aea-c80b81658e1b           другое         0  \n",
       "002d4d3a-4a59-406b-86ec-c3314357e498       аксессуары         0  \n",
       "003bbd39-0000-41ff-b7f9-2ddaec152037           другое         0  "
      ]
     },
     "execution_count": 289,
     "metadata": {},
     "output_type": "execute_result"
    }
   ],
   "source": [
    "customers.head()"
   ]
  },
  {
   "cell_type": "code",
   "execution_count": 290,
   "id": "883b472c",
   "metadata": {},
   "outputs": [
    {
     "data": {
      "text/html": [
       "<div>\n",
       "<style scoped>\n",
       "    .dataframe tbody tr th:only-of-type {\n",
       "        vertical-align: middle;\n",
       "    }\n",
       "\n",
       "    .dataframe tbody tr th {\n",
       "        vertical-align: top;\n",
       "    }\n",
       "\n",
       "    .dataframe thead th {\n",
       "        text-align: right;\n",
       "    }\n",
       "</style>\n",
       "<table border=\"1\" class=\"dataframe\">\n",
       "  <thead>\n",
       "    <tr style=\"text-align: right;\">\n",
       "      <th></th>\n",
       "      <th>total_money_per_client</th>\n",
       "      <th>number_of_orders</th>\n",
       "      <th>mean_price_of_order</th>\n",
       "      <th>mean_quantity_per_order</th>\n",
       "      <th>lifetime</th>\n",
       "    </tr>\n",
       "  </thead>\n",
       "  <tbody>\n",
       "    <tr>\n",
       "      <th>count</th>\n",
       "      <td>2325.000000</td>\n",
       "      <td>2325.000000</td>\n",
       "      <td>2325.000000</td>\n",
       "      <td>2325.000000</td>\n",
       "      <td>2325.000000</td>\n",
       "    </tr>\n",
       "    <tr>\n",
       "      <th>mean</th>\n",
       "      <td>1281.155699</td>\n",
       "      <td>1.156559</td>\n",
       "      <td>1083.091091</td>\n",
       "      <td>2.436506</td>\n",
       "      <td>0.994409</td>\n",
       "    </tr>\n",
       "    <tr>\n",
       "      <th>std</th>\n",
       "      <td>4072.594125</td>\n",
       "      <td>2.725936</td>\n",
       "      <td>1514.110234</td>\n",
       "      <td>3.117989</td>\n",
       "      <td>8.303747</td>\n",
       "    </tr>\n",
       "    <tr>\n",
       "      <th>min</th>\n",
       "      <td>14.000000</td>\n",
       "      <td>1.000000</td>\n",
       "      <td>14.000000</td>\n",
       "      <td>1.000000</td>\n",
       "      <td>0.000000</td>\n",
       "    </tr>\n",
       "    <tr>\n",
       "      <th>25%</th>\n",
       "      <td>284.000000</td>\n",
       "      <td>1.000000</td>\n",
       "      <td>268.000000</td>\n",
       "      <td>1.000000</td>\n",
       "      <td>0.000000</td>\n",
       "    </tr>\n",
       "    <tr>\n",
       "      <th>50%</th>\n",
       "      <td>667.000000</td>\n",
       "      <td>1.000000</td>\n",
       "      <td>637.000000</td>\n",
       "      <td>1.000000</td>\n",
       "      <td>0.000000</td>\n",
       "    </tr>\n",
       "    <tr>\n",
       "      <th>75%</th>\n",
       "      <td>1424.000000</td>\n",
       "      <td>1.000000</td>\n",
       "      <td>1274.000000</td>\n",
       "      <td>2.000000</td>\n",
       "      <td>0.000000</td>\n",
       "    </tr>\n",
       "    <tr>\n",
       "      <th>max</th>\n",
       "      <td>159508.000000</td>\n",
       "      <td>126.000000</td>\n",
       "      <td>26616.000000</td>\n",
       "      <td>32.000000</td>\n",
       "      <td>156.000000</td>\n",
       "    </tr>\n",
       "  </tbody>\n",
       "</table>\n",
       "</div>"
      ],
      "text/plain": [
       "       total_money_per_client  number_of_orders  mean_price_of_order  \\\n",
       "count             2325.000000       2325.000000          2325.000000   \n",
       "mean              1281.155699          1.156559          1083.091091   \n",
       "std               4072.594125          2.725936          1514.110234   \n",
       "min                 14.000000          1.000000            14.000000   \n",
       "25%                284.000000          1.000000           268.000000   \n",
       "50%                667.000000          1.000000           637.000000   \n",
       "75%               1424.000000          1.000000          1274.000000   \n",
       "max             159508.000000        126.000000         26616.000000   \n",
       "\n",
       "       mean_quantity_per_order     lifetime  \n",
       "count              2325.000000  2325.000000  \n",
       "mean                  2.436506     0.994409  \n",
       "std                   3.117989     8.303747  \n",
       "min                   1.000000     0.000000  \n",
       "25%                   1.000000     0.000000  \n",
       "50%                   1.000000     0.000000  \n",
       "75%                   2.000000     0.000000  \n",
       "max                  32.000000   156.000000  "
      ]
     },
     "execution_count": 290,
     "metadata": {},
     "output_type": "execute_result"
    }
   ],
   "source": [
    "customers.describe()"
   ]
  },
  {
   "cell_type": "code",
   "execution_count": 291,
   "id": "2e505941",
   "metadata": {},
   "outputs": [],
   "source": [
    "customers = customers.query('number_of_orders < 20')\n",
    "customers = customers.reset_index()"
   ]
  },
  {
   "cell_type": "code",
   "execution_count": 292,
   "id": "71991f12",
   "metadata": {},
   "outputs": [],
   "source": [
    "custm_list = []\n",
    "orders_list = []\n",
    "for i in customers['customer_id']:\n",
    "    custm_list.append(i)"
   ]
  },
  {
   "cell_type": "code",
   "execution_count": 293,
   "id": "8aa7de88",
   "metadata": {},
   "outputs": [],
   "source": [
    "# уберем из всего датасета заказы с выбросами\n",
    "df = df.query('customer_id in @custm_list')"
   ]
  },
  {
   "cell_type": "code",
   "execution_count": 294,
   "id": "566965e2",
   "metadata": {},
   "outputs": [
    {
     "data": {
      "text/plain": [
       "3912"
      ]
     },
     "execution_count": 294,
     "metadata": {},
     "output_type": "execute_result"
    }
   ],
   "source": [
    "len(df)"
   ]
  },
  {
   "cell_type": "code",
   "execution_count": 295,
   "id": "6d499254",
   "metadata": {},
   "outputs": [
    {
     "data": {
      "text/plain": [
       "count    2323.000000\n",
       "mean        2.433662\n",
       "std         3.116505\n",
       "min         1.000000\n",
       "25%         1.000000\n",
       "50%         1.000000\n",
       "75%         2.000000\n",
       "max        32.000000\n",
       "Name: mean_quantity_per_order, dtype: float64"
      ]
     },
     "execution_count": 295,
     "metadata": {},
     "output_type": "execute_result"
    }
   ],
   "source": [
    "customers['mean_quantity_per_order'].describe()"
   ]
  },
  {
   "cell_type": "code",
   "execution_count": 296,
   "id": "e1ead0e6",
   "metadata": {},
   "outputs": [
    {
     "data": {
      "text/plain": [
       "<AxesSubplot:>"
      ]
     },
     "execution_count": 296,
     "metadata": {},
     "output_type": "execute_result"
    },
    {
     "data": {
      "image/png": "[encoded data removed]",
      "text/plain": [
       "<Figure size 432x288 with 1 Axes>"
      ]
     },
     "metadata": {
      "needs_background": "light"
     },
     "output_type": "display_data"
    }
   ],
   "source": [
    "customers['mean_quantity_per_order'].hist()"
   ]
  },
  {
   "cell_type": "code",
   "execution_count": 297,
   "id": "c78543a7",
   "metadata": {},
   "outputs": [],
   "source": [
    "# выделение постоянных покупателей - number of orders > 2"
   ]
  },
  {
   "cell_type": "code",
   "execution_count": 298,
   "id": "a6473ae9",
   "metadata": {
    "scrolled": true
   },
   "outputs": [
    {
     "data": {
      "image/png": "[encoded data removed]",
      "text/plain": [
       "<Figure size 1440x432 with 2 Axes>"
      ]
     },
     "metadata": {
      "needs_background": "light"
     },
     "output_type": "display_data"
    }
   ],
   "source": [
    "plt.figure(figsize=(20, 6))\n",
    "\n",
    "ax1 = plt.subplot(1, 2, 1)\n",
    "plt.xlim(0, 10)\n",
    "customers['number_of_orders'].hist(bins=100)\n",
    "\n",
    "ax2 = plt.subplot(1, 2, 2)\n",
    "plt.ylim(0, 6)\n",
    "plt.boxplot(x=customers['number_of_orders'])\n",
    "None"
   ]
  },
  {
   "cell_type": "markdown",
   "id": "72d408f7",
   "metadata": {},
   "source": [
    "#### Анализ"
   ]
  },
  {
   "cell_type": "code",
   "execution_count": 299,
   "id": "67b77a57",
   "metadata": {
    "scrolled": true
   },
   "outputs": [
    {
     "data": {
      "image/png": "[encoded data removed]",
      "text/plain": [
       "<Figure size 1440x432 with 2 Axes>"
      ]
     },
     "metadata": {
      "needs_background": "light"
     },
     "output_type": "display_data"
    }
   ],
   "source": [
    "plt.figure(figsize=(20, 6))\n",
    "ax1 = plt.subplot(1, 2, 1)\n",
    "plt.title('Сколько денег приносят клиенты со следующими любимыми категориями товаров')\n",
    "sns.barplot(data=customers, x='fav_category', y='total_money_per_client')\n",
    "\n",
    "ax2 = plt.subplot(1, 2, 2)\n",
    "customers['fav_category'].hist(bins=50)\n",
    "plt.title('Распределение любимых категорий у клиентов')\n",
    "\n",
    "plt.savefig('clients.jpg')"
   ]
  },
  {
   "cell_type": "markdown",
   "id": "5b28346f",
   "metadata": {},
   "source": [
    "#### Итог"
   ]
  },
  {
   "cell_type": "markdown",
   "id": "7f3e10ab",
   "metadata": {},
   "source": [
    "- каждый клиент в среднем приносит магазину 1500 тысячи и совершает 1-2 заказа, в которых по 2-3 товара \n",
    "- у магазина очень мало постоянных клиентов, совершивших более 2х заказов, и отсюда lifetime клиентов низкий\n",
    "- самые популярные \"любимые\" категории у клиентов: аксессуары и инструменты\n",
    "- интересно, что крайне мало клиентов, любителей товаров из категории \"декор, растения\", однако товаров этой категории больше всего в датасете"
   ]
  },
  {
   "cell_type": "markdown",
   "id": "f074fe53",
   "metadata": {},
   "source": [
    "## Сегментация пользователей"
   ]
  },
  {
   "cell_type": "markdown",
   "id": "25bea20b",
   "metadata": {},
   "source": [
    "### по любимой категории"
   ]
  },
  {
   "cell_type": "markdown",
   "id": "1e4f0c7b",
   "metadata": {},
   "source": [
    "Разделим покупателей на группы по их любимой категории и сравним распределения по основным показателям."
   ]
  },
  {
   "cell_type": "code",
   "execution_count": 300,
   "id": "c795e0ff",
   "metadata": {
    "scrolled": false
   },
   "outputs": [
    {
     "data": {
      "text/plain": [
       "array(['декор, растения', 'для сан. узла', 'другое', 'аксессуары',\n",
       "       'для кухни', 'для уюта', 'инструменты'], dtype=object)"
      ]
     },
     "execution_count": 300,
     "metadata": {},
     "output_type": "execute_result"
    }
   ],
   "source": [
    "customers['fav_category'].unique()"
   ]
  },
  {
   "cell_type": "code",
   "execution_count": 305,
   "id": "9c8956df",
   "metadata": {},
   "outputs": [],
   "source": [
    "plants = customers.query('fav_category == \"декор, растения\"')\n",
    "wc = customers.query('fav_category == \"для сан. узла\"')\n",
    "acsess = customers.query('fav_category == \"аксессуары\"')\n",
    "cusine = customers.query('fav_category == \"для кухни\"')\n",
    "uyt = customers.query('fav_category == \"для уюта\"')\n",
    "instrum = customers.query('fav_category == \"инструменты\"')"
   ]
  },
  {
   "cell_type": "code",
   "execution_count": 306,
   "id": "30b434f6",
   "metadata": {},
   "outputs": [],
   "source": [
    "def look_at_categories(data):\n",
    "    display(data.describe())\n",
    "    for i in data.columns:\n",
    "        if i not in ['fav_category', 'customer_id']:\n",
    "            plt.title(i)\n",
    "            data[i].hist(bins=100)\n",
    "            plt.show()"
   ]
  },
  {
   "cell_type": "code",
   "execution_count": 303,
   "id": "2c9efea0",
   "metadata": {},
   "outputs": [
    {
     "data": {
      "text/html": [
       "<div>\n",
       "<style scoped>\n",
       "    .dataframe tbody tr th:only-of-type {\n",
       "        vertical-align: middle;\n",
       "    }\n",
       "\n",
       "    .dataframe tbody tr th {\n",
       "        vertical-align: top;\n",
       "    }\n",
       "\n",
       "    .dataframe thead th {\n",
       "        text-align: right;\n",
       "    }\n",
       "</style>\n",
       "<table border=\"1\" class=\"dataframe\">\n",
       "  <thead>\n",
       "    <tr style=\"text-align: right;\">\n",
       "      <th></th>\n",
       "      <th>total_money_per_client</th>\n",
       "      <th>number_of_orders</th>\n",
       "      <th>mean_price_of_order</th>\n",
       "      <th>mean_quantity_per_order</th>\n",
       "      <th>lifetime</th>\n",
       "    </tr>\n",
       "  </thead>\n",
       "  <tbody>\n",
       "    <tr>\n",
       "      <th>count</th>\n",
       "      <td>666.000000</td>\n",
       "      <td>666.000000</td>\n",
       "      <td>666.000000</td>\n",
       "      <td>666.000000</td>\n",
       "      <td>666.000000</td>\n",
       "    </tr>\n",
       "    <tr>\n",
       "      <th>mean</th>\n",
       "      <td>562.654655</td>\n",
       "      <td>1.127628</td>\n",
       "      <td>495.561772</td>\n",
       "      <td>3.730202</td>\n",
       "      <td>1.683183</td>\n",
       "    </tr>\n",
       "    <tr>\n",
       "      <th>std</th>\n",
       "      <td>761.702089</td>\n",
       "      <td>0.462344</td>\n",
       "      <td>631.674865</td>\n",
       "      <td>3.945142</td>\n",
       "      <td>10.582163</td>\n",
       "    </tr>\n",
       "    <tr>\n",
       "      <th>min</th>\n",
       "      <td>22.000000</td>\n",
       "      <td>1.000000</td>\n",
       "      <td>22.000000</td>\n",
       "      <td>1.000000</td>\n",
       "      <td>0.000000</td>\n",
       "    </tr>\n",
       "    <tr>\n",
       "      <th>25%</th>\n",
       "      <td>134.000000</td>\n",
       "      <td>1.000000</td>\n",
       "      <td>134.000000</td>\n",
       "      <td>1.000000</td>\n",
       "      <td>0.000000</td>\n",
       "    </tr>\n",
       "    <tr>\n",
       "      <th>50%</th>\n",
       "      <td>314.000000</td>\n",
       "      <td>1.000000</td>\n",
       "      <td>285.500000</td>\n",
       "      <td>2.000000</td>\n",
       "      <td>0.000000</td>\n",
       "    </tr>\n",
       "    <tr>\n",
       "      <th>75%</th>\n",
       "      <td>673.500000</td>\n",
       "      <td>1.000000</td>\n",
       "      <td>611.750000</td>\n",
       "      <td>5.000000</td>\n",
       "      <td>0.000000</td>\n",
       "    </tr>\n",
       "    <tr>\n",
       "      <th>max</th>\n",
       "      <td>8810.000000</td>\n",
       "      <td>7.000000</td>\n",
       "      <td>8810.000000</td>\n",
       "      <td>32.000000</td>\n",
       "      <td>135.000000</td>\n",
       "    </tr>\n",
       "  </tbody>\n",
       "</table>\n",
       "</div>"
      ],
      "text/plain": [
       "       total_money_per_client  number_of_orders  mean_price_of_order  \\\n",
       "count              666.000000        666.000000           666.000000   \n",
       "mean               562.654655          1.127628           495.561772   \n",
       "std                761.702089          0.462344           631.674865   \n",
       "min                 22.000000          1.000000            22.000000   \n",
       "25%                134.000000          1.000000           134.000000   \n",
       "50%                314.000000          1.000000           285.500000   \n",
       "75%                673.500000          1.000000           611.750000   \n",
       "max               8810.000000          7.000000          8810.000000   \n",
       "\n",
       "       mean_quantity_per_order    lifetime  \n",
       "count               666.000000  666.000000  \n",
       "mean                  3.730202    1.683183  \n",
       "std                   3.945142   10.582163  \n",
       "min                   1.000000    0.000000  \n",
       "25%                   1.000000    0.000000  \n",
       "50%                   2.000000    0.000000  \n",
       "75%                   5.000000    0.000000  \n",
       "max                  32.000000  135.000000  "
      ]
     },
     "metadata": {},
     "output_type": "display_data"
    },
    {
     "data": {
      "image/png": "[encoded data removed]",
      "text/plain": [
       "<Figure size 432x288 with 1 Axes>"
      ]
     },
     "metadata": {
      "needs_background": "light"
     },
     "output_type": "display_data"
    },
    {
     "data": {
      "image/png": "[encoded data removed]",
      "text/plain": [
       "<Figure size 432x288 with 1 Axes>"
      ]
     },
     "metadata": {
      "needs_background": "light"
     },
     "output_type": "display_data"
    },
    {
     "data": {
      "image/png": "[encoded data removed]",
      "text/plain": [
       "<Figure size 432x288 with 1 Axes>"
      ]
     },
     "metadata": {
      "needs_background": "light"
     },
     "output_type": "display_data"
    },
    {
     "data": {
      "image/png": "[encoded data removed]",
      "text/plain": [
       "<Figure size 432x288 with 1 Axes>"
      ]
     },
     "metadata": {
      "needs_background": "light"
     },
     "output_type": "display_data"
    },
    {
     "data": {
      "image/png": "[encoded data removed]",
      "text/plain": [
       "<Figure size 432x288 with 1 Axes>"
      ]
     },
     "metadata": {
      "needs_background": "light"
     },
     "output_type": "display_data"
    },
    {
     "data": {
      "image/png": "[encoded data removed]",
      "text/plain": [
       "<Figure size 432x288 with 1 Axes>"
      ]
     },
     "metadata": {
      "needs_background": "light"
     },
     "output_type": "display_data"
    },
    {
     "data": {
      "image/png": "[encoded data removed]",
      "text/plain": [
       "<Figure size 432x288 with 1 Axes>"
      ]
     },
     "metadata": {
      "needs_background": "light"
     },
     "output_type": "display_data"
    }
   ],
   "source": [
    "look_at_categories(plants)"
   ]
  },
  {
   "cell_type": "code",
   "execution_count": 307,
   "id": "2e702eb9",
   "metadata": {},
   "outputs": [
    {
     "data": {
      "text/html": [
       "<div>\n",
       "<style scoped>\n",
       "    .dataframe tbody tr th:only-of-type {\n",
       "        vertical-align: middle;\n",
       "    }\n",
       "\n",
       "    .dataframe tbody tr th {\n",
       "        vertical-align: top;\n",
       "    }\n",
       "\n",
       "    .dataframe thead th {\n",
       "        text-align: right;\n",
       "    }\n",
       "</style>\n",
       "<table border=\"1\" class=\"dataframe\">\n",
       "  <thead>\n",
       "    <tr style=\"text-align: right;\">\n",
       "      <th></th>\n",
       "      <th>total_money_per_client</th>\n",
       "      <th>number_of_orders</th>\n",
       "      <th>mean_price_of_order</th>\n",
       "      <th>mean_quantity_per_order</th>\n",
       "      <th>lifetime</th>\n",
       "    </tr>\n",
       "  </thead>\n",
       "  <tbody>\n",
       "    <tr>\n",
       "      <th>count</th>\n",
       "      <td>396.000000</td>\n",
       "      <td>396.00000</td>\n",
       "      <td>396.000000</td>\n",
       "      <td>396.000000</td>\n",
       "      <td>396.000000</td>\n",
       "    </tr>\n",
       "    <tr>\n",
       "      <th>mean</th>\n",
       "      <td>1145.896465</td>\n",
       "      <td>1.05303</td>\n",
       "      <td>1082.887626</td>\n",
       "      <td>1.332071</td>\n",
       "      <td>0.070707</td>\n",
       "    </tr>\n",
       "    <tr>\n",
       "      <th>std</th>\n",
       "      <td>1329.193520</td>\n",
       "      <td>0.23539</td>\n",
       "      <td>1194.835554</td>\n",
       "      <td>1.223796</td>\n",
       "      <td>0.973081</td>\n",
       "    </tr>\n",
       "    <tr>\n",
       "      <th>min</th>\n",
       "      <td>52.000000</td>\n",
       "      <td>1.00000</td>\n",
       "      <td>52.000000</td>\n",
       "      <td>1.000000</td>\n",
       "      <td>0.000000</td>\n",
       "    </tr>\n",
       "    <tr>\n",
       "      <th>25%</th>\n",
       "      <td>502.000000</td>\n",
       "      <td>1.00000</td>\n",
       "      <td>487.000000</td>\n",
       "      <td>1.000000</td>\n",
       "      <td>0.000000</td>\n",
       "    </tr>\n",
       "    <tr>\n",
       "      <th>50%</th>\n",
       "      <td>742.000000</td>\n",
       "      <td>1.00000</td>\n",
       "      <td>734.000000</td>\n",
       "      <td>1.000000</td>\n",
       "      <td>0.000000</td>\n",
       "    </tr>\n",
       "    <tr>\n",
       "      <th>75%</th>\n",
       "      <td>1216.750000</td>\n",
       "      <td>1.00000</td>\n",
       "      <td>1199.000000</td>\n",
       "      <td>1.000000</td>\n",
       "      <td>0.000000</td>\n",
       "    </tr>\n",
       "    <tr>\n",
       "      <th>max</th>\n",
       "      <td>14917.000000</td>\n",
       "      <td>3.00000</td>\n",
       "      <td>14917.000000</td>\n",
       "      <td>13.000000</td>\n",
       "      <td>18.000000</td>\n",
       "    </tr>\n",
       "  </tbody>\n",
       "</table>\n",
       "</div>"
      ],
      "text/plain": [
       "       total_money_per_client  number_of_orders  mean_price_of_order  \\\n",
       "count              396.000000         396.00000           396.000000   \n",
       "mean              1145.896465           1.05303          1082.887626   \n",
       "std               1329.193520           0.23539          1194.835554   \n",
       "min                 52.000000           1.00000            52.000000   \n",
       "25%                502.000000           1.00000           487.000000   \n",
       "50%                742.000000           1.00000           734.000000   \n",
       "75%               1216.750000           1.00000          1199.000000   \n",
       "max              14917.000000           3.00000         14917.000000   \n",
       "\n",
       "       mean_quantity_per_order    lifetime  \n",
       "count               396.000000  396.000000  \n",
       "mean                  1.332071    0.070707  \n",
       "std                   1.223796    0.973081  \n",
       "min                   1.000000    0.000000  \n",
       "25%                   1.000000    0.000000  \n",
       "50%                   1.000000    0.000000  \n",
       "75%                   1.000000    0.000000  \n",
       "max                  13.000000   18.000000  "
      ]
     },
     "metadata": {},
     "output_type": "display_data"
    },
    {
     "data": {
      "image/png": "[encoded data removed]",
      "text/plain": [
       "<Figure size 432x288 with 1 Axes>"
      ]
     },
     "metadata": {
      "needs_background": "light"
     },
     "output_type": "display_data"
    },
    {
     "data": {
      "image/png": "[encoded data removed]",
      "text/plain": [
       "<Figure size 432x288 with 1 Axes>"
      ]
     },
     "metadata": {
      "needs_background": "light"
     },
     "output_type": "display_data"
    },
    {
     "data": {
      "image/png": "[encoded data removed]",
      "text/plain": [
       "<Figure size 432x288 with 1 Axes>"
      ]
     },
     "metadata": {
      "needs_background": "light"
     },
     "output_type": "display_data"
    },
    {
     "data": {
      "image/png": "[encoded data removed]",
      "text/plain": [
       "<Figure size 432x288 with 1 Axes>"
      ]
     },
     "metadata": {
      "needs_background": "light"
     },
     "output_type": "display_data"
    },
    {
     "data": {
      "image/png": "[encoded data removed]",
      "text/plain": [
       "<Figure size 432x288 with 1 Axes>"
      ]
     },
     "metadata": {
      "needs_background": "light"
     },
     "output_type": "display_data"
    },
    {
     "data": {
      "image/png": "[encoded data removed]",
      "text/plain": [
       "<Figure size 432x288 with 1 Axes>"
      ]
     },
     "metadata": {
      "needs_background": "light"
     },
     "output_type": "display_data"
    },
    {
     "data": {
      "image/png": "[encoded data removed]",
      "text/plain": [
       "<Figure size 432x288 with 1 Axes>"
      ]
     },
     "metadata": {
      "needs_background": "light"
     },
     "output_type": "display_data"
    }
   ],
   "source": [
    "look_at_categories(wc)"
   ]
  },
  {
   "cell_type": "code",
   "execution_count": 308,
   "id": "b46d95b1",
   "metadata": {},
   "outputs": [
    {
     "data": {
      "text/html": [
       "<div>\n",
       "<style scoped>\n",
       "    .dataframe tbody tr th:only-of-type {\n",
       "        vertical-align: middle;\n",
       "    }\n",
       "\n",
       "    .dataframe tbody tr th {\n",
       "        vertical-align: top;\n",
       "    }\n",
       "\n",
       "    .dataframe thead th {\n",
       "        text-align: right;\n",
       "    }\n",
       "</style>\n",
       "<table border=\"1\" class=\"dataframe\">\n",
       "  <thead>\n",
       "    <tr style=\"text-align: right;\">\n",
       "      <th></th>\n",
       "      <th>total_money_per_client</th>\n",
       "      <th>number_of_orders</th>\n",
       "      <th>mean_price_of_order</th>\n",
       "      <th>mean_quantity_per_order</th>\n",
       "      <th>lifetime</th>\n",
       "    </tr>\n",
       "  </thead>\n",
       "  <tbody>\n",
       "    <tr>\n",
       "      <th>count</th>\n",
       "      <td>469.000000</td>\n",
       "      <td>469.000000</td>\n",
       "      <td>469.000000</td>\n",
       "      <td>469.000000</td>\n",
       "      <td>469.000000</td>\n",
       "    </tr>\n",
       "    <tr>\n",
       "      <th>mean</th>\n",
       "      <td>1829.332623</td>\n",
       "      <td>1.108742</td>\n",
       "      <td>1620.391321</td>\n",
       "      <td>1.521500</td>\n",
       "      <td>0.671642</td>\n",
       "    </tr>\n",
       "    <tr>\n",
       "      <th>std</th>\n",
       "      <td>2780.732223</td>\n",
       "      <td>0.807886</td>\n",
       "      <td>1706.952225</td>\n",
       "      <td>2.023961</td>\n",
       "      <td>6.058023</td>\n",
       "    </tr>\n",
       "    <tr>\n",
       "      <th>min</th>\n",
       "      <td>15.000000</td>\n",
       "      <td>1.000000</td>\n",
       "      <td>15.000000</td>\n",
       "      <td>1.000000</td>\n",
       "      <td>0.000000</td>\n",
       "    </tr>\n",
       "    <tr>\n",
       "      <th>25%</th>\n",
       "      <td>674.000000</td>\n",
       "      <td>1.000000</td>\n",
       "      <td>637.000000</td>\n",
       "      <td>1.000000</td>\n",
       "      <td>0.000000</td>\n",
       "    </tr>\n",
       "    <tr>\n",
       "      <th>50%</th>\n",
       "      <td>1087.000000</td>\n",
       "      <td>1.000000</td>\n",
       "      <td>1049.000000</td>\n",
       "      <td>1.000000</td>\n",
       "      <td>0.000000</td>\n",
       "    </tr>\n",
       "    <tr>\n",
       "      <th>75%</th>\n",
       "      <td>2024.000000</td>\n",
       "      <td>1.000000</td>\n",
       "      <td>1874.000000</td>\n",
       "      <td>1.000000</td>\n",
       "      <td>0.000000</td>\n",
       "    </tr>\n",
       "    <tr>\n",
       "      <th>max</th>\n",
       "      <td>41900.000000</td>\n",
       "      <td>17.000000</td>\n",
       "      <td>10475.000000</td>\n",
       "      <td>21.250000</td>\n",
       "      <td>98.000000</td>\n",
       "    </tr>\n",
       "  </tbody>\n",
       "</table>\n",
       "</div>"
      ],
      "text/plain": [
       "       total_money_per_client  number_of_orders  mean_price_of_order  \\\n",
       "count              469.000000        469.000000           469.000000   \n",
       "mean              1829.332623          1.108742          1620.391321   \n",
       "std               2780.732223          0.807886          1706.952225   \n",
       "min                 15.000000          1.000000            15.000000   \n",
       "25%                674.000000          1.000000           637.000000   \n",
       "50%               1087.000000          1.000000          1049.000000   \n",
       "75%               2024.000000          1.000000          1874.000000   \n",
       "max              41900.000000         17.000000         10475.000000   \n",
       "\n",
       "       mean_quantity_per_order    lifetime  \n",
       "count               469.000000  469.000000  \n",
       "mean                  1.521500    0.671642  \n",
       "std                   2.023961    6.058023  \n",
       "min                   1.000000    0.000000  \n",
       "25%                   1.000000    0.000000  \n",
       "50%                   1.000000    0.000000  \n",
       "75%                   1.000000    0.000000  \n",
       "max                  21.250000   98.000000  "
      ]
     },
     "metadata": {},
     "output_type": "display_data"
    },
    {
     "data": {
      "image/png": "[encoded data removed]",
      "text/plain": [
       "<Figure size 432x288 with 1 Axes>"
      ]
     },
     "metadata": {
      "needs_background": "light"
     },
     "output_type": "display_data"
    },
    {
     "data": {
      "image/png": "[encoded data removed]",
      "text/plain": [
       "<Figure size 432x288 with 1 Axes>"
      ]
     },
     "metadata": {
      "needs_background": "light"
     },
     "output_type": "display_data"
    },
    {
     "data": {
      "image/png": "[encoded data removed]",
      "text/plain": [
       "<Figure size 432x288 with 1 Axes>"
      ]
     },
     "metadata": {
      "needs_background": "light"
     },
     "output_type": "display_data"
    },
    {
     "data": {
      "image/png": "[encoded data removed]",
      "text/plain": [
       "<Figure size 432x288 with 1 Axes>"
      ]
     },
     "metadata": {
      "needs_background": "light"
     },
     "output_type": "display_data"
    },
    {
     "data": {
      "image/png": "[encoded data removed]",
      "text/plain": [
       "<Figure size 432x288 with 1 Axes>"
      ]
     },
     "metadata": {
      "needs_background": "light"
     },
     "output_type": "display_data"
    },
    {
     "data": {
      "image/png": "[encoded data removed]",
      "text/plain": [
       "<Figure size 432x288 with 1 Axes>"
      ]
     },
     "metadata": {
      "needs_background": "light"
     },
     "output_type": "display_data"
    },
    {
     "data": {
      "image/png": "[encoded data removed]",
      "text/plain": [
       "<Figure size 432x288 with 1 Axes>"
      ]
     },
     "metadata": {
      "needs_background": "light"
     },
     "output_type": "display_data"
    }
   ],
   "source": [
    "look_at_categories(acsess)"
   ]
  },
  {
   "cell_type": "code",
   "execution_count": 309,
   "id": "3b34ea2f",
   "metadata": {},
   "outputs": [
    {
     "data": {
      "text/html": [
       "<div>\n",
       "<style scoped>\n",
       "    .dataframe tbody tr th:only-of-type {\n",
       "        vertical-align: middle;\n",
       "    }\n",
       "\n",
       "    .dataframe tbody tr th {\n",
       "        vertical-align: top;\n",
       "    }\n",
       "\n",
       "    .dataframe thead th {\n",
       "        text-align: right;\n",
       "    }\n",
       "</style>\n",
       "<table border=\"1\" class=\"dataframe\">\n",
       "  <thead>\n",
       "    <tr style=\"text-align: right;\">\n",
       "      <th></th>\n",
       "      <th>total_money_per_client</th>\n",
       "      <th>number_of_orders</th>\n",
       "      <th>mean_price_of_order</th>\n",
       "      <th>mean_quantity_per_order</th>\n",
       "      <th>lifetime</th>\n",
       "    </tr>\n",
       "  </thead>\n",
       "  <tbody>\n",
       "    <tr>\n",
       "      <th>count</th>\n",
       "      <td>259.000000</td>\n",
       "      <td>259.000000</td>\n",
       "      <td>259.000000</td>\n",
       "      <td>259.000000</td>\n",
       "      <td>259.000000</td>\n",
       "    </tr>\n",
       "    <tr>\n",
       "      <th>mean</th>\n",
       "      <td>953.397683</td>\n",
       "      <td>1.054054</td>\n",
       "      <td>874.825611</td>\n",
       "      <td>2.837194</td>\n",
       "      <td>0.528958</td>\n",
       "    </tr>\n",
       "    <tr>\n",
       "      <th>std</th>\n",
       "      <td>1564.274320</td>\n",
       "      <td>0.243069</td>\n",
       "      <td>1112.864327</td>\n",
       "      <td>3.204686</td>\n",
       "      <td>6.168981</td>\n",
       "    </tr>\n",
       "    <tr>\n",
       "      <th>min</th>\n",
       "      <td>14.000000</td>\n",
       "      <td>1.000000</td>\n",
       "      <td>14.000000</td>\n",
       "      <td>1.000000</td>\n",
       "      <td>0.000000</td>\n",
       "    </tr>\n",
       "    <tr>\n",
       "      <th>25%</th>\n",
       "      <td>280.500000</td>\n",
       "      <td>1.000000</td>\n",
       "      <td>273.000000</td>\n",
       "      <td>1.000000</td>\n",
       "      <td>0.000000</td>\n",
       "    </tr>\n",
       "    <tr>\n",
       "      <th>50%</th>\n",
       "      <td>518.000000</td>\n",
       "      <td>1.000000</td>\n",
       "      <td>508.000000</td>\n",
       "      <td>1.000000</td>\n",
       "      <td>0.000000</td>\n",
       "    </tr>\n",
       "    <tr>\n",
       "      <th>75%</th>\n",
       "      <td>1159.000000</td>\n",
       "      <td>1.000000</td>\n",
       "      <td>1052.500000</td>\n",
       "      <td>4.000000</td>\n",
       "      <td>0.000000</td>\n",
       "    </tr>\n",
       "    <tr>\n",
       "      <th>max</th>\n",
       "      <td>20232.000000</td>\n",
       "      <td>3.000000</td>\n",
       "      <td>10116.000000</td>\n",
       "      <td>16.000000</td>\n",
       "      <td>98.000000</td>\n",
       "    </tr>\n",
       "  </tbody>\n",
       "</table>\n",
       "</div>"
      ],
      "text/plain": [
       "       total_money_per_client  number_of_orders  mean_price_of_order  \\\n",
       "count              259.000000        259.000000           259.000000   \n",
       "mean               953.397683          1.054054           874.825611   \n",
       "std               1564.274320          0.243069          1112.864327   \n",
       "min                 14.000000          1.000000            14.000000   \n",
       "25%                280.500000          1.000000           273.000000   \n",
       "50%                518.000000          1.000000           508.000000   \n",
       "75%               1159.000000          1.000000          1052.500000   \n",
       "max              20232.000000          3.000000         10116.000000   \n",
       "\n",
       "       mean_quantity_per_order    lifetime  \n",
       "count               259.000000  259.000000  \n",
       "mean                  2.837194    0.528958  \n",
       "std                   3.204686    6.168981  \n",
       "min                   1.000000    0.000000  \n",
       "25%                   1.000000    0.000000  \n",
       "50%                   1.000000    0.000000  \n",
       "75%                   4.000000    0.000000  \n",
       "max                  16.000000   98.000000  "
      ]
     },
     "metadata": {},
     "output_type": "display_data"
    },
    {
     "data": {
      "image/png": "[encoded data removed]",
      "text/plain": [
       "<Figure size 432x288 with 1 Axes>"
      ]
     },
     "metadata": {
      "needs_background": "light"
     },
     "output_type": "display_data"
    },
    {
     "data": {
      "image/png": "[encoded data removed]",
      "text/plain": [
       "<Figure size 432x288 with 1 Axes>"
      ]
     },
     "metadata": {
      "needs_background": "light"
     },
     "output_type": "display_data"
    },
    {
     "data": {
      "image/png": "[encoded data removed]",
      "text/plain": [
       "<Figure size 432x288 with 1 Axes>"
      ]
     },
     "metadata": {
      "needs_background": "light"
     },
     "output_type": "display_data"
    },
    {
     "data": {
      "image/png": "[encoded data removed]",
      "text/plain": [
       "<Figure size 432x288 with 1 Axes>"
      ]
     },
     "metadata": {
      "needs_background": "light"
     },
     "output_type": "display_data"
    },
    {
     "data": {
      "image/png": "[encoded data removed]",
      "text/plain": [
       "<Figure size 432x288 with 1 Axes>"
      ]
     },
     "metadata": {
      "needs_background": "light"
     },
     "output_type": "display_data"
    },
    {
     "data": {
      "image/png": "[encoded data removed]",
      "text/plain": [
       "<Figure size 432x288 with 1 Axes>"
      ]
     },
     "metadata": {
      "needs_background": "light"
     },
     "output_type": "display_data"
    },
    {
     "data": {
      "image/png": "[encoded data removed]",
      "text/plain": [
       "<Figure size 432x288 with 1 Axes>"
      ]
     },
     "metadata": {
      "needs_background": "light"
     },
     "output_type": "display_data"
    }
   ],
   "source": [
    "look_at_categories(cusine)"
   ]
  },
  {
   "cell_type": "code",
   "execution_count": 310,
   "id": "a650c709",
   "metadata": {},
   "outputs": [
    {
     "data": {
      "text/html": [
       "<div>\n",
       "<style scoped>\n",
       "    .dataframe tbody tr th:only-of-type {\n",
       "        vertical-align: middle;\n",
       "    }\n",
       "\n",
       "    .dataframe tbody tr th {\n",
       "        vertical-align: top;\n",
       "    }\n",
       "\n",
       "    .dataframe thead th {\n",
       "        text-align: right;\n",
       "    }\n",
       "</style>\n",
       "<table border=\"1\" class=\"dataframe\">\n",
       "  <thead>\n",
       "    <tr style=\"text-align: right;\">\n",
       "      <th></th>\n",
       "      <th>total_money_per_client</th>\n",
       "      <th>number_of_orders</th>\n",
       "      <th>mean_price_of_order</th>\n",
       "      <th>mean_quantity_per_order</th>\n",
       "      <th>lifetime</th>\n",
       "    </tr>\n",
       "  </thead>\n",
       "  <tbody>\n",
       "    <tr>\n",
       "      <th>count</th>\n",
       "      <td>126.000000</td>\n",
       "      <td>126.000000</td>\n",
       "      <td>126.000000</td>\n",
       "      <td>126.000000</td>\n",
       "      <td>126.000000</td>\n",
       "    </tr>\n",
       "    <tr>\n",
       "      <th>mean</th>\n",
       "      <td>2087.277778</td>\n",
       "      <td>1.047619</td>\n",
       "      <td>1846.341270</td>\n",
       "      <td>1.785714</td>\n",
       "      <td>0.253968</td>\n",
       "    </tr>\n",
       "    <tr>\n",
       "      <th>std</th>\n",
       "      <td>4798.765461</td>\n",
       "      <td>0.213809</td>\n",
       "      <td>2619.549077</td>\n",
       "      <td>2.447389</td>\n",
       "      <td>1.867347</td>\n",
       "    </tr>\n",
       "    <tr>\n",
       "      <th>min</th>\n",
       "      <td>97.000000</td>\n",
       "      <td>1.000000</td>\n",
       "      <td>97.000000</td>\n",
       "      <td>1.000000</td>\n",
       "      <td>0.000000</td>\n",
       "    </tr>\n",
       "    <tr>\n",
       "      <th>25%</th>\n",
       "      <td>585.500000</td>\n",
       "      <td>1.000000</td>\n",
       "      <td>582.000000</td>\n",
       "      <td>1.000000</td>\n",
       "      <td>0.000000</td>\n",
       "    </tr>\n",
       "    <tr>\n",
       "      <th>50%</th>\n",
       "      <td>1398.000000</td>\n",
       "      <td>1.000000</td>\n",
       "      <td>1334.000000</td>\n",
       "      <td>1.000000</td>\n",
       "      <td>0.000000</td>\n",
       "    </tr>\n",
       "    <tr>\n",
       "      <th>75%</th>\n",
       "      <td>2080.500000</td>\n",
       "      <td>1.000000</td>\n",
       "      <td>2024.000000</td>\n",
       "      <td>1.000000</td>\n",
       "      <td>0.000000</td>\n",
       "    </tr>\n",
       "    <tr>\n",
       "      <th>max</th>\n",
       "      <td>53232.000000</td>\n",
       "      <td>2.000000</td>\n",
       "      <td>26616.000000</td>\n",
       "      <td>16.000000</td>\n",
       "      <td>20.000000</td>\n",
       "    </tr>\n",
       "  </tbody>\n",
       "</table>\n",
       "</div>"
      ],
      "text/plain": [
       "       total_money_per_client  number_of_orders  mean_price_of_order  \\\n",
       "count              126.000000        126.000000           126.000000   \n",
       "mean              2087.277778          1.047619          1846.341270   \n",
       "std               4798.765461          0.213809          2619.549077   \n",
       "min                 97.000000          1.000000            97.000000   \n",
       "25%                585.500000          1.000000           582.000000   \n",
       "50%               1398.000000          1.000000          1334.000000   \n",
       "75%               2080.500000          1.000000          2024.000000   \n",
       "max              53232.000000          2.000000         26616.000000   \n",
       "\n",
       "       mean_quantity_per_order    lifetime  \n",
       "count               126.000000  126.000000  \n",
       "mean                  1.785714    0.253968  \n",
       "std                   2.447389    1.867347  \n",
       "min                   1.000000    0.000000  \n",
       "25%                   1.000000    0.000000  \n",
       "50%                   1.000000    0.000000  \n",
       "75%                   1.000000    0.000000  \n",
       "max                  16.000000   20.000000  "
      ]
     },
     "metadata": {},
     "output_type": "display_data"
    },
    {
     "data": {
      "image/png": "[encoded data removed]",
      "text/plain": [
       "<Figure size 432x288 with 1 Axes>"
      ]
     },
     "metadata": {
      "needs_background": "light"
     },
     "output_type": "display_data"
    },
    {
     "data": {
      "image/png": "[encoded data removed]",
      "text/plain": [
       "<Figure size 432x288 with 1 Axes>"
      ]
     },
     "metadata": {
      "needs_background": "light"
     },
     "output_type": "display_data"
    },
    {
     "data": {
      "image/png": "[encoded data removed]",
      "text/plain": [
       "<Figure size 432x288 with 1 Axes>"
      ]
     },
     "metadata": {
      "needs_background": "light"
     },
     "output_type": "display_data"
    },
    {
     "data": {
      "image/png": "[encoded data removed]",
      "text/plain": [
       "<Figure size 432x288 with 1 Axes>"
      ]
     },
     "metadata": {
      "needs_background": "light"
     },
     "output_type": "display_data"
    },
    {
     "data": {
      "image/png": "[encoded data removed]",
      "text/plain": [
       "<Figure size 432x288 with 1 Axes>"
      ]
     },
     "metadata": {
      "needs_background": "light"
     },
     "output_type": "display_data"
    },
    {
     "data": {
      "image/png": "[encoded data removed]",
      "text/plain": [
       "<Figure size 432x288 with 1 Axes>"
      ]
     },
     "metadata": {
      "needs_background": "light"
     },
     "output_type": "display_data"
    },
    {
     "data": {
      "image/png": "[encoded data removed]",
      "text/plain": [
       "<Figure size 432x288 with 1 Axes>"
      ]
     },
     "metadata": {
      "needs_background": "light"
     },
     "output_type": "display_data"
    }
   ],
   "source": [
    "look_at_categories(uyt)"
   ]
  },
  {
   "cell_type": "code",
   "execution_count": 311,
   "id": "2b8e838a",
   "metadata": {},
   "outputs": [
    {
     "data": {
      "text/html": [
       "<div>\n",
       "<style scoped>\n",
       "    .dataframe tbody tr th:only-of-type {\n",
       "        vertical-align: middle;\n",
       "    }\n",
       "\n",
       "    .dataframe tbody tr th {\n",
       "        vertical-align: top;\n",
       "    }\n",
       "\n",
       "    .dataframe thead th {\n",
       "        text-align: right;\n",
       "    }\n",
       "</style>\n",
       "<table border=\"1\" class=\"dataframe\">\n",
       "  <thead>\n",
       "    <tr style=\"text-align: right;\">\n",
       "      <th></th>\n",
       "      <th>total_money_per_client</th>\n",
       "      <th>number_of_orders</th>\n",
       "      <th>mean_price_of_order</th>\n",
       "      <th>mean_quantity_per_order</th>\n",
       "      <th>lifetime</th>\n",
       "    </tr>\n",
       "  </thead>\n",
       "  <tbody>\n",
       "    <tr>\n",
       "      <th>count</th>\n",
       "      <td>64.000000</td>\n",
       "      <td>64.000000</td>\n",
       "      <td>64.000000</td>\n",
       "      <td>64.000000</td>\n",
       "      <td>64.000000</td>\n",
       "    </tr>\n",
       "    <tr>\n",
       "      <th>mean</th>\n",
       "      <td>1545.750000</td>\n",
       "      <td>1.046875</td>\n",
       "      <td>1484.921875</td>\n",
       "      <td>1.578125</td>\n",
       "      <td>0.046875</td>\n",
       "    </tr>\n",
       "    <tr>\n",
       "      <th>std</th>\n",
       "      <td>1746.128716</td>\n",
       "      <td>0.213042</td>\n",
       "      <td>1632.510486</td>\n",
       "      <td>1.780001</td>\n",
       "      <td>0.375000</td>\n",
       "    </tr>\n",
       "    <tr>\n",
       "      <th>min</th>\n",
       "      <td>15.000000</td>\n",
       "      <td>1.000000</td>\n",
       "      <td>15.000000</td>\n",
       "      <td>1.000000</td>\n",
       "      <td>0.000000</td>\n",
       "    </tr>\n",
       "    <tr>\n",
       "      <th>25%</th>\n",
       "      <td>218.000000</td>\n",
       "      <td>1.000000</td>\n",
       "      <td>215.000000</td>\n",
       "      <td>1.000000</td>\n",
       "      <td>0.000000</td>\n",
       "    </tr>\n",
       "    <tr>\n",
       "      <th>50%</th>\n",
       "      <td>936.500000</td>\n",
       "      <td>1.000000</td>\n",
       "      <td>936.500000</td>\n",
       "      <td>1.000000</td>\n",
       "      <td>0.000000</td>\n",
       "    </tr>\n",
       "    <tr>\n",
       "      <th>75%</th>\n",
       "      <td>1949.000000</td>\n",
       "      <td>1.000000</td>\n",
       "      <td>1949.000000</td>\n",
       "      <td>1.000000</td>\n",
       "      <td>0.000000</td>\n",
       "    </tr>\n",
       "    <tr>\n",
       "      <th>max</th>\n",
       "      <td>7724.000000</td>\n",
       "      <td>2.000000</td>\n",
       "      <td>7724.000000</td>\n",
       "      <td>11.000000</td>\n",
       "      <td>3.000000</td>\n",
       "    </tr>\n",
       "  </tbody>\n",
       "</table>\n",
       "</div>"
      ],
      "text/plain": [
       "       total_money_per_client  number_of_orders  mean_price_of_order  \\\n",
       "count               64.000000         64.000000            64.000000   \n",
       "mean              1545.750000          1.046875          1484.921875   \n",
       "std               1746.128716          0.213042          1632.510486   \n",
       "min                 15.000000          1.000000            15.000000   \n",
       "25%                218.000000          1.000000           215.000000   \n",
       "50%                936.500000          1.000000           936.500000   \n",
       "75%               1949.000000          1.000000          1949.000000   \n",
       "max               7724.000000          2.000000          7724.000000   \n",
       "\n",
       "       mean_quantity_per_order   lifetime  \n",
       "count                64.000000  64.000000  \n",
       "mean                  1.578125   0.046875  \n",
       "std                   1.780001   0.375000  \n",
       "min                   1.000000   0.000000  \n",
       "25%                   1.000000   0.000000  \n",
       "50%                   1.000000   0.000000  \n",
       "75%                   1.000000   0.000000  \n",
       "max                  11.000000   3.000000  "
      ]
     },
     "metadata": {},
     "output_type": "display_data"
    },
    {
     "data": {
      "image/png": "[encoded data removed]",
      "text/plain": [
       "<Figure size 432x288 with 1 Axes>"
      ]
     },
     "metadata": {
      "needs_background": "light"
     },
     "output_type": "display_data"
    },
    {
     "data": {
      "image/png": "[encoded data removed]",
      "text/plain": [
       "<Figure size 432x288 with 1 Axes>"
      ]
     },
     "metadata": {
      "needs_background": "light"
     },
     "output_type": "display_data"
    },
    {
     "data": {
      "image/png": "[encoded data removed]",
      "text/plain": [
       "<Figure size 432x288 with 1 Axes>"
      ]
     },
     "metadata": {
      "needs_background": "light"
     },
     "output_type": "display_data"
    },
    {
     "data": {
      "image/png": "[encoded data removed]",
      "text/plain": [
       "<Figure size 432x288 with 1 Axes>"
      ]
     },
     "metadata": {
      "needs_background": "light"
     },
     "output_type": "display_data"
    },
    {
     "data": {
      "image/png": "[encoded data removed]",
      "text/plain": [
       "<Figure size 432x288 with 1 Axes>"
      ]
     },
     "metadata": {
      "needs_background": "light"
     },
     "output_type": "display_data"
    },
    {
     "data": {
      "image/png": "[encoded data removed]",
      "text/plain": [
       "<Figure size 432x288 with 1 Axes>"
      ]
     },
     "metadata": {
      "needs_background": "light"
     },
     "output_type": "display_data"
    },
    {
     "data": {
      "image/png": "[encoded data removed]",
      "text/plain": [
       "<Figure size 432x288 with 1 Axes>"
      ]
     },
     "metadata": {
      "needs_background": "light"
     },
     "output_type": "display_data"
    }
   ],
   "source": [
    "look_at_categories(instrum)"
   ]
  },
  {
   "cell_type": "markdown",
   "id": "b277ec4a",
   "metadata": {},
   "source": [
    "Отдельно построим графики с интересными особенностями для визуализации в презентации"
   ]
  },
  {
   "cell_type": "code",
   "execution_count": 312,
   "id": "58a9e8bf",
   "metadata": {},
   "outputs": [
    {
     "data": {
      "image/png": "[encoded data removed]",
      "text/plain": [
       "<Figure size 504x288 with 1 Axes>"
      ]
     },
     "metadata": {
      "needs_background": "light"
     },
     "output_type": "display_data"
    }
   ],
   "source": [
    "plt.figure(figsize=(7, 4))\n",
    "plt.title('Распределение по датам заказа')\n",
    "plants['first_date_of_order'].hist(bins=100)\n",
    "plt.savefig('plants.jpg')"
   ]
  },
  {
   "cell_type": "code",
   "execution_count": 313,
   "id": "71a4fafa",
   "metadata": {},
   "outputs": [
    {
     "data": {
      "image/png": "[encoded data removed]",
      "text/plain": [
       "<Figure size 504x288 with 1 Axes>"
      ]
     },
     "metadata": {
      "needs_background": "light"
     },
     "output_type": "display_data"
    }
   ],
   "source": [
    "plt.figure(figsize=(7, 4))\n",
    "plt.xlim(0, 7000)\n",
    "plt.title('Распределение по средней стоимости заказа')\n",
    "uyt['mean_price_of_order'].hist(bins=100)\n",
    "plt.savefig('uyt.jpg')"
   ]
  },
  {
   "cell_type": "code",
   "execution_count": 314,
   "id": "691ba5d6",
   "metadata": {},
   "outputs": [
    {
     "data": {
      "image/png": "[encoded data removed]",
      "text/plain": [
       "<Figure size 504x288 with 1 Axes>"
      ]
     },
     "metadata": {
      "needs_background": "light"
     },
     "output_type": "display_data"
    }
   ],
   "source": [
    "plt.figure(figsize=(7, 4))\n",
    "plt.xlim(0, 8000)\n",
    "plt.title('Распределение по сумме денег от клиента')\n",
    "instrum['total_money_per_client'].hist(bins=100)\n",
    "plt.savefig('instrum.jpg')"
   ]
  },
  {
   "cell_type": "markdown",
   "id": "be2c76e8",
   "metadata": {},
   "source": [
    "#### Профили покупателей по категориям"
   ]
  },
  {
   "cell_type": "markdown",
   "id": "a3272206",
   "metadata": {},
   "source": [
    "**Любители растений и декора**\n",
    "- в среднем приносят около 600 рублей (per client) - мало, по сравнению с другими категориями\n",
    "- совершают 1 заказ\n",
    "- в заказах обычно 4 товара (довольно много, по сравнению с другими группами)\n",
    "- количество заказов значительно увеличивается с начала весны (люди готовятся к лету, закупают рассаду)\n",
    "\n",
    "**Любители товаров для сан.узла**\n",
    "- приносят около 1400 рублей\n",
    "- совершают 1 заказ\n",
    "- в заказе обычно 1-2 товара\n",
    "\n",
    "**Любители аксессуаров**\n",
    "- приносят в среднем 2300 рублей\n",
    "- совершают 1 заказ\n",
    "- в заказе 1-2 товара\n",
    "\n",
    "**Любители товаров для кухни**\n",
    "- приносят 1200 рублей\n",
    "- совершают 1 заказ\n",
    "- в заказе 2-3 товара\n",
    "- количество заказов значительно возрастает к зиме (возможно, потому что посуда - один из основных подарков на новый год)\n",
    "\n",
    "**Любители товаров для уюта**\n",
    "- приносят 2300 рублей\n",
    "- высокая средняя стоимость заказа (2000)\n",
    "- совершают 1 заказ\n",
    "- в заказе 2 товара\n",
    "\n",
    "**Любители инструментов**\n",
    "- приносят в среднем 2300 рублей\n",
    "- совершают 1 заказ\n",
    "- в заказе 2-3 товара \n",
    "- самая высокая средняя стоимость заказа (2200)"
   ]
  },
  {
   "cell_type": "markdown",
   "id": "c7cc0e24",
   "metadata": {},
   "source": [
    "### кластеризация по прибыльности клиентов"
   ]
  },
  {
   "cell_type": "markdown",
   "id": "46ed2b70",
   "metadata": {},
   "source": [
    "Используя методы машинного обучения, кластеризируем клиентов по тому, сколько денег они тратят в магазине. Это поможет понять, есть ли у более прибыльных клиентов какие-то особые приметы"
   ]
  },
  {
   "cell_type": "code",
   "execution_count": 315,
   "id": "7061572d",
   "metadata": {},
   "outputs": [],
   "source": [
    "from sklearn.preprocessing import StandardScaler\n",
    "from sklearn.model_selection import train_test_split\n",
    "\n",
    "from scipy.cluster.hierarchy import dendrogram, linkage \n",
    "from sklearn.cluster import KMeans"
   ]
  },
  {
   "cell_type": "code",
   "execution_count": 316,
   "id": "d3b550cc",
   "metadata": {},
   "outputs": [],
   "source": [
    "X = customers.drop(columns=['total_money_per_client', 'last_date_of_order', 'first_date_of_order', 'fav_category', 'customer_id'], axis=1)\n",
    "y = customers['total_money_per_client']"
   ]
  },
  {
   "cell_type": "code",
   "execution_count": 317,
   "id": "12e78cdf",
   "metadata": {},
   "outputs": [],
   "source": [
    "X_train, X_test, y_train, y_test = train_test_split(X, y, test_size=0.2, random_state=0)"
   ]
  },
  {
   "cell_type": "code",
   "execution_count": 318,
   "id": "f2c79404",
   "metadata": {},
   "outputs": [],
   "source": [
    "# создадим объект класса StandardScaler и применим его к обучающей выборке\n",
    "scaler = StandardScaler()\n",
    "X_train_st = scaler.fit_transform(\n",
    "    X_train\n",
    ")  # обучаем scaler и одновременно трансформируем матрицу для обучающей выборки\n",
    "\n",
    "# применяем стандартизацию к матрице признаков для тестовой выборки\n",
    "X_test_st = scaler.transform(X_test)"
   ]
  },
  {
   "cell_type": "code",
   "execution_count": 319,
   "id": "ebb87131",
   "metadata": {},
   "outputs": [],
   "source": [
    "linked = linkage(X_train, method = 'ward') "
   ]
  },
  {
   "cell_type": "code",
   "execution_count": 320,
   "id": "4ad4fef1",
   "metadata": {},
   "outputs": [
    {
     "data": {
      "image/png": "[encoded data removed]",
      "text/plain": [
       "<Figure size 1080x720 with 1 Axes>"
      ]
     },
     "metadata": {
      "needs_background": "light"
     },
     "output_type": "display_data"
    }
   ],
   "source": [
    "plt.figure(figsize=(15, 10))  \n",
    "dendrogram(linked, orientation='top')\n",
    "plt.title('Hierarchial clustering')\n",
    "plt.show() "
   ]
  },
  {
   "cell_type": "code",
   "execution_count": 322,
   "id": "df87a5a3",
   "metadata": {},
   "outputs": [],
   "source": [
    "sc = StandardScaler()\n",
    "data = customers.drop(columns=['fav_category', 'last_date_of_order', 'first_date_of_order', 'customer_id'], axis=1)\n",
    "x_sc = sc.fit_transform(data)"
   ]
  },
  {
   "cell_type": "code",
   "execution_count": 323,
   "id": "9d6305e0",
   "metadata": {},
   "outputs": [],
   "source": [
    "km = KMeans(n_clusters=2, random_state=0) # задаём число кластеров, равное 5, и фиксируем значение random_state для воспроизводимости результата\n",
    "labels = km.fit_predict(x_sc)"
   ]
  },
  {
   "cell_type": "code",
   "execution_count": 324,
   "id": "efb037c9",
   "metadata": {},
   "outputs": [
    {
     "name": "stdout",
     "output_type": "stream",
     "text": [
      "              total_money_per_client  number_of_orders  mean_price_of_order  \\\n",
      "cluster_km_2                                                                  \n",
      "0                        1083.207588          1.063672          1034.258468   \n",
      "1                        9270.200000          2.966667          4790.988996   \n",
      "\n",
      "              mean_quantity_per_order   lifetime  \n",
      "cluster_km_2                                      \n",
      "0                            2.384722   0.245966  \n",
      "1                            6.174365  52.300000  \n"
     ]
    }
   ],
   "source": [
    "customers['cluster_km_2'] = labels\n",
    "\n",
    "# выводим статистику по средним значениям наших признаков по кластеру\n",
    "clusters = customers.groupby(['cluster_km_2']).mean()\n",
    "print(clusters)\n",
    "import itertools"
   ]
  },
  {
   "cell_type": "code",
   "execution_count": 325,
   "id": "eb30bb10",
   "metadata": {},
   "outputs": [
    {
     "data": {
      "text/plain": [
       "fav_category\n",
       "декор, растения    656\n",
       "аксессуары         462\n",
       "для сан. узла      395\n",
       "другое             334\n",
       "для кухни          257\n",
       "для уюта           125\n",
       "инструменты         64\n",
       "Name: customer_id, dtype: int64"
      ]
     },
     "execution_count": 325,
     "metadata": {},
     "output_type": "execute_result"
    }
   ],
   "source": [
    "customers_benef = customers.query('cluster_km_2 == 0')\n",
    "customers_benef = customers_benef.reset_index()\n",
    "customers_benef.groupby('fav_category')['customer_id'].count().sort_values(ascending=False)"
   ]
  },
  {
   "cell_type": "code",
   "execution_count": 326,
   "id": "c9d12126",
   "metadata": {
    "scrolled": false
   },
   "outputs": [
    {
     "data": {
      "text/plain": [
       "fav_category\n",
       "декор, растения    10\n",
       "другое              9\n",
       "аксессуары          7\n",
       "для кухни           2\n",
       "для сан. узла       1\n",
       "для уюта            1\n",
       "Name: customer_id, dtype: int64"
      ]
     },
     "execution_count": 326,
     "metadata": {},
     "output_type": "execute_result"
    }
   ],
   "source": [
    "customers.query('cluster_km_2 == 1').groupby('fav_category')['customer_id'].count().sort_values(ascending=False)"
   ]
  },
  {
   "cell_type": "code",
   "execution_count": 327,
   "id": "56b40a55",
   "metadata": {},
   "outputs": [
    {
     "data": {
      "text/plain": [
       "Series([], Name: customer_id, dtype: int64)"
      ]
     },
     "execution_count": 327,
     "metadata": {},
     "output_type": "execute_result"
    }
   ],
   "source": [
    "customers.query('cluster_km_2 == 2').groupby('fav_category')['customer_id'].count().sort_values(ascending=False)"
   ]
  },
  {
   "cell_type": "markdown",
   "id": "d3cefa0f",
   "metadata": {},
   "source": [
    "Выводы получились абсолютно закономерные: более прибыльные клиенты покупают больше, остаются с магазином дольше, больше всего любят растения, аксессуары и товары для сан.узла, совершают в среднем 3 заказа"
   ]
  },
  {
   "cell_type": "markdown",
   "id": "aaeca0c1",
   "metadata": {},
   "source": [
    "### Проверка гипотез"
   ]
  },
  {
   "cell_type": "markdown",
   "id": "b61cc624",
   "metadata": {},
   "source": [
    "Проверим некоторые гипотезы, относительно заказов совершенных в будни и выходные."
   ]
  },
  {
   "cell_type": "code",
   "execution_count": 328,
   "id": "4f683c80",
   "metadata": {},
   "outputs": [],
   "source": [
    "def day_off(day_of_week):\n",
    "    if day_of_week in ['Saturday', 'Sunday']:\n",
    "        return 1\n",
    "    else:\n",
    "        return 0"
   ]
  },
  {
   "cell_type": "markdown",
   "id": "45969dec",
   "metadata": {},
   "source": [
    "**H0:** средняя стоимость заказов, совершенных в будни и выходные, одинаковая, т.е. средние стоимости одинаковы.\n",
    "\n",
    "**H1:** средняя стоимость заказов, совершенных в будни и выходные, отличается, т.е. средние стоимости различаются."
   ]
  },
  {
   "cell_type": "code",
   "execution_count": 329,
   "id": "022115c3",
   "metadata": {},
   "outputs": [
    {
     "name": "stderr",
     "output_type": "stream",
     "text": [
      "<ipython-input-329-4ff590eb774a>:1: SettingWithCopyWarning: \n",
      "A value is trying to be set on a copy of a slice from a DataFrame.\n",
      "Try using .loc[row_indexer,col_indexer] = value instead\n",
      "\n",
      "See the caveats in the documentation: https://pandas.pydata.org/pandas-docs/stable/user_guide/indexing.html#returning-a-view-versus-a-copy\n",
      "  orders_clear['day_off'] = orders_clear['day_name'].apply(day_off)\n"
     ]
    },
    {
     "data": {
      "text/html": [
       "<div>\n",
       "<style scoped>\n",
       "    .dataframe tbody tr th:only-of-type {\n",
       "        vertical-align: middle;\n",
       "    }\n",
       "\n",
       "    .dataframe tbody tr th {\n",
       "        vertical-align: top;\n",
       "    }\n",
       "\n",
       "    .dataframe thead th {\n",
       "        text-align: right;\n",
       "    }\n",
       "</style>\n",
       "<table border=\"1\" class=\"dataframe\">\n",
       "  <thead>\n",
       "    <tr style=\"text-align: right;\">\n",
       "      <th></th>\n",
       "      <th>quantity_of_products</th>\n",
       "      <th>sum_of_order</th>\n",
       "      <th>date</th>\n",
       "      <th>customer_id</th>\n",
       "      <th>weekday</th>\n",
       "      <th>hour</th>\n",
       "      <th>year</th>\n",
       "      <th>day_name</th>\n",
       "      <th>day_off</th>\n",
       "    </tr>\n",
       "    <tr>\n",
       "      <th>order_id</th>\n",
       "      <th></th>\n",
       "      <th></th>\n",
       "      <th></th>\n",
       "      <th></th>\n",
       "      <th></th>\n",
       "      <th></th>\n",
       "      <th></th>\n",
       "      <th></th>\n",
       "      <th></th>\n",
       "    </tr>\n",
       "  </thead>\n",
       "  <tbody>\n",
       "    <tr>\n",
       "      <th>12624</th>\n",
       "      <td>2</td>\n",
       "      <td>375.0</td>\n",
       "      <td>2019-06-02 20:00:00</td>\n",
       "      <td>d17861fa-db5f-4de4-93fd-dc5e60d24d3e</td>\n",
       "      <td>6</td>\n",
       "      <td>20</td>\n",
       "      <td>2019</td>\n",
       "      <td>Sunday</td>\n",
       "      <td>1</td>\n",
       "    </tr>\n",
       "    <tr>\n",
       "      <th>13547</th>\n",
       "      <td>3</td>\n",
       "      <td>684.0</td>\n",
       "      <td>2018-10-05 00:00:00</td>\n",
       "      <td>b80e4826-7218-4bf9-ac08-eb2c81ab3f62</td>\n",
       "      <td>4</td>\n",
       "      <td>0</td>\n",
       "      <td>2018</td>\n",
       "      <td>Friday</td>\n",
       "      <td>0</td>\n",
       "    </tr>\n",
       "    <tr>\n",
       "      <th>14480</th>\n",
       "      <td>3</td>\n",
       "      <td>359.0</td>\n",
       "      <td>2018-10-02 11:00:00</td>\n",
       "      <td>f08d9018-438e-4e96-b519-f74c0302a433</td>\n",
       "      <td>1</td>\n",
       "      <td>11</td>\n",
       "      <td>2018</td>\n",
       "      <td>Tuesday</td>\n",
       "      <td>0</td>\n",
       "    </tr>\n",
       "    <tr>\n",
       "      <th>14481</th>\n",
       "      <td>4</td>\n",
       "      <td>600.0</td>\n",
       "      <td>2018-10-02 17:00:00</td>\n",
       "      <td>49b9c587-c19e-4481-bace-967aeac357fa</td>\n",
       "      <td>1</td>\n",
       "      <td>17</td>\n",
       "      <td>2018</td>\n",
       "      <td>Tuesday</td>\n",
       "      <td>0</td>\n",
       "    </tr>\n",
       "    <tr>\n",
       "      <th>14482</th>\n",
       "      <td>2</td>\n",
       "      <td>376.0</td>\n",
       "      <td>2018-10-07 12:00:00</td>\n",
       "      <td>43993fd2-20c9-44f7-8634-cf0aee26df4f</td>\n",
       "      <td>6</td>\n",
       "      <td>12</td>\n",
       "      <td>2018</td>\n",
       "      <td>Sunday</td>\n",
       "      <td>1</td>\n",
       "    </tr>\n",
       "  </tbody>\n",
       "</table>\n",
       "</div>"
      ],
      "text/plain": [
       "          quantity_of_products  sum_of_order                date  \\\n",
       "order_id                                                           \n",
       "12624                        2         375.0 2019-06-02 20:00:00   \n",
       "13547                        3         684.0 2018-10-05 00:00:00   \n",
       "14480                        3         359.0 2018-10-02 11:00:00   \n",
       "14481                        4         600.0 2018-10-02 17:00:00   \n",
       "14482                        2         376.0 2018-10-07 12:00:00   \n",
       "\n",
       "                                   customer_id  weekday  hour  year day_name  \\\n",
       "order_id                                                                       \n",
       "12624     d17861fa-db5f-4de4-93fd-dc5e60d24d3e        6    20  2019   Sunday   \n",
       "13547     b80e4826-7218-4bf9-ac08-eb2c81ab3f62        4     0  2018   Friday   \n",
       "14480     f08d9018-438e-4e96-b519-f74c0302a433        1    11  2018  Tuesday   \n",
       "14481     49b9c587-c19e-4481-bace-967aeac357fa        1    17  2018  Tuesday   \n",
       "14482     43993fd2-20c9-44f7-8634-cf0aee26df4f        6    12  2018   Sunday   \n",
       "\n",
       "          day_off  \n",
       "order_id           \n",
       "12624           1  \n",
       "13547           0  \n",
       "14480           0  \n",
       "14481           0  \n",
       "14482           1  "
      ]
     },
     "execution_count": 329,
     "metadata": {},
     "output_type": "execute_result"
    }
   ],
   "source": [
    "orders_clear['day_off'] = orders_clear['day_name'].apply(day_off)\n",
    "#df['day_on'] = df['name_day'].apply(day_on)\n",
    "orders_clear.head()"
   ]
  },
  {
   "cell_type": "code",
   "execution_count": 330,
   "id": "211fb41b",
   "metadata": {},
   "outputs": [
    {
     "name": "stdout",
     "output_type": "stream",
     "text": [
      "p-значение:  0.31681569808336707\n",
      "Опровергнуть нулевую гипотезу нельзя\n"
     ]
    }
   ],
   "source": [
    "# проведем статистический тест\n",
    "sample_1 = orders_clear[orders_clear['day_off'] == 0]['sum_of_order'] \n",
    "sample_2 = orders_clear[orders_clear['day_off'] == 1]['sum_of_order'] \n",
    "results = st.ttest_ind( sample_1, sample_2)\n",
    "alpha = 0.05\n",
    "\n",
    "print('p-значение: ', results.pvalue)\n",
    "if results.pvalue < alpha:\n",
    "    print('Принимаем альтернативную гипотезу')\n",
    "else:\n",
    "    print('Опровергнуть нулевую гипотезу нельзя')"
   ]
  },
  {
   "cell_type": "markdown",
   "id": "4d1513b9",
   "metadata": {},
   "source": [
    "**H0:** среднее количество товаров в заказах, совершенных в будни и выходные, равно, т.е. средние значения одинаковы.\n",
    "\n",
    "**H1:** среднее количество товаров в заказах, совершенных в будни и выходные, отличается, т.е. средние значения различны."
   ]
  },
  {
   "cell_type": "code",
   "execution_count": 331,
   "id": "3daaee13",
   "metadata": {},
   "outputs": [
    {
     "name": "stdout",
     "output_type": "stream",
     "text": [
      "p-значение:  0.44865867873101717\n",
      "Опровергнуть нулевую гипотезу нельзя\n"
     ]
    }
   ],
   "source": [
    "# проведем статистический тест\n",
    "sample_1 = orders_clear[orders_clear['day_off'] == 0]['quantity_of_products'] \n",
    "sample_2 = orders_clear[orders_clear['day_off'] == 1]['quantity_of_products'] \n",
    "results = st.ttest_ind( sample_1, sample_2)\n",
    "alpha = 0.05\n",
    "\n",
    "print('p-значение: ', results.pvalue)\n",
    "if results.pvalue < alpha:\n",
    "    print('Принимаем альтернативную гипотезу')\n",
    "else:\n",
    "    print('Опровергнуть нулевую гипотезу нельзя')"
   ]
  },
  {
   "cell_type": "markdown",
   "id": "e656dd2e",
   "metadata": {},
   "source": [
    "## Итоговые выводы и рекомендации"
   ]
  },
  {
   "cell_type": "markdown",
   "id": "61673b8c",
   "metadata": {},
   "source": [
    "**Про заказы:**\n",
    "- наибольшую выручку магазину приносит категория \"аксессуары\", в которую входят такие товары, как чехлы, кофры, сумки и т.д.\n",
    "- наименьшую выручку приносят категории \"инструменты\", \"для уюта\" и \"для кухни\"\n",
    "- наибольший средний чек приносит категория \"для уюта\". кроме нескольких всплесков в начале периода, средние чеки довольно стабильны\n",
    "- по дням недели: наибольшие заказы делаются в воскресенье (в 2018 году). причем в 2018 году суммы заказов были незначительно, но выше, чем в 2019 году. в 2019 суммы заказов по дням несильно различаются.\n",
    "- по часам: больше всего заказов делается в дневной промежуток (с 10 до 15 часов). по ночам люди заказывают меньше товаров, но суммы заказов довольно большие\n",
    "\n",
    "**Про клиентов:**\n",
    "- каждый клиент в среднем приносит магазину 1500 тысячи и совершает 1-2 заказа, в которых по 2-3 товара \n",
    "- у магазина очень мало постоянных клиентов, совершивших более 2х заказов, и отсюда lifetime клиентов низкий\n",
    "- самые популярные \"любимые\" категории у клиентов: аксессуары и инструменты\n",
    "- интересно, что крайне мало клиентов, любителей товаров из категории \"декор, растения\", однако товаров этой категории больше всего в датасете"
   ]
  },
  {
   "cell_type": "markdown",
   "id": "c72cf794",
   "metadata": {},
   "source": [
    "**Любители растений и декора**\n",
    "- в среднем приносят около 600 рублей (per client) - мало, по сравнению с другими категориями\n",
    "- совершают 1 заказ\n",
    "- в заказах обычно 4 товара (довольно много, по сравнению с другими группами)\n",
    "- количество заказов значительно увеличивается с начала весны (люди готовятся к лету, закупают рассаду)\n",
    "\n",
    "**Любители товаров для сан.узла**\n",
    "- приносят около 1400 рублей\n",
    "- совершают 1 заказ\n",
    "- в заказе обычно 1-2 товара\n",
    "\n",
    "**Любители аксессуаров**\n",
    "- приносят в среднем 2300 рублей\n",
    "- совершают 1 заказ\n",
    "- в заказе 1-2 товара\n",
    "\n",
    "**Любители товаров для кухни**\n",
    "- приносят 1200 рублей\n",
    "- совершают 1 заказ\n",
    "- в заказе 2-3 товара\n",
    "- количество заказов значительно возрастает к зиме (возможно, потому что посуда - один из основных подарков на новый год)\n",
    "\n",
    "**Любители товаров для уюта**\n",
    "- приносят 2300 рублей\n",
    "- высокая средняя стоимость заказа (2000)\n",
    "- совершают 1 заказ\n",
    "- в заказе 2 товара\n",
    "\n",
    "**Любители инструментов**\n",
    "- приносят в среднем 2300 рублей\n",
    "- совершают 1 заказ\n",
    "- в заказе 2-3 товара \n",
    "- самая высокая средняя стоимость заказа (2200)"
   ]
  },
  {
   "cell_type": "markdown",
   "id": "b9d07736",
   "metadata": {},
   "source": [
    "**По итогу проверки гипотез:** средняя стоимость заказа и среднее количество товаров в заказе не изменяется в зависимости от буднего или выходного дня."
   ]
  },
  {
   "cell_type": "markdown",
   "id": "7d68a693",
   "metadata": {},
   "source": [
    "**Рекомендации**:\n",
    "- стремиться удерживать клиентов дольше: сейчас у магазина подавляющее большинство покупателей, совершивших всего один заказ. возможные решения: промокоды на скидки для последующих заказов, создание системы лояльности\n",
    "- улучшать систему автоматического подбора \"подходящих\" товаров на основе выбранных пользователем: сейчас количество товаров в заказах довольно низкое, в среднем не превышает 3. необходимо улучшать персонализированные алгоритмы, которые смогут подсказывать пользователю, что он мог забыть (например, при покупке светильника предложить лампочки)\n",
    "- учитывать фактор сезонности: у отдельных категорий наблюдается очень сильная зависимость от времени года (например, среди растений). это важно принимать во внимания планируя закупки и рекламу"
   ]
  },
  {
   "cell_type": "code",
   "execution_count": null,
   "id": "ebf18cba",
   "metadata": {},
   "outputs": [],
   "source": []
  }
 ],
 "metadata": {
  "kernelspec": {
   "display_name": "Python 3",
   "language": "python",
   "name": "python3"
  },
  "language_info": {
   "codemirror_mode": {
    "name": "ipython",
    "version": 3
   },
   "file_extension": ".py",
   "mimetype": "text/x-python",
   "name": "python",
   "nbconvert_exporter": "python",
   "pygments_lexer": "ipython3",
   "version": "3.8.8"
  },
  "toc": {
   "base_numbering": 1,
   "nav_menu": {},
   "number_sections": true,
   "sideBar": true,
   "skip_h1_title": true,
   "title_cell": "Table of Contents",
   "title_sidebar": "Contents",
   "toc_cell": true,
   "toc_position": {
    "height": "calc(100% - 180px)",
    "left": "10px",
    "top": "150px",
    "width": "256px"
   },
   "toc_section_display": true,
   "toc_window_display": true
  }
 },
 "nbformat": 4,
 "nbformat_minor": 5
}
